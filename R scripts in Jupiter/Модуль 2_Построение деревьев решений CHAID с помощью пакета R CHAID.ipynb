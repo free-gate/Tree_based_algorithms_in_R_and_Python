{
 "cells": [
  {
   "cell_type": "markdown",
   "metadata": {},
   "source": [
    "<center>\n",
    "# МОДУЛЬ 2. ПОСТРОЕНИЕ ДЕРЕВЬЕВ РЕШЕНИЙ CHAID С ПОМОЩЬЮ ПАКЕТА R CHAID"
   ]
  },
  {
   "cell_type": "markdown",
   "metadata": {},
   "source": [
    "# Лекция 2.1. Знакомство с методом CHAID"
   ]
  },
  {
   "cell_type": "markdown",
   "metadata": {},
   "source": [
    "## 2.1.1. Описание алгоритма"
   ]
  },
  {
   "cell_type": "markdown",
   "metadata": {},
   "source": [
    "## 2.1.2. Немного о тесте хи-квадрат"
   ]
  },
  {
   "cell_type": "markdown",
   "metadata": {},
   "source": [
    "## 2.1.3. Способы объединения категорий предикторов"
   ]
  },
  {
   "cell_type": "markdown",
   "metadata": {},
   "source": [
    "## 2.1.4. Поправка Бонферрони"
   ]
  },
  {
   "cell_type": "markdown",
   "metadata": {},
   "source": [
    "## 2.1.5. Иллюстрация работы CHAID на конкретном примере"
   ]
  },
  {
   "cell_type": "markdown",
   "metadata": {},
   "source": [
    "# Лекция 2.2. Предварительная подготовка данных перед построением  модели дерева CHAID"
   ]
  },
  {
   "cell_type": "markdown",
   "metadata": {},
   "source": [
    "## 2.2.1. Загрузка данных"
   ]
  },
  {
   "cell_type": "code",
   "execution_count": 1,
   "metadata": {},
   "outputs": [],
   "source": [
    "# для работы с программным кодом R в Jupiter,\n",
    "# запустите Anaconda Prompt и установите \n",
    "# пакет r-essentials с помощью строки \n",
    "# conda install r-essentials\n",
    "\n",
    "# считываем CSV-файл в датафрейм data\n",
    "data <- read.csv2(\"C:/Trees/Churn.csv\", sep = \";\")"
   ]
  },
  {
   "cell_type": "markdown",
   "metadata": {},
   "source": [
    "## 2.2.2. Фиксация пустых строковых значений как пропусков"
   ]
  },
  {
   "cell_type": "code",
   "execution_count": 2,
   "metadata": {
    "scrolled": false
   },
   "outputs": [
    {
     "data": {
      "text/html": [
       "<table>\n",
       "<thead><tr><th scope=col>longdist</th><th scope=col>local</th><th scope=col>int_disc</th><th scope=col>billtype</th><th scope=col>pay</th><th scope=col>gender</th><th scope=col>marital</th><th scope=col>income</th><th scope=col>agecat</th><th scope=col>churn</th></tr></thead>\n",
       "<tbody>\n",
       "\t<tr><td>&lt;2                                           </td><td>&lt;8                                           </td><td>Нет                                             </td><td>Бюджетный                                       </td><td><span style=white-space:pre-wrap>CC  </span>    </td><td>Мужской                                         </td><td><span style=white-space:pre-wrap>Женат   </span></td><td>77680.0                                         </td><td>&lt;31                                          </td><td>1                                               </td></tr>\n",
       "\t<tr><td><span style=white-space:pre-wrap>  </span>      </td><td>&lt;8                                           </td><td>Нет                                             </td><td>Бесплатный                                      </td><td><span style=white-space:pre-wrap>CC  </span>    </td><td>Мужской                                         </td><td><span style=white-space:pre-wrap>Женат   </span></td><td>37111.5                                         </td><td>&lt;31                                          </td><td>1                                               </td></tr>\n",
       "\t<tr><td>&lt;2                                             </td><td>&lt;8                                             </td><td>Нет                                               </td><td><span style=white-space:pre-wrap>          </span></td><td><span style=white-space:pre-wrap>CC  </span>      </td><td>Мужской                                           </td><td><span style=white-space:pre-wrap>Женат   </span>  </td><td><span style=white-space:pre-wrap>     NA</span>   </td><td><span style=white-space:pre-wrap>   </span>       </td><td>1                                                 </td></tr>\n",
       "\t<tr><td>&lt;2                                          </td><td>&lt;8                                          </td><td><span style=white-space:pre-wrap>   </span>    </td><td>Бесплатный                                     </td><td><span style=white-space:pre-wrap>CH  </span>   </td><td>Мужской                                        </td><td>Одинокий                                       </td><td><span style=white-space:pre-wrap>     NA</span></td><td>&lt;31                                         </td><td>0                                              </td></tr>\n",
       "\t<tr><td>&lt;2                                          </td><td><span style=white-space:pre-wrap>  </span>     </td><td>Нет                                            </td><td>Бесплатный                                     </td><td>Auto                                           </td><td><span style=white-space:pre-wrap>       </span></td><td>Одинокий                                       </td><td>16829.6                                        </td><td>&lt;31                                         </td><td>1                                              </td></tr>\n",
       "\t<tr><td><span style=white-space:pre-wrap>  </span>  </td><td>&lt;8                                       </td><td>Нет                                         </td><td>Бесплатный                                  </td><td><span style=white-space:pre-wrap>    </span></td><td>Женский                                     </td><td>Одинокий                                    </td><td>57272.7                                     </td><td>&lt;31                                      </td><td>1                                           </td></tr>\n",
       "\t<tr><td><span style=white-space:pre-wrap>  </span>      </td><td>&lt;8                                           </td><td>Нет                                             </td><td>Бюджетный                                       </td><td><span style=white-space:pre-wrap>    </span>    </td><td>Мужской                                         </td><td><span style=white-space:pre-wrap>Женат   </span></td><td><span style=white-space:pre-wrap>     NA</span> </td><td>&lt;31                                          </td><td>1                                               </td></tr>\n",
       "\t<tr><td>&lt;2                                           </td><td>&lt;8                                           </td><td>Нет                                             </td><td>Бесплатный                                      </td><td>Auto                                            </td><td>Мужской                                         </td><td><span style=white-space:pre-wrap>        </span></td><td><span style=white-space:pre-wrap>     NA</span> </td><td>&lt;31                                          </td><td>1                                               </td></tr>\n",
       "\t<tr><td>&lt;2                                             </td><td>&lt;8                                             </td><td>Да                                                </td><td><span style=white-space:pre-wrap>          </span></td><td><span style=white-space:pre-wrap>CH  </span>      </td><td>Мужской                                           </td><td>Одинокий                                          </td><td>92167.3                                           </td><td>&lt;31                                            </td><td>1                                                 </td></tr>\n",
       "\t<tr><td>&lt;2                                           </td><td>&lt;8                                           </td><td>Нет                                             </td><td>Бесплатный                                      </td><td><span style=white-space:pre-wrap>CC  </span>    </td><td>Мужской                                         </td><td><span style=white-space:pre-wrap>Женат   </span></td><td>37135.5                                         </td><td>&lt;31                                          </td><td>1                                               </td></tr>\n",
       "</tbody>\n",
       "</table>\n"
      ],
      "text/latex": [
       "\\begin{tabular}{r|llllllllll}\n",
       " longdist & local & int\\_disc & billtype & pay & gender & marital & income & agecat & churn\\\\\n",
       "\\hline\n",
       "\t <2         & <8         & Нет        & Бюджетный  & CC         & Мужской    & Женат      & 77680.0    & <31        & 1         \\\\\n",
       "\t            & <8         & Нет        & Бесплатный & CC         & Мужской    & Женат      & 37111.5    & <31        & 1         \\\\\n",
       "\t <2         & <8         & Нет        &            & CC         & Мужской    & Женат      &      NA    &            & 1         \\\\\n",
       "\t <2         & <8         &            & Бесплатный & CH         & Мужской    & Одинокий   &      NA    & <31        & 0         \\\\\n",
       "\t <2         &            & Нет        & Бесплатный & Auto       &            & Одинокий   & 16829.6    & <31        & 1         \\\\\n",
       "\t            & <8         & Нет        & Бесплатный &            & Женский    & Одинокий   & 57272.7    & <31        & 1         \\\\\n",
       "\t            & <8         & Нет        & Бюджетный  &            & Мужской    & Женат      &      NA    & <31        & 1         \\\\\n",
       "\t <2         & <8         & Нет        & Бесплатный & Auto       & Мужской    &            &      NA    & <31        & 1         \\\\\n",
       "\t <2         & <8         & Да         &            & CH         & Мужской    & Одинокий   & 92167.3    & <31        & 1         \\\\\n",
       "\t <2         & <8         & Нет        & Бесплатный & CC         & Мужской    & Женат      & 37135.5    & <31        & 1         \\\\\n",
       "\\end{tabular}\n"
      ],
      "text/markdown": [
       "\n",
       "longdist | local | int_disc | billtype | pay | gender | marital | income | agecat | churn | \n",
       "|---|---|---|---|---|---|---|---|---|---|\n",
       "| <2         | <8         | Нет        | Бюджетный  | CC         | Мужской    | Женат      | 77680.0    | <31        | 1          | \n",
       "|            | <8         | Нет        | Бесплатный | CC         | Мужской    | Женат      | 37111.5    | <31        | 1          | \n",
       "| <2         | <8         | Нет        |            | CC         | Мужской    | Женат      |      NA    |            | 1          | \n",
       "| <2         | <8         |            | Бесплатный | CH         | Мужской    | Одинокий   |      NA    | <31        | 0          | \n",
       "| <2         |            | Нет        | Бесплатный | Auto       |            | Одинокий   | 16829.6    | <31        | 1          | \n",
       "|            | <8         | Нет        | Бесплатный |            | Женский    | Одинокий   | 57272.7    | <31        | 1          | \n",
       "|            | <8         | Нет        | Бюджетный  |            | Мужской    | Женат      |      NA    | <31        | 1          | \n",
       "| <2         | <8         | Нет        | Бесплатный | Auto       | Мужской    |            |      NA    | <31        | 1          | \n",
       "| <2         | <8         | Да         |            | CH         | Мужской    | Одинокий   | 92167.3    | <31        | 1          | \n",
       "| <2         | <8         | Нет        | Бесплатный | CC         | Мужской    | Женат      | 37135.5    | <31        | 1          | \n",
       "\n",
       "\n"
      ],
      "text/plain": [
       "   longdist local int_disc billtype   pay  gender  marital  income  agecat\n",
       "1  <2       <8    Нет      Бюджетный  CC   Мужской Женат    77680.0 <31   \n",
       "2           <8    Нет      Бесплатный CC   Мужской Женат    37111.5 <31   \n",
       "3  <2       <8    Нет                 CC   Мужской Женат         NA       \n",
       "4  <2       <8             Бесплатный CH   Мужской Одинокий      NA <31   \n",
       "5  <2             Нет      Бесплатный Auto         Одинокий 16829.6 <31   \n",
       "6           <8    Нет      Бесплатный      Женский Одинокий 57272.7 <31   \n",
       "7           <8    Нет      Бюджетный       Мужской Женат         NA <31   \n",
       "8  <2       <8    Нет      Бесплатный Auto Мужской               NA <31   \n",
       "9  <2       <8    Да                  CH   Мужской Одинокий 92167.3 <31   \n",
       "10 <2       <8    Нет      Бесплатный CC   Мужской Женат    37135.5 <31   \n",
       "   churn\n",
       "1  1    \n",
       "2  1    \n",
       "3  1    \n",
       "4  0    \n",
       "5  1    \n",
       "6  1    \n",
       "7  1    \n",
       "8  1    \n",
       "9  1    \n",
       "10 1    "
      ]
     },
     "metadata": {},
     "output_type": "display_data"
    }
   ],
   "source": [
    "# смотрим первые 10 наблюдений \n",
    "# датафрейма data\n",
    "head(data, 10)"
   ]
  },
  {
   "cell_type": "code",
   "execution_count": 3,
   "metadata": {},
   "outputs": [
    {
     "data": {
      "text/html": [
       "4"
      ],
      "text/latex": [
       "4"
      ],
      "text/markdown": [
       "4"
      ],
      "text/plain": [
       "[1] 4"
      ]
     },
     "metadata": {},
     "output_type": "display_data"
    }
   ],
   "source": [
    "# выводим количество пропусков\n",
    "# по переменной income \n",
    "sum(is.na(data$income))"
   ]
  },
  {
   "cell_type": "code",
   "execution_count": 4,
   "metadata": {},
   "outputs": [
    {
     "data": {
      "text/html": [
       "0"
      ],
      "text/latex": [
       "0"
      ],
      "text/markdown": [
       "0"
      ],
      "text/plain": [
       "[1] 0"
      ]
     },
     "metadata": {},
     "output_type": "display_data"
    }
   ],
   "source": [
    "# выводим количество пропусков\n",
    "# по переменной pay \n",
    "sum(is.na(data$pay))"
   ]
  },
  {
   "cell_type": "code",
   "execution_count": 5,
   "metadata": {},
   "outputs": [],
   "source": [
    "# помечаем пустые строковые\n",
    "# значения как пропуски \n",
    "is.na(data) <- data == \"\""
   ]
  },
  {
   "cell_type": "code",
   "execution_count": 6,
   "metadata": {},
   "outputs": [
    {
     "data": {
      "text/html": [
       "<table>\n",
       "<thead><tr><th scope=col>longdist</th><th scope=col>local</th><th scope=col>int_disc</th><th scope=col>billtype</th><th scope=col>pay</th><th scope=col>gender</th><th scope=col>marital</th><th scope=col>income</th><th scope=col>agecat</th><th scope=col>churn</th></tr></thead>\n",
       "<tbody>\n",
       "\t<tr><td>&lt;2                                           </td><td>&lt;8                                           </td><td>Нет                                             </td><td>Бюджетный                                       </td><td><span style=white-space:pre-wrap>CC  </span>    </td><td>Мужской                                         </td><td><span style=white-space:pre-wrap>Женат   </span></td><td>77680.0                                         </td><td>&lt;31                                          </td><td>1                                               </td></tr>\n",
       "\t<tr><td>NA                                              </td><td>&lt;8                                           </td><td>Нет                                             </td><td>Бесплатный                                      </td><td><span style=white-space:pre-wrap>CC  </span>    </td><td>Мужской                                         </td><td><span style=white-space:pre-wrap>Женат   </span></td><td>37111.5                                         </td><td>&lt;31                                          </td><td>1                                               </td></tr>\n",
       "\t<tr><td>&lt;2                                             </td><td>&lt;8                                             </td><td>Нет                                               </td><td><span style=white-space:pre-wrap>NA        </span></td><td><span style=white-space:pre-wrap>CC  </span>      </td><td>Мужской                                           </td><td><span style=white-space:pre-wrap>Женат   </span>  </td><td><span style=white-space:pre-wrap>     NA</span>   </td><td>NA                                                </td><td>1                                                 </td></tr>\n",
       "\t<tr><td>&lt;2                                          </td><td>&lt;8                                          </td><td>NA                                             </td><td>Бесплатный                                     </td><td><span style=white-space:pre-wrap>CH  </span>   </td><td>Мужской                                        </td><td>Одинокий                                       </td><td><span style=white-space:pre-wrap>     NA</span></td><td>&lt;31                                         </td><td>0                                              </td></tr>\n",
       "\t<tr><td>&lt;2                                          </td><td>NA                                             </td><td>Нет                                            </td><td>Бесплатный                                     </td><td>Auto                                           </td><td><span style=white-space:pre-wrap>NA     </span></td><td>Одинокий                                       </td><td>16829.6                                        </td><td>&lt;31                                         </td><td>1                                              </td></tr>\n",
       "\t<tr><td>NA                                          </td><td>&lt;8                                       </td><td>Нет                                         </td><td>Бесплатный                                  </td><td><span style=white-space:pre-wrap>NA  </span></td><td>Женский                                     </td><td>Одинокий                                    </td><td>57272.7                                     </td><td>&lt;31                                      </td><td>1                                           </td></tr>\n",
       "\t<tr><td>NA                                              </td><td>&lt;8                                           </td><td>Нет                                             </td><td>Бюджетный                                       </td><td><span style=white-space:pre-wrap>NA  </span>    </td><td>Мужской                                         </td><td><span style=white-space:pre-wrap>Женат   </span></td><td><span style=white-space:pre-wrap>     NA</span> </td><td>&lt;31                                          </td><td>1                                               </td></tr>\n",
       "\t<tr><td>&lt;2                                           </td><td>&lt;8                                           </td><td>Нет                                             </td><td>Бесплатный                                      </td><td>Auto                                            </td><td>Мужской                                         </td><td><span style=white-space:pre-wrap>NA      </span></td><td><span style=white-space:pre-wrap>     NA</span> </td><td>&lt;31                                          </td><td>1                                               </td></tr>\n",
       "\t<tr><td>&lt;2                                             </td><td>&lt;8                                             </td><td>Да                                                </td><td><span style=white-space:pre-wrap>NA        </span></td><td><span style=white-space:pre-wrap>CH  </span>      </td><td>Мужской                                           </td><td>Одинокий                                          </td><td>92167.3                                           </td><td>&lt;31                                            </td><td>1                                                 </td></tr>\n",
       "\t<tr><td>&lt;2                                           </td><td>&lt;8                                           </td><td>Нет                                             </td><td>Бесплатный                                      </td><td><span style=white-space:pre-wrap>CC  </span>    </td><td>Мужской                                         </td><td><span style=white-space:pre-wrap>Женат   </span></td><td>37135.5                                         </td><td>&lt;31                                          </td><td>1                                               </td></tr>\n",
       "</tbody>\n",
       "</table>\n"
      ],
      "text/latex": [
       "\\begin{tabular}{r|llllllllll}\n",
       " longdist & local & int\\_disc & billtype & pay & gender & marital & income & agecat & churn\\\\\n",
       "\\hline\n",
       "\t <2         & <8         & Нет        & Бюджетный  & CC         & Мужской    & Женат      & 77680.0    & <31        & 1         \\\\\n",
       "\t NA         & <8         & Нет        & Бесплатный & CC         & Мужской    & Женат      & 37111.5    & <31        & 1         \\\\\n",
       "\t <2         & <8         & Нет        & NA         & CC         & Мужской    & Женат      &      NA    & NA         & 1         \\\\\n",
       "\t <2         & <8         & NA         & Бесплатный & CH         & Мужской    & Одинокий   &      NA    & <31        & 0         \\\\\n",
       "\t <2         & NA         & Нет        & Бесплатный & Auto       & NA         & Одинокий   & 16829.6    & <31        & 1         \\\\\n",
       "\t NA         & <8         & Нет        & Бесплатный & NA         & Женский    & Одинокий   & 57272.7    & <31        & 1         \\\\\n",
       "\t NA         & <8         & Нет        & Бюджетный  & NA         & Мужской    & Женат      &      NA    & <31        & 1         \\\\\n",
       "\t <2         & <8         & Нет        & Бесплатный & Auto       & Мужской    & NA         &      NA    & <31        & 1         \\\\\n",
       "\t <2         & <8         & Да         & NA         & CH         & Мужской    & Одинокий   & 92167.3    & <31        & 1         \\\\\n",
       "\t <2         & <8         & Нет        & Бесплатный & CC         & Мужской    & Женат      & 37135.5    & <31        & 1         \\\\\n",
       "\\end{tabular}\n"
      ],
      "text/markdown": [
       "\n",
       "longdist | local | int_disc | billtype | pay | gender | marital | income | agecat | churn | \n",
       "|---|---|---|---|---|---|---|---|---|---|\n",
       "| <2         | <8         | Нет        | Бюджетный  | CC         | Мужской    | Женат      | 77680.0    | <31        | 1          | \n",
       "| NA         | <8         | Нет        | Бесплатный | CC         | Мужской    | Женат      | 37111.5    | <31        | 1          | \n",
       "| <2         | <8         | Нет        | NA         | CC         | Мужской    | Женат      |      NA    | NA         | 1          | \n",
       "| <2         | <8         | NA         | Бесплатный | CH         | Мужской    | Одинокий   |      NA    | <31        | 0          | \n",
       "| <2         | NA         | Нет        | Бесплатный | Auto       | NA         | Одинокий   | 16829.6    | <31        | 1          | \n",
       "| NA         | <8         | Нет        | Бесплатный | NA         | Женский    | Одинокий   | 57272.7    | <31        | 1          | \n",
       "| NA         | <8         | Нет        | Бюджетный  | NA         | Мужской    | Женат      |      NA    | <31        | 1          | \n",
       "| <2         | <8         | Нет        | Бесплатный | Auto       | Мужской    | NA         |      NA    | <31        | 1          | \n",
       "| <2         | <8         | Да         | NA         | CH         | Мужской    | Одинокий   | 92167.3    | <31        | 1          | \n",
       "| <2         | <8         | Нет        | Бесплатный | CC         | Мужской    | Женат      | 37135.5    | <31        | 1          | \n",
       "\n",
       "\n"
      ],
      "text/plain": [
       "   longdist local int_disc billtype   pay  gender  marital  income  agecat\n",
       "1  <2       <8    Нет      Бюджетный  CC   Мужской Женат    77680.0 <31   \n",
       "2  NA       <8    Нет      Бесплатный CC   Мужской Женат    37111.5 <31   \n",
       "3  <2       <8    Нет      NA         CC   Мужской Женат         NA NA    \n",
       "4  <2       <8    NA       Бесплатный CH   Мужской Одинокий      NA <31   \n",
       "5  <2       NA    Нет      Бесплатный Auto NA      Одинокий 16829.6 <31   \n",
       "6  NA       <8    Нет      Бесплатный NA   Женский Одинокий 57272.7 <31   \n",
       "7  NA       <8    Нет      Бюджетный  NA   Мужской Женат         NA <31   \n",
       "8  <2       <8    Нет      Бесплатный Auto Мужской NA            NA <31   \n",
       "9  <2       <8    Да       NA         CH   Мужской Одинокий 92167.3 <31   \n",
       "10 <2       <8    Нет      Бесплатный CC   Мужской Женат    37135.5 <31   \n",
       "   churn\n",
       "1  1    \n",
       "2  1    \n",
       "3  1    \n",
       "4  0    \n",
       "5  1    \n",
       "6  1    \n",
       "7  1    \n",
       "8  1    \n",
       "9  1    \n",
       "10 1    "
      ]
     },
     "metadata": {},
     "output_type": "display_data"
    }
   ],
   "source": [
    "# выводим первые 10 наблюдений\n",
    "# датафрейма data \n",
    "head(data, 10)"
   ]
  },
  {
   "cell_type": "code",
   "execution_count": 7,
   "metadata": {},
   "outputs": [
    {
     "data": {
      "text/html": [
       "2"
      ],
      "text/latex": [
       "2"
      ],
      "text/markdown": [
       "2"
      ],
      "text/plain": [
       "[1] 2"
      ]
     },
     "metadata": {},
     "output_type": "display_data"
    }
   ],
   "source": [
    "# выводим количество пропусков\n",
    "# по переменной pay \n",
    "sum(is.na(data$pay))"
   ]
  },
  {
   "cell_type": "code",
   "execution_count": 8,
   "metadata": {},
   "outputs": [],
   "source": [
    "# фиксируем пустые строковые\n",
    "# значения как пропуски \n",
    "data <- read.csv2(\"C:/Trees/Churn.csv\", sep = \";\", na.strings = \"\")"
   ]
  },
  {
   "cell_type": "markdown",
   "metadata": {},
   "source": [
    "## 2.2.3. Изменение типов переменных"
   ]
  },
  {
   "cell_type": "code",
   "execution_count": 9,
   "metadata": {},
   "outputs": [
    {
     "name": "stdout",
     "output_type": "stream",
     "text": [
      "'data.frame':\t4431 obs. of  10 variables:\n",
      " $ longdist: Factor w/ 5 levels \"<2\",\"15-20\",\"2-8\",..: 1 NA 1 1 1 NA NA 1 1 1 ...\n",
      " $ local   : Factor w/ 5 levels \"<8\",\"21-35\",\"36-55\",..: 1 1 1 1 NA 1 1 1 1 1 ...\n",
      " $ int_disc: Factor w/ 2 levels \"Да\",\"Нет\": 2 2 2 NA 2 2 2 2 1 2 ...\n",
      " $ billtype: Factor w/ 2 levels \"Бесплатный\",\"Бюджетный\": 2 1 NA 1 1 1 2 1 NA 1 ...\n",
      " $ pay     : Factor w/ 4 levels \"Auto\",\"CC\",\"CD\",..: 2 2 2 4 1 NA NA 1 4 2 ...\n",
      " $ gender  : Factor w/ 4 levels \"Женский\",\"Женский&*\",..: 3 3 3 3 NA 1 3 3 3 3 ...\n",
      " $ marital : Factor w/ 5 levels \"_Женат\",\"_Одинокий\",..: 4 4 4 5 5 5 4 NA 5 4 ...\n",
      " $ income  : num  77680 37112 NA NA 16830 ...\n",
      " $ agecat  : Factor w/ 5 levels \"<31\",\"31-45\",..: 1 1 NA 1 1 1 1 1 1 1 ...\n",
      " $ churn   : int  1 1 1 0 1 1 1 1 1 1 ...\n"
     ]
    }
   ],
   "source": [
    "# смотрим типы переменных\n",
    "str(data)"
   ]
  },
  {
   "cell_type": "code",
   "execution_count": 10,
   "metadata": {},
   "outputs": [],
   "source": [
    "# преобразовываем переменную\n",
    "# churn в вектор типа factor \n",
    "data$churn <- as.factor(data$churn)"
   ]
  },
  {
   "cell_type": "code",
   "execution_count": 11,
   "metadata": {},
   "outputs": [],
   "source": [
    "# преобразовываем переменные longdist, local,\n",
    "# agecat в вектор типа ordered factor \n",
    "data$longdist <- ordered(data$longdist, \n",
    "                         levels = c(\"<2\", \"2-8\", \"9-14\", \"15-20\", \"21+\"))\n",
    "data$local <- ordered(data$local, \n",
    "                      levels = c(\"<8\", \"8-20\", \"21-35\", \"36-55\", \"56+\"))\n",
    "data$agecat <- ordered(data$agecat, \n",
    "                       levels = c(\"<31\", \"31-45\", \"46-58\", \"59-70\", \"71+\"))\n"
   ]
  },
  {
   "cell_type": "code",
   "execution_count": 12,
   "metadata": {},
   "outputs": [
    {
     "name": "stderr",
     "output_type": "stream",
     "text": [
      "\n",
      "Attaching package: 'dplyr'\n",
      "\n",
      "The following objects are masked from 'package:stats':\n",
      "\n",
      "    filter, lag\n",
      "\n",
      "The following objects are masked from 'package:base':\n",
      "\n",
      "    intersect, setdiff, setequal, union\n",
      "\n"
     ]
    }
   ],
   "source": [
    "# загружаем пакет dplyr \n",
    "library(dplyr)\n",
    "# c помощью функции recode пакета dplyr\n",
    "# переименовываем категории переменной marital_status\n",
    "data$churn <- recode(data$churn, \"0\" = \"Остается\", \"1\" = \"Уходит\")"
   ]
  },
  {
   "cell_type": "code",
   "execution_count": 13,
   "metadata": {},
   "outputs": [],
   "source": [
    "# отсоединяем пакет dplyr \n",
    "detach(\"package:dplyr\", unload = TRUE)"
   ]
  },
  {
   "cell_type": "code",
   "execution_count": 14,
   "metadata": {
    "scrolled": true
   },
   "outputs": [
    {
     "name": "stdout",
     "output_type": "stream",
     "text": [
      "'data.frame':\t4431 obs. of  10 variables:\n",
      " $ longdist: Ord.factor w/ 5 levels \"<2\"<\"2-8\"<\"9-14\"<..: 1 NA 1 1 1 NA NA 1 1 1 ...\n",
      " $ local   : Ord.factor w/ 5 levels \"<8\"<\"8-20\"<\"21-35\"<..: 1 1 1 1 NA 1 1 1 1 1 ...\n",
      " $ int_disc: Factor w/ 2 levels \"Да\",\"Нет\": 2 2 2 NA 2 2 2 2 1 2 ...\n",
      " $ billtype: Factor w/ 2 levels \"Бесплатный\",\"Бюджетный\": 2 1 NA 1 1 1 2 1 NA 1 ...\n",
      " $ pay     : Factor w/ 4 levels \"Auto\",\"CC\",\"CD\",..: 2 2 2 4 1 NA NA 1 4 2 ...\n",
      " $ gender  : Factor w/ 4 levels \"Женский\",\"Женский&*\",..: 3 3 3 3 NA 1 3 3 3 3 ...\n",
      " $ marital : Factor w/ 5 levels \"_Женат\",\"_Одинокий\",..: 4 4 4 5 5 5 4 NA 5 4 ...\n",
      " $ income  : num  77680 37112 NA NA 16830 ...\n",
      " $ agecat  : Ord.factor w/ 5 levels \"<31\"<\"31-45\"<..: 1 1 NA 1 1 1 1 1 1 1 ...\n",
      " $ churn   : Factor w/ 2 levels \"Остается\",\"Уходит\": 2 2 2 1 2 2 2 2 2 2 ...\n"
     ]
    }
   ],
   "source": [
    "# смотрим типы переменных \n",
    "str(data)"
   ]
  },
  {
   "cell_type": "markdown",
   "metadata": {},
   "source": [
    "## 2.2.4. Обработка дублирующихся наблюдений"
   ]
  },
  {
   "cell_type": "code",
   "execution_count": 15,
   "metadata": {},
   "outputs": [
    {
     "data": {
      "text/html": [
       "<table>\n",
       "<thead><tr><th></th><th scope=col>longdist</th><th scope=col>local</th><th scope=col>int_disc</th><th scope=col>billtype</th><th scope=col>pay</th><th scope=col>gender</th><th scope=col>marital</th><th scope=col>income</th><th scope=col>agecat</th><th scope=col>churn</th></tr></thead>\n",
       "<tbody>\n",
       "\t<tr><th scope=row>358</th><td><span style=white-space:pre-wrap>&lt;2   </span> </td><td><span style=white-space:pre-wrap>&lt;8   </span> </td><td>Нет                                              </td><td>Бюджетный                                        </td><td><span style=white-space:pre-wrap>CC  </span>     </td><td>Женский&amp;*                                    </td><td><span style=white-space:pre-wrap>_Женат   </span></td><td>32118.4                                          </td><td><span style=white-space:pre-wrap>71+  </span>    </td><td><span style=white-space:pre-wrap>Уходит  </span> </td></tr>\n",
       "\t<tr><th scope=row>461</th><td><span style=white-space:pre-wrap>&lt;2   </span></td><td><span style=white-space:pre-wrap>&lt;8   </span></td><td>Да                                              </td><td>Бесплатный                                      </td><td><span style=white-space:pre-wrap>CC  </span>    </td><td>Женский&amp;*                                   </td><td>_Одинокий                                       </td><td>18831.1                                         </td><td>46-58                                           </td><td><span style=white-space:pre-wrap>Уходит  </span></td></tr>\n",
       "\t<tr><th scope=row>2060</th><td><span style=white-space:pre-wrap>21+  </span>    </td><td>21-35                                            </td><td>Нет                                              </td><td>Бюджетный                                        </td><td><span style=white-space:pre-wrap>CC  </span>     </td><td>Мужской&amp;*                                    </td><td><span style=white-space:pre-wrap>_Женат   </span></td><td>84269.0                                          </td><td>31-45                                            </td><td>Остается                                         </td></tr>\n",
       "\t<tr><th scope=row>3161</th><td>9-14                                         </td><td><span style=white-space:pre-wrap>56+  </span></td><td>Нет                                          </td><td>Бюджетный                                    </td><td><span style=white-space:pre-wrap>CC  </span> </td><td>Мужской&amp;*                                </td><td>_Одинокий                                    </td><td>54643.3                                      </td><td>31-45                                        </td><td>Остается                                     </td></tr>\n",
       "\t<tr><th scope=row>3834</th><td><span style=white-space:pre-wrap>2-8  </span>        </td><td>21-35                                                </td><td>Нет                                                  </td><td>Бесплатный                                           </td><td>Auto                                                 </td><td><span style=white-space:pre-wrap>Женский  </span>    </td><td><span style=white-space:pre-wrap>Же&amp;нат   </span></td><td>92353.3                                              </td><td>46-58                                                </td><td>Остается                                             </td></tr>\n",
       "\t<tr><th scope=row>4382</th><td>15-20                                            </td><td>21-35                                            </td><td>Нет                                              </td><td>Бесплатный                                       </td><td><span style=white-space:pre-wrap>CC  </span>     </td><td>Женский&amp;*                                    </td><td><span style=white-space:pre-wrap>_Женат   </span></td><td>87404.6                                          </td><td>46-58                                            </td><td><span style=white-space:pre-wrap>Уходит  </span> </td></tr>\n",
       "\t<tr><th scope=row>4431</th><td><span style=white-space:pre-wrap>21+  </span></td><td>8-20                                         </td><td>Нет                                          </td><td>Бесплатный                                   </td><td><span style=white-space:pre-wrap>CC  </span> </td><td>Женский&amp;*                                </td><td>_Одинокий                                    </td><td>75639.8                                      </td><td>31-45                                        </td><td>Остается                                     </td></tr>\n",
       "</tbody>\n",
       "</table>\n"
      ],
      "text/latex": [
       "\\begin{tabular}{r|llllllllll}\n",
       "  & longdist & local & int\\_disc & billtype & pay & gender & marital & income & agecat & churn\\\\\n",
       "\\hline\n",
       "\t358 & <2          & <8          & Нет         & Бюджетный   & CC          & Женский\\&* & \\_Женат    & 32118.4     & 71+         & Уходит     \\\\\n",
       "\t461 & <2          & <8          & Да          & Бесплатный  & CC          & Женский\\&* & \\_Одинокий & 18831.1     & 46-58       & Уходит     \\\\\n",
       "\t2060 & 21+         & 21-35       & Нет         & Бюджетный   & CC          & Мужской\\&* & \\_Женат    & 84269.0     & 31-45       & Остается   \\\\\n",
       "\t3161 & 9-14        & 56+         & Нет         & Бюджетный   & CC          & Мужской\\&* & \\_Одинокий & 54643.3     & 31-45       & Остается   \\\\\n",
       "\t3834 & 2-8         & 21-35       & Нет         & Бесплатный  & Auto        & Женский     & Же\\&нат    & 92353.3     & 46-58       & Остается   \\\\\n",
       "\t4382 & 15-20       & 21-35       & Нет         & Бесплатный  & CC          & Женский\\&* & \\_Женат    & 87404.6     & 46-58       & Уходит     \\\\\n",
       "\t4431 & 21+         & 8-20        & Нет         & Бесплатный  & CC          & Женский\\&* & \\_Одинокий & 75639.8     & 31-45       & Остается   \\\\\n",
       "\\end{tabular}\n"
      ],
      "text/markdown": [
       "\n",
       "| <!--/--> | longdist | local | int_disc | billtype | pay | gender | marital | income | agecat | churn | \n",
       "|---|---|---|---|---|---|---|\n",
       "| 358 | <2         | <8         | Нет        | Бюджетный  | CC         | Женский&*  | _Женат     | 32118.4    | 71+        | Уходит     | \n",
       "| 461 | <2         | <8         | Да         | Бесплатный | CC         | Женский&*  | _Одинокий  | 18831.1    | 46-58      | Уходит     | \n",
       "| 2060 | 21+        | 21-35      | Нет        | Бюджетный  | CC         | Мужской&*  | _Женат     | 84269.0    | 31-45      | Остается   | \n",
       "| 3161 | 9-14       | 56+        | Нет        | Бюджетный  | CC         | Мужской&*  | _Одинокий  | 54643.3    | 31-45      | Остается   | \n",
       "| 3834 | 2-8        | 21-35      | Нет        | Бесплатный | Auto       | Женский    | Же&нат     | 92353.3    | 46-58      | Остается   | \n",
       "| 4382 | 15-20      | 21-35      | Нет        | Бесплатный | CC         | Женский&*  | _Женат     | 87404.6    | 46-58      | Уходит     | \n",
       "| 4431 | 21+        | 8-20       | Нет        | Бесплатный | CC         | Женский&*  | _Одинокий  | 75639.8    | 31-45      | Остается   | \n",
       "\n",
       "\n"
      ],
      "text/plain": [
       "     longdist local int_disc billtype   pay  gender    marital   income  agecat\n",
       "358  <2       <8    Нет      Бюджетный  CC   Женский&* _Женат    32118.4 71+   \n",
       "461  <2       <8    Да       Бесплатный CC   Женский&* _Одинокий 18831.1 46-58 \n",
       "2060 21+      21-35 Нет      Бюджетный  CC   Мужской&* _Женат    84269.0 31-45 \n",
       "3161 9-14     56+   Нет      Бюджетный  CC   Мужской&* _Одинокий 54643.3 31-45 \n",
       "3834 2-8      21-35 Нет      Бесплатный Auto Женский   Же&нат    92353.3 46-58 \n",
       "4382 15-20    21-35 Нет      Бесплатный CC   Женский&* _Женат    87404.6 46-58 \n",
       "4431 21+      8-20  Нет      Бесплатный CC   Женский&* _Одинокий 75639.8 31-45 \n",
       "     churn   \n",
       "358  Уходит  \n",
       "461  Уходит  \n",
       "2060 Остается\n",
       "3161 Остается\n",
       "3834 Остается\n",
       "4382 Уходит  \n",
       "4431 Остается"
      ]
     },
     "metadata": {},
     "output_type": "display_data"
    }
   ],
   "source": [
    "# смотрим дублирующиеся наблюдения \n",
    "data[duplicated(data),]"
   ]
  },
  {
   "cell_type": "code",
   "execution_count": 16,
   "metadata": {},
   "outputs": [
    {
     "data": {
      "text/html": [
       "<table>\n",
       "<thead><tr><th></th><th scope=col>longdist</th><th scope=col>local</th><th scope=col>int_disc</th><th scope=col>billtype</th><th scope=col>pay</th><th scope=col>gender</th><th scope=col>marital</th><th scope=col>income</th><th scope=col>agecat</th><th scope=col>churn</th></tr></thead>\n",
       "<tbody>\n",
       "\t<tr><th scope=row>348</th><td>&lt;2        </td><td>&lt;8        </td><td>Нет          </td><td>Бюджетный    </td><td>CC           </td><td>Женский&amp;*</td><td>_Женат       </td><td>32118.4      </td><td>71+          </td><td>Уходит       </td></tr>\n",
       "\t<tr><th scope=row>358</th><td>&lt;2        </td><td>&lt;8        </td><td>Нет          </td><td>Бюджетный    </td><td>CC           </td><td>Женский&amp;*</td><td>_Женат       </td><td>32118.4      </td><td>71+          </td><td>Уходит       </td></tr>\n",
       "</tbody>\n",
       "</table>\n"
      ],
      "text/latex": [
       "\\begin{tabular}{r|llllllllll}\n",
       "  & longdist & local & int\\_disc & billtype & pay & gender & marital & income & agecat & churn\\\\\n",
       "\\hline\n",
       "\t348 & <2          & <8          & Нет         & Бюджетный   & CC          & Женский\\&* & \\_Женат    & 32118.4     & 71+         & Уходит     \\\\\n",
       "\t358 & <2          & <8          & Нет         & Бюджетный   & CC          & Женский\\&* & \\_Женат    & 32118.4     & 71+         & Уходит     \\\\\n",
       "\\end{tabular}\n"
      ],
      "text/markdown": [
       "\n",
       "| <!--/--> | longdist | local | int_disc | billtype | pay | gender | marital | income | agecat | churn | \n",
       "|---|---|\n",
       "| 348 | <2        | <8        | Нет       | Бюджетный | CC        | Женский&* | _Женат    | 32118.4   | 71+       | Уходит    | \n",
       "| 358 | <2        | <8        | Нет       | Бюджетный | CC        | Женский&* | _Женат    | 32118.4   | 71+       | Уходит    | \n",
       "\n",
       "\n"
      ],
      "text/plain": [
       "    longdist local int_disc billtype  pay gender    marital income  agecat\n",
       "348 <2       <8    Нет      Бюджетный CC  Женский&* _Женат  32118.4 71+   \n",
       "358 <2       <8    Нет      Бюджетный CC  Женский&* _Женат  32118.4 71+   \n",
       "    churn \n",
       "348 Уходит\n",
       "358 Уходит"
      ]
     },
     "metadata": {},
     "output_type": "display_data"
    }
   ],
   "source": [
    "# проверим, дублируется ли наблюдение \n",
    "# по заданному набору условий  \n",
    "data[data$longdist == \"<2\" & \n",
    "       data$local == \"<8\" & \n",
    "       data$int_disc == \"Нет\" & \n",
    "       data$billtype == \"Бюджетный\" & \n",
    "       data$pay == \"CC\" & \n",
    "       data$gender == \"Женский&*\" & \n",
    "       data$marital == \"_Женат\" & \n",
    "       data$income == 32118.4 & \n",
    "       data$agecat == \"71+\" & \n",
    "       data$churn ==\"Уходит\", ] "
   ]
  },
  {
   "cell_type": "code",
   "execution_count": 17,
   "metadata": {},
   "outputs": [
    {
     "data": {
      "text/html": [
       "4424"
      ],
      "text/latex": [
       "4424"
      ],
      "text/markdown": [
       "4424"
      ],
      "text/plain": [
       "[1] 4424"
      ]
     },
     "metadata": {},
     "output_type": "display_data"
    }
   ],
   "source": [
    "# оставим только уникальные наблюдения  \n",
    "data <- unique(data)\n",
    "# смотрим, сколько наблюдений мы\n",
    "# теперь будем использовать  \n",
    "nrow(data)"
   ]
  },
  {
   "cell_type": "markdown",
   "metadata": {},
   "source": [
    "## 2.2.5. Вывод подробной информации о переменных"
   ]
  },
  {
   "cell_type": "code",
   "execution_count": 18,
   "metadata": {},
   "outputs": [
    {
     "name": "stderr",
     "output_type": "stream",
     "text": [
      "Loading required package: lattice\n",
      "Loading required package: survival\n",
      "Loading required package: Formula\n",
      "Loading required package: ggplot2\n",
      "\n",
      "Attaching package: 'Hmisc'\n",
      "\n",
      "The following objects are masked from 'package:base':\n",
      "\n",
      "    format.pval, units\n",
      "\n"
     ]
    },
    {
     "data": {
      "text/plain": [
       "data \n",
       "\n",
       " 10  Variables      4424  Observations\n",
       "--------------------------------------------------------------------------------\n",
       "longdist \n",
       "       n  missing distinct \n",
       "    4421        3        5 \n",
       "                                        \n",
       "Value         <2   2-8  9-14 15-20   21+\n",
       "Frequency    736   867   993  1054   771\n",
       "Proportion 0.166 0.196 0.225 0.238 0.174\n",
       "--------------------------------------------------------------------------------\n",
       "local \n",
       "       n  missing distinct \n",
       "    4423        1        5 \n",
       "                                        \n",
       "Value         <8  8-20 21-35 36-55   56+\n",
       "Frequency    738   763  1444   738   740\n",
       "Proportion 0.167 0.173 0.326 0.167 0.167\n",
       "--------------------------------------------------------------------------------\n",
       "int_disc \n",
       "       n  missing distinct \n",
       "    4423        1        2 \n",
       "                      \n",
       "Value         Да   Нет\n",
       "Frequency   1376  3047\n",
       "Proportion 0.311 0.689\n",
       "--------------------------------------------------------------------------------\n",
       "billtype \n",
       "       n  missing distinct \n",
       "    4422        2        2 \n",
       "                                \n",
       "Value      Бесплатный  Бюджетный\n",
       "Frequency        2181       2241\n",
       "Proportion      0.493      0.507\n",
       "--------------------------------------------------------------------------------\n",
       "pay \n",
       "       n  missing distinct \n",
       "    4422        2        4 \n",
       "                                  \n",
       "Value       Auto    CC    CD    CH\n",
       "Frequency    889  2554     2   977\n",
       "Proportion 0.201 0.578 0.000 0.221\n",
       "--------------------------------------------------------------------------------\n",
       "gender \n",
       "       n  missing distinct \n",
       "    4423        1        4 \n",
       "                                                  \n",
       "Value        Женский Женский&*   Мужской Мужской&*\n",
       "Frequency       2235         4      2182         2\n",
       "Proportion     0.505     0.001     0.493     0.000\n",
       "--------------------------------------------------------------------------------\n",
       "marital \n",
       "       n  missing distinct \n",
       "    4423        1        5 \n",
       "                                                            \n",
       "Value         _Женат _Одинокий    Же&нат     Женат  Одинокий\n",
       "Frequency          3         3         1      2620      1796\n",
       "Proportion     0.001     0.001     0.000     0.592     0.406\n",
       "--------------------------------------------------------------------------------\n",
       "income \n",
       "       n  missing distinct     Info     Mean      Gmd      .05      .10 \n",
       "    4420        4     1456        1    50297    32835     5565    11255 \n",
       "     .25      .50      .75      .90      .95 \n",
       "   25446    50291    75005    90189    94903 \n",
       "\n",
       "lowest :   110.28   127.24   295.94   349.09   540.41\n",
       "highest: 99488.10 99514.60 99563.10 99619.90 99832.90\n",
       "--------------------------------------------------------------------------------\n",
       "agecat \n",
       "       n  missing distinct \n",
       "    4423        1        5 \n",
       "                                        \n",
       "Value        <31 31-45 46-58 59-70   71+\n",
       "Frequency    755  1303   908   717   740\n",
       "Proportion 0.171 0.295 0.205 0.162 0.167\n",
       "--------------------------------------------------------------------------------\n",
       "churn \n",
       "       n  missing distinct \n",
       "    4424        0        2 \n",
       "                            \n",
       "Value      Остается   Уходит\n",
       "Frequency      2492     1932\n",
       "Proportion    0.563    0.437\n",
       "--------------------------------------------------------------------------------"
      ]
     },
     "metadata": {},
     "output_type": "display_data"
    }
   ],
   "source": [
    "# загружаем пакет Hmisc  \n",
    "library(Hmisc)\n",
    "# с помощью функции describe пакета\n",
    "# Hmisc выведем подробную информацию\n",
    "# о переменных\n",
    "describe(data)"
   ]
  },
  {
   "cell_type": "code",
   "execution_count": 19,
   "metadata": {},
   "outputs": [
    {
     "data": {
      "text/html": [
       "23"
      ],
      "text/latex": [
       "23"
      ],
      "text/markdown": [
       "23"
      ],
      "text/plain": [
       "[1] 23"
      ]
     },
     "metadata": {},
     "output_type": "display_data"
    }
   ],
   "source": [
    "# создаем числовой ряд  \n",
    "series <- c(18, 20, 23, 20, 23, 27, 24, 23, 29)\n",
    "# вычисляем медиану  \n",
    "median(series)"
   ]
  },
  {
   "cell_type": "code",
   "execution_count": 20,
   "metadata": {},
   "outputs": [
    {
     "data": {
      "text/html": [
       "<strong>50%:</strong> 23"
      ],
      "text/latex": [
       "\\textbf{50\\textbackslash{}\\%:} 23"
      ],
      "text/markdown": [
       "**50%:** 23"
      ],
      "text/plain": [
       "50% \n",
       " 23 "
      ]
     },
     "metadata": {},
     "output_type": "display_data"
    }
   ],
   "source": [
    "# вычисляем медиану  \n",
    "quantile(series, 0.50)"
   ]
  },
  {
   "cell_type": "code",
   "execution_count": 21,
   "metadata": {},
   "outputs": [
    {
     "data": {
      "text/html": [
       "<strong>25%:</strong> 20"
      ],
      "text/latex": [
       "\\textbf{25\\textbackslash{}\\%:} 20"
      ],
      "text/markdown": [
       "**25%:** 20"
      ],
      "text/plain": [
       "25% \n",
       " 20 "
      ]
     },
     "metadata": {},
     "output_type": "display_data"
    }
   ],
   "source": [
    "# вычисляем 0.25-квантиль  \n",
    "quantile(series, 0.25)"
   ]
  },
  {
   "cell_type": "markdown",
   "metadata": {},
   "source": [
    "## 2.2.6. Нормализация строковых значений"
   ]
  },
  {
   "cell_type": "code",
   "execution_count": 22,
   "metadata": {},
   "outputs": [
    {
     "data": {
      "text/html": [
       "<dl>\n",
       "\t<dt>$gender</dt>\n",
       "\t\t<dd><dl class=dl-horizontal>\n",
       "\t<dt>Женский</dt>\n",
       "\t\t<dd>2235</dd>\n",
       "\t<dt>Женский&amp;*</dt>\n",
       "\t\t<dd>4</dd>\n",
       "\t<dt>Мужской</dt>\n",
       "\t\t<dd>2182</dd>\n",
       "\t<dt>Мужской&amp;*</dt>\n",
       "\t\t<dd>2</dd>\n",
       "\t<dt>NA's</dt>\n",
       "\t\t<dd>1</dd>\n",
       "</dl>\n",
       "</dd>\n",
       "\t<dt>$marital</dt>\n",
       "\t\t<dd><dl class=dl-horizontal>\n",
       "\t<dt>_Женат</dt>\n",
       "\t\t<dd>3</dd>\n",
       "\t<dt>_Одинокий</dt>\n",
       "\t\t<dd>3</dd>\n",
       "\t<dt>Же&amp;нат</dt>\n",
       "\t\t<dd>1</dd>\n",
       "\t<dt>Женат</dt>\n",
       "\t\t<dd>2620</dd>\n",
       "\t<dt>Одинокий</dt>\n",
       "\t\t<dd>1796</dd>\n",
       "\t<dt>NA's</dt>\n",
       "\t\t<dd>1</dd>\n",
       "</dl>\n",
       "</dd>\n",
       "</dl>\n"
      ],
      "text/latex": [
       "\\begin{description}\n",
       "\\item[\\$gender] \\begin{description*}\n",
       "\\item[Женский] 2235\n",
       "\\item[Женский\\textbackslash{}\\&*] 4\n",
       "\\item[Мужской] 2182\n",
       "\\item[Мужской\\textbackslash{}\\&*] 2\n",
       "\\item[NA's] 1\n",
       "\\end{description*}\n",
       "\n",
       "\\item[\\$marital] \\begin{description*}\n",
       "\\item[\\textbackslash{}\\_Женат] 3\n",
       "\\item[\\textbackslash{}\\_Одинокий] 3\n",
       "\\item[Же\\textbackslash{}\\&нат] 1\n",
       "\\item[Женат] 2620\n",
       "\\item[Одинокий] 1796\n",
       "\\item[NA's] 1\n",
       "\\end{description*}\n",
       "\n",
       "\\end{description}\n"
      ],
      "text/markdown": [
       "$gender\n",
       ":   Женский\n",
       ":   2235Женский&amp;amp;*\n",
       ":   4Мужской\n",
       ":   2182Мужской&amp;amp;*\n",
       ":   2NA's\n",
       ":   1\n",
       "\n",
       "\n",
       "$marital\n",
       ":   _Женат\n",
       ":   3_Одинокий\n",
       ":   3Же&amp;amp;нат\n",
       ":   1Женат\n",
       ":   2620Одинокий\n",
       ":   1796NA's\n",
       ":   1\n",
       "\n",
       "\n",
       "\n",
       "\n"
      ],
      "text/plain": [
       "$gender\n",
       "  Женский Женский&*   Мужской Мужской&*      NA's \n",
       "     2235         4      2182         2         1 \n",
       "\n",
       "$marital\n",
       "   _Женат _Одинокий    Же&нат     Женат  Одинокий      NA's \n",
       "        3         3         1      2620      1796         1 \n"
      ]
     },
     "metadata": {},
     "output_type": "display_data"
    }
   ],
   "source": [
    "# создаем вектор названий переменных  \n",
    "names <- c(\"gender\", \"marital\")\n",
    "# с помощью функции lapply применяем\n",
    "# функцию summary к переменным, названия\n",
    "# которых записаны в векторе names  \n",
    "lapply(data[, names], function(x) summary(x))"
   ]
  },
  {
   "cell_type": "code",
   "execution_count": 23,
   "metadata": {},
   "outputs": [
    {
     "data": {
      "text/html": [
       "<dl>\n",
       "\t<dt>$gender</dt>\n",
       "\t\t<dd><ol class=list-inline>\n",
       "\t<li>'Женский'</li>\n",
       "\t<li>'Женский&amp;*'</li>\n",
       "\t<li>'Мужской'</li>\n",
       "\t<li>'Мужской&amp;*'</li>\n",
       "</ol>\n",
       "</dd>\n",
       "\t<dt>$marital</dt>\n",
       "\t\t<dd><ol class=list-inline>\n",
       "\t<li>'_Женат'</li>\n",
       "\t<li>'_Одинокий'</li>\n",
       "\t<li>'Же&amp;нат'</li>\n",
       "\t<li>'Женат'</li>\n",
       "\t<li>'Одинокий'</li>\n",
       "</ol>\n",
       "</dd>\n",
       "</dl>\n"
      ],
      "text/latex": [
       "\\begin{description}\n",
       "\\item[\\$gender] \\begin{enumerate*}\n",
       "\\item 'Женский'\n",
       "\\item 'Женский\\&*'\n",
       "\\item 'Мужской'\n",
       "\\item 'Мужской\\&*'\n",
       "\\end{enumerate*}\n",
       "\n",
       "\\item[\\$marital] \\begin{enumerate*}\n",
       "\\item '\\_Женат'\n",
       "\\item '\\_Одинокий'\n",
       "\\item 'Же\\&нат'\n",
       "\\item 'Женат'\n",
       "\\item 'Одинокий'\n",
       "\\end{enumerate*}\n",
       "\n",
       "\\end{description}\n"
      ],
      "text/markdown": [
       "$gender\n",
       ":   1. 'Женский'\n",
       "2. 'Женский&amp;*'\n",
       "3. 'Мужской'\n",
       "4. 'Мужской&amp;*'\n",
       "\n",
       "\n",
       "\n",
       "$marital\n",
       ":   1. '_Женат'\n",
       "2. '_Одинокий'\n",
       "3. 'Же&amp;нат'\n",
       "4. 'Женат'\n",
       "5. 'Одинокий'\n",
       "\n",
       "\n",
       "\n",
       "\n",
       "\n"
      ],
      "text/plain": [
       "$gender\n",
       "[1] \"Женский\"   \"Женский&*\" \"Мужской\"   \"Мужской&*\"\n",
       "\n",
       "$marital\n",
       "[1] \"_Женат\"    \"_Одинокий\" \"Же&нат\"    \"Женат\"     \"Одинокий\" \n"
      ]
     },
     "metadata": {},
     "output_type": "display_data"
    }
   ],
   "source": [
    "# с помощью функции lapply применяем\n",
    "# функцию levels к переменным, названия\n",
    "# которых записаны в векторе names  \n",
    "lapply(data[, names], function(x) levels(x))"
   ]
  },
  {
   "cell_type": "code",
   "execution_count": 24,
   "metadata": {},
   "outputs": [],
   "source": [
    "# преобразовываем переменную gender из вектора типа factor\n",
    "# в вектор типа character (нельзя напрямую изменить строковое\n",
    "# значение фактора, потому что в факторе под капотом для строковых \n",
    "# значений используются целочисленные коды, поэтому переводим в \n",
    "# вектор типа character, у которого значения – строки)\n",
    "data$gender <- as.character(data$gender)\n",
    "\n",
    "# удаляем с помощью функции gsub символы & и *,\n",
    "# первый аргумент – удаляемые символы, второй\n",
    "# аргумент – символы, на которые нужно заменить,\n",
    "# третий аргумент – вектор типа character или строка \n",
    "data$gender <- gsub(\"\\\\&\\\\*\", \"\", data$gender)"
   ]
  },
  {
   "cell_type": "code",
   "execution_count": 25,
   "metadata": {},
   "outputs": [],
   "source": [
    "# преобразовываем переменную gender обратно из вектора\n",
    "# типа character в вектор типа factor\n",
    "data$gender <- as.factor(data$gender)"
   ]
  },
  {
   "cell_type": "code",
   "execution_count": 26,
   "metadata": {},
   "outputs": [],
   "source": [
    "library(stringr)\n",
    "\n",
    "# преобразовываем переменную marital из вектора типа factor\n",
    "# в вектор типа character\n",
    "data$marital <- as.character(data$marital)\n",
    "\n",
    "# удаляем с помощью функции str_replace_all пакета stringr\n",
    "# все символы, не являющиеся буквами алфавита и числами\n",
    "# первый аргумент – вектор типа character или строка,\n",
    "# второй аргумент – символы, которые нужно удалить,\n",
    "# третий аргумент – символы, на которые нужно заменить\n",
    "data$marital <- str_replace_all(data$marital, \"[^[:alnum:]]\", \"\")\n",
    "\n",
    "# преобразовываем переменную marital обратно из вектора\n",
    "# типа character в вектор типа factor\n",
    "data$marital <- as.factor(data$marital) "
   ]
  },
  {
   "cell_type": "code",
   "execution_count": 27,
   "metadata": {
    "scrolled": true
   },
   "outputs": [
    {
     "data": {
      "text/html": [
       "<dl>\n",
       "\t<dt>$gender</dt>\n",
       "\t\t<dd><ol class=list-inline>\n",
       "\t<li>'Женский'</li>\n",
       "\t<li>'Мужской'</li>\n",
       "</ol>\n",
       "</dd>\n",
       "\t<dt>$marital</dt>\n",
       "\t\t<dd><ol class=list-inline>\n",
       "\t<li>'Женат'</li>\n",
       "\t<li>'Одинокий'</li>\n",
       "</ol>\n",
       "</dd>\n",
       "</dl>\n"
      ],
      "text/latex": [
       "\\begin{description}\n",
       "\\item[\\$gender] \\begin{enumerate*}\n",
       "\\item 'Женский'\n",
       "\\item 'Мужской'\n",
       "\\end{enumerate*}\n",
       "\n",
       "\\item[\\$marital] \\begin{enumerate*}\n",
       "\\item 'Женат'\n",
       "\\item 'Одинокий'\n",
       "\\end{enumerate*}\n",
       "\n",
       "\\end{description}\n"
      ],
      "text/markdown": [
       "$gender\n",
       ":   1. 'Женский'\n",
       "2. 'Мужской'\n",
       "\n",
       "\n",
       "\n",
       "$marital\n",
       ":   1. 'Женат'\n",
       "2. 'Одинокий'\n",
       "\n",
       "\n",
       "\n",
       "\n",
       "\n"
      ],
      "text/plain": [
       "$gender\n",
       "[1] \"Женский\" \"Мужской\"\n",
       "\n",
       "$marital\n",
       "[1] \"Женат\"    \"Одинокий\"\n"
      ]
     },
     "metadata": {},
     "output_type": "display_data"
    }
   ],
   "source": [
    "# снова выводим информацию об уровнях переменной\n",
    "lapply(data[, names], function(x) levels(x))"
   ]
  },
  {
   "cell_type": "markdown",
   "metadata": {},
   "source": [
    "## 2.2.7. Обработка редких категорий"
   ]
  },
  {
   "cell_type": "code",
   "execution_count": 28,
   "metadata": {},
   "outputs": [
    {
     "data": {
      "text/html": [
       "<dl class=dl-horizontal>\n",
       "\t<dt>Auto</dt>\n",
       "\t\t<dd>889</dd>\n",
       "\t<dt>CC</dt>\n",
       "\t\t<dd>2554</dd>\n",
       "\t<dt>CD</dt>\n",
       "\t\t<dd>2</dd>\n",
       "\t<dt>CH</dt>\n",
       "\t\t<dd>977</dd>\n",
       "\t<dt>NA's</dt>\n",
       "\t\t<dd>2</dd>\n",
       "</dl>\n"
      ],
      "text/latex": [
       "\\begin{description*}\n",
       "\\item[Auto] 889\n",
       "\\item[CC] 2554\n",
       "\\item[CD] 2\n",
       "\\item[CH] 977\n",
       "\\item[NA's] 2\n",
       "\\end{description*}\n"
      ],
      "text/markdown": [
       "Auto\n",
       ":   889CC\n",
       ":   2554CD\n",
       ":   2CH\n",
       ":   977NA's\n",
       ":   2\n",
       "\n"
      ],
      "text/plain": [
       "Auto   CC   CD   CH NA's \n",
       " 889 2554    2  977    2 "
      ]
     },
     "metadata": {},
     "output_type": "display_data"
    }
   ],
   "source": [
    "# выводим информацию о распределении\n",
    "# значений переменной pay\n",
    "summary(data$pay)"
   ]
  },
  {
   "cell_type": "code",
   "execution_count": 29,
   "metadata": {},
   "outputs": [
    {
     "data": {
      "text/html": [
       "<dl class=dl-horizontal>\n",
       "\t<dt>Auto</dt>\n",
       "\t\t<dd>889</dd>\n",
       "\t<dt>CC</dt>\n",
       "\t\t<dd>2556</dd>\n",
       "\t<dt>CH</dt>\n",
       "\t\t<dd>977</dd>\n",
       "\t<dt>NA's</dt>\n",
       "\t\t<dd>2</dd>\n",
       "</dl>\n"
      ],
      "text/latex": [
       "\\begin{description*}\n",
       "\\item[Auto] 889\n",
       "\\item[CC] 2556\n",
       "\\item[CH] 977\n",
       "\\item[NA's] 2\n",
       "\\end{description*}\n"
      ],
      "text/markdown": [
       "Auto\n",
       ":   889CC\n",
       ":   2556CH\n",
       ":   977NA's\n",
       ":   2\n",
       "\n"
      ],
      "text/plain": [
       "Auto   CC   CH NA's \n",
       " 889 2556  977    2 "
      ]
     },
     "metadata": {},
     "output_type": "display_data"
    }
   ],
   "source": [
    "# загружаем пакет car\n",
    "library(car)\n",
    "# с помощью функции recode пакета car\n",
    "# объединяем редкую категорию CD с\n",
    "# самой часто встречающейся\n",
    "# категорией CC\n",
    "data$pay <- recode(data$pay, \"'CD' = 'CC'\")\n",
    "# снова выводим информацию о распределении\n",
    "# значений переменной pay\n",
    "summary(data$pay)"
   ]
  },
  {
   "cell_type": "code",
   "execution_count": 30,
   "metadata": {},
   "outputs": [],
   "source": [
    "# отсоединяем пакет Hmisc\n",
    "detach(\"package:Hmisc\", unload = TRUE)"
   ]
  },
  {
   "cell_type": "markdown",
   "metadata": {},
   "source": [
    "## 2.2.8. Однократное случайное разбиение набора данных на обучающую и контрольную выборки для проверки модели"
   ]
  },
  {
   "cell_type": "code",
   "execution_count": 31,
   "metadata": {},
   "outputs": [],
   "source": [
    "# задаем стартовое значение генератора случайных\n",
    "# чисел для воспроизводимости результатов разбиения\n",
    "set.seed(42)\n",
    "\n",
    "# создаем переменную random_number, которая случайным\n",
    "# образом разбивает набор данных на обучающую\n",
    "# и контрольную выборки\n",
    "random_number <- runif(nrow(data), 0, 1)\n",
    "development <- data[random_number > 0.3, ]\n",
    "holdout <- data[random_number <= 0.3, ]"
   ]
  },
  {
   "cell_type": "code",
   "execution_count": 32,
   "metadata": {},
   "outputs": [
    {
     "name": "stdout",
     "output_type": "stream",
     "text": [
      "'data.frame':\t3080 obs. of  10 variables:\n",
      " $ longdist: Ord.factor w/ 5 levels \"<2\"<\"2-8\"<\"9-14\"<..: 1 NA 1 1 NA NA 1 1 1 1 ...\n",
      " $ local   : Ord.factor w/ 5 levels \"<8\"<\"8-20\"<\"21-35\"<..: 1 1 1 NA 1 1 1 1 1 1 ...\n",
      " $ int_disc: Factor w/ 2 levels \"Да\",\"Нет\": 2 2 NA 2 2 2 1 2 2 2 ...\n",
      " $ billtype: Factor w/ 2 levels \"Бесплатный\",\"Бюджетный\": 2 1 1 1 1 2 NA 1 1 2 ...\n",
      " $ pay     : Factor w/ 3 levels \"Auto\",\"CC\",\"CH\": 2 2 3 1 NA NA 3 2 3 2 ...\n",
      " $ gender  : Factor w/ 2 levels \"Женский\",\"Мужской\": 2 2 2 NA 1 2 2 2 2 1 ...\n",
      " $ marital : Factor w/ 2 levels \"Женат\",\"Одинокий\": 1 1 2 2 2 1 2 1 2 1 ...\n",
      " $ income  : num  77680 37112 NA 16830 57273 ...\n",
      " $ agecat  : Ord.factor w/ 5 levels \"<31\"<\"31-45\"<..: 1 1 1 1 1 1 1 1 1 1 ...\n",
      " $ churn   : Factor w/ 2 levels \"Остается\",\"Уходит\": 2 2 1 2 2 2 2 2 1 2 ...\n"
     ]
    }
   ],
   "source": [
    "# смотрим обучающий датафрейм \n",
    "str(development)"
   ]
  },
  {
   "cell_type": "code",
   "execution_count": 33,
   "metadata": {},
   "outputs": [
    {
     "name": "stdout",
     "output_type": "stream",
     "text": [
      "'data.frame':\t1344 obs. of  10 variables:\n",
      " $ longdist: Ord.factor w/ 5 levels \"<2\"<\"2-8\"<\"9-14\"<..: 1 1 1 1 1 1 1 1 1 1 ...\n",
      " $ local   : Ord.factor w/ 5 levels \"<8\"<\"8-20\"<\"21-35\"<..: 1 1 1 1 1 1 1 1 1 1 ...\n",
      " $ int_disc: Factor w/ 2 levels \"Да\",\"Нет\": 2 2 2 2 2 2 2 2 2 2 ...\n",
      " $ billtype: Factor w/ 2 levels \"Бесплатный\",\"Бюджетный\": NA 1 1 1 1 1 1 1 2 1 ...\n",
      " $ pay     : Factor w/ 3 levels \"Auto\",\"CC\",\"CH\": 2 1 2 1 3 1 2 1 2 1 ...\n",
      " $ gender  : Factor w/ 2 levels \"Женский\",\"Мужской\": 2 2 2 1 1 2 1 2 2 2 ...\n",
      " $ marital : Factor w/ 2 levels \"Женат\",\"Одинокий\": 1 NA 2 2 1 2 2 2 1 2 ...\n",
      " $ income  : num  NA NA 24458 50969 25949 ...\n",
      " $ agecat  : Ord.factor w/ 5 levels \"<31\"<\"31-45\"<..: NA 1 1 1 1 1 2 3 3 3 ...\n",
      " $ churn   : Factor w/ 2 levels \"Остается\",\"Уходит\": 2 2 1 2 2 2 2 1 2 1 ...\n"
     ]
    }
   ],
   "source": [
    "# смотрим контрольный датафрейм \n",
    "str(holdout)"
   ]
  },
  {
   "cell_type": "code",
   "execution_count": 34,
   "metadata": {},
   "outputs": [
    {
     "data": {
      "text/html": [
       "<dl class=dl-horizontal>\n",
       "\t<dt>Остается</dt>\n",
       "\t\t<dd>1746</dd>\n",
       "\t<dt>Уходит</dt>\n",
       "\t\t<dd>1334</dd>\n",
       "</dl>\n"
      ],
      "text/latex": [
       "\\begin{description*}\n",
       "\\item[Остается] 1746\n",
       "\\item[Уходит] 1334\n",
       "\\end{description*}\n"
      ],
      "text/markdown": [
       "Остается\n",
       ":   1746Уходит\n",
       ":   1334\n",
       "\n"
      ],
      "text/plain": [
       "Остается   Уходит \n",
       "    1746     1334 "
      ]
     },
     "metadata": {},
     "output_type": "display_data"
    }
   ],
   "source": [
    "# выводим информацию о распределении\n",
    "# классов зависимой переменной churn\n",
    "# в обучающей выборке\n",
    "summary(development$churn)"
   ]
  },
  {
   "cell_type": "code",
   "execution_count": 35,
   "metadata": {},
   "outputs": [
    {
     "data": {
      "text/html": [
       "<dl class=dl-horizontal>\n",
       "\t<dt>Остается</dt>\n",
       "\t\t<dd>746</dd>\n",
       "\t<dt>Уходит</dt>\n",
       "\t\t<dd>598</dd>\n",
       "</dl>\n"
      ],
      "text/latex": [
       "\\begin{description*}\n",
       "\\item[Остается] 746\n",
       "\\item[Уходит] 598\n",
       "\\end{description*}\n"
      ],
      "text/markdown": [
       "Остается\n",
       ":   746Уходит\n",
       ":   598\n",
       "\n"
      ],
      "text/plain": [
       "Остается   Уходит \n",
       "     746      598 "
      ]
     },
     "metadata": {},
     "output_type": "display_data"
    }
   ],
   "source": [
    "# выводим информацию о распределении\n",
    "# классов зависимой переменной churn\n",
    "# в контрольной выборке\n",
    "summary(holdout$churn)"
   ]
  },
  {
   "cell_type": "markdown",
   "metadata": {},
   "source": [
    "## 2.2.9. Импутация пропусков"
   ]
  },
  {
   "cell_type": "code",
   "execution_count": 36,
   "metadata": {},
   "outputs": [
    {
     "data": {
      "text/html": [
       "<dl class=dl-horizontal>\n",
       "\t<dt>longdist</dt>\n",
       "\t\t<dd>3</dd>\n",
       "\t<dt>local</dt>\n",
       "\t\t<dd>1</dd>\n",
       "\t<dt>int_disc</dt>\n",
       "\t\t<dd>1</dd>\n",
       "\t<dt>billtype</dt>\n",
       "\t\t<dd>1</dd>\n",
       "\t<dt>pay</dt>\n",
       "\t\t<dd>2</dd>\n",
       "\t<dt>gender</dt>\n",
       "\t\t<dd>1</dd>\n",
       "\t<dt>marital</dt>\n",
       "\t\t<dd>0</dd>\n",
       "\t<dt>income</dt>\n",
       "\t\t<dd>2</dd>\n",
       "\t<dt>agecat</dt>\n",
       "\t\t<dd>0</dd>\n",
       "\t<dt>churn</dt>\n",
       "\t\t<dd>0</dd>\n",
       "</dl>\n"
      ],
      "text/latex": [
       "\\begin{description*}\n",
       "\\item[longdist] 3\n",
       "\\item[local] 1\n",
       "\\item[int\\textbackslash{}\\_disc] 1\n",
       "\\item[billtype] 1\n",
       "\\item[pay] 2\n",
       "\\item[gender] 1\n",
       "\\item[marital] 0\n",
       "\\item[income] 2\n",
       "\\item[agecat] 0\n",
       "\\item[churn] 0\n",
       "\\end{description*}\n"
      ],
      "text/markdown": [
       "longdist\n",
       ":   3local\n",
       ":   1int_disc\n",
       ":   1billtype\n",
       ":   1pay\n",
       ":   2gender\n",
       ":   1marital\n",
       ":   0income\n",
       ":   2agecat\n",
       ":   0churn\n",
       ":   0\n",
       "\n"
      ],
      "text/plain": [
       "longdist    local int_disc billtype      pay   gender  marital   income \n",
       "       3        1        1        1        2        1        0        2 \n",
       "  agecat    churn \n",
       "       0        0 "
      ]
     },
     "metadata": {},
     "output_type": "display_data"
    }
   ],
   "source": [
    "# выведем информацию о пропусках\n",
    "# в обучающей выборке\n",
    "sapply(development, function(x) sum(is.na(x)))"
   ]
  },
  {
   "cell_type": "code",
   "execution_count": 37,
   "metadata": {},
   "outputs": [
    {
     "data": {
      "text/html": [
       "<dl class=dl-horizontal>\n",
       "\t<dt>longdist</dt>\n",
       "\t\t<dd>0</dd>\n",
       "\t<dt>local</dt>\n",
       "\t\t<dd>0</dd>\n",
       "\t<dt>int_disc</dt>\n",
       "\t\t<dd>0</dd>\n",
       "\t<dt>billtype</dt>\n",
       "\t\t<dd>1</dd>\n",
       "\t<dt>pay</dt>\n",
       "\t\t<dd>0</dd>\n",
       "\t<dt>gender</dt>\n",
       "\t\t<dd>0</dd>\n",
       "\t<dt>marital</dt>\n",
       "\t\t<dd>1</dd>\n",
       "\t<dt>income</dt>\n",
       "\t\t<dd>2</dd>\n",
       "\t<dt>agecat</dt>\n",
       "\t\t<dd>1</dd>\n",
       "\t<dt>churn</dt>\n",
       "\t\t<dd>0</dd>\n",
       "</dl>\n"
      ],
      "text/latex": [
       "\\begin{description*}\n",
       "\\item[longdist] 0\n",
       "\\item[local] 0\n",
       "\\item[int\\textbackslash{}\\_disc] 0\n",
       "\\item[billtype] 1\n",
       "\\item[pay] 0\n",
       "\\item[gender] 0\n",
       "\\item[marital] 1\n",
       "\\item[income] 2\n",
       "\\item[agecat] 1\n",
       "\\item[churn] 0\n",
       "\\end{description*}\n"
      ],
      "text/markdown": [
       "longdist\n",
       ":   0local\n",
       ":   0int_disc\n",
       ":   0billtype\n",
       ":   1pay\n",
       ":   0gender\n",
       ":   0marital\n",
       ":   1income\n",
       ":   2agecat\n",
       ":   1churn\n",
       ":   0\n",
       "\n"
      ],
      "text/plain": [
       "longdist    local int_disc billtype      pay   gender  marital   income \n",
       "       0        0        0        1        0        0        1        2 \n",
       "  agecat    churn \n",
       "       1        0 "
      ]
     },
     "metadata": {},
     "output_type": "display_data"
    }
   ],
   "source": [
    "# выведем информацию о пропусках\n",
    "# в контрольной выборке\n",
    "sapply(holdout, function(x) sum(is.na(x)))"
   ]
  },
  {
   "cell_type": "code",
   "execution_count": 38,
   "metadata": {},
   "outputs": [
    {
     "name": "stdout",
     "output_type": "stream",
     "text": [
      "$longdist\n",
      "[1] 3\n",
      "\n",
      "$local\n",
      "[1] 1\n",
      "\n",
      "$int_disc\n",
      "[1] 1\n",
      "\n",
      "$billtype\n",
      "[1] 1\n",
      "\n",
      "$pay\n",
      "[1] 2\n",
      "\n",
      "$gender\n",
      "[1] 1\n",
      "\n",
      "$marital\n",
      "[1] 0\n",
      "\n",
      "$income\n",
      "[1] 2\n",
      "\n",
      "$agecat\n",
      "[1] 0\n",
      "\n",
      "$churn\n",
      "[1] 0\n",
      "\n"
     ]
    }
   ],
   "source": [
    "# выведем информацию о пропусках в обучающей выборке\n",
    "# c помощью lapply, теперь результат будет\n",
    "# возвращен в виде списка\n",
    "print(lapply(development, function(x) sum(is.na(x))))"
   ]
  },
  {
   "cell_type": "code",
   "execution_count": 39,
   "metadata": {},
   "outputs": [
    {
     "name": "stdout",
     "output_type": "stream",
     "text": [
      "$longdist\n",
      "[1] 0\n",
      "\n",
      "$local\n",
      "[1] 0\n",
      "\n",
      "$int_disc\n",
      "[1] 0\n",
      "\n",
      "$billtype\n",
      "[1] 1\n",
      "\n",
      "$pay\n",
      "[1] 0\n",
      "\n",
      "$gender\n",
      "[1] 0\n",
      "\n",
      "$marital\n",
      "[1] 1\n",
      "\n",
      "$income\n",
      "[1] 2\n",
      "\n",
      "$agecat\n",
      "[1] 1\n",
      "\n",
      "$churn\n",
      "[1] 0\n",
      "\n"
     ]
    }
   ],
   "source": [
    "# выведем информацию о пропусках в контрольной выборке\n",
    "# c помощью lapply, теперь результат будет\n",
    "# возвращен в виде списка\n",
    "print(lapply(holdout, function(x) sum(is.na(x))))"
   ]
  },
  {
   "cell_type": "code",
   "execution_count": 40,
   "metadata": {},
   "outputs": [
    {
     "data": {
      "text/html": [
       "50184.2742397661"
      ],
      "text/latex": [
       "50184.2742397661"
      ],
      "text/markdown": [
       "50184.2742397661"
      ],
      "text/plain": [
       "[1] 50184.27"
      ]
     },
     "metadata": {},
     "output_type": "display_data"
    }
   ],
   "source": [
    "# вычисляем среднее значение\n",
    "# переменной income\n",
    "mean(development$income, na.rm = TRUE)"
   ]
  },
  {
   "cell_type": "code",
   "execution_count": 41,
   "metadata": {},
   "outputs": [],
   "source": [
    "# выполняем импутацию пропусков с помощью среднего, обратите\n",
    "# внимание, среднее вычислено для обучающей выборки и\n",
    "# используется для импутации пропусков в обучающей и\n",
    "# контрольной выборки\n",
    "development$income[is.na(development$income)] <- mean(development$income, \n",
    "                                                      na.rm = TRUE)\n",
    "holdout$income[is.na(holdout$income)] <- mean(development$income, \n",
    "                                              na.rm = TRUE)"
   ]
  },
  {
   "cell_type": "code",
   "execution_count": 42,
   "metadata": {},
   "outputs": [
    {
     "data": {
      "text/html": [
       "<table>\n",
       "<thead><tr><th></th><th scope=col>longdist</th><th scope=col>local</th><th scope=col>int_disc</th><th scope=col>billtype</th><th scope=col>pay</th><th scope=col>gender</th><th scope=col>marital</th><th scope=col>income</th><th scope=col>agecat</th><th scope=col>churn</th></tr></thead>\n",
       "<tbody>\n",
       "\t<tr><th scope=row>1</th><td>&lt;2                                           </td><td>&lt;8                                           </td><td>Нет                                             </td><td>Бюджетный                                       </td><td><span style=white-space:pre-wrap>CC  </span>    </td><td>Мужской                                         </td><td><span style=white-space:pre-wrap>Женат   </span></td><td>77680.00                                        </td><td>&lt;31                                          </td><td><span style=white-space:pre-wrap>Уходит  </span></td></tr>\n",
       "\t<tr><th scope=row>2</th><td>NA                                              </td><td>&lt;8                                           </td><td>Нет                                             </td><td>Бесплатный                                      </td><td><span style=white-space:pre-wrap>CC  </span>    </td><td>Мужской                                         </td><td><span style=white-space:pre-wrap>Женат   </span></td><td>37111.50                                        </td><td>&lt;31                                          </td><td><span style=white-space:pre-wrap>Уходит  </span></td></tr>\n",
       "\t<tr><th scope=row>4</th><td>&lt;2                                       </td><td>&lt;8                                       </td><td>NA                                          </td><td>Бесплатный                                  </td><td><span style=white-space:pre-wrap>CH  </span></td><td>Мужской                                     </td><td>Одинокий                                    </td><td>50184.27                                    </td><td>&lt;31                                      </td><td>Остается                                    </td></tr>\n",
       "\t<tr><th scope=row>5</th><td>&lt;2                                           </td><td>NA                                              </td><td>Нет                                             </td><td>Бесплатный                                      </td><td>Auto                                            </td><td><span style=white-space:pre-wrap>NA     </span> </td><td>Одинокий                                        </td><td>16829.60                                        </td><td>&lt;31                                          </td><td><span style=white-space:pre-wrap>Уходит  </span></td></tr>\n",
       "\t<tr><th scope=row>6</th><td>NA                                              </td><td>&lt;8                                           </td><td>Нет                                             </td><td>Бесплатный                                      </td><td><span style=white-space:pre-wrap>NA  </span>    </td><td>Женский                                         </td><td>Одинокий                                        </td><td>57272.70                                        </td><td>&lt;31                                          </td><td><span style=white-space:pre-wrap>Уходит  </span></td></tr>\n",
       "\t<tr><th scope=row>7</th><td>NA                                              </td><td>&lt;8                                           </td><td>Нет                                             </td><td>Бюджетный                                       </td><td><span style=white-space:pre-wrap>NA  </span>    </td><td>Мужской                                         </td><td><span style=white-space:pre-wrap>Женат   </span></td><td>50184.27                                        </td><td>&lt;31                                          </td><td><span style=white-space:pre-wrap>Уходит  </span></td></tr>\n",
       "\t<tr><th scope=row>9</th><td>&lt;2                                             </td><td>&lt;8                                             </td><td>Да                                                </td><td><span style=white-space:pre-wrap>NA        </span></td><td><span style=white-space:pre-wrap>CH  </span>      </td><td>Мужской                                           </td><td>Одинокий                                          </td><td>92167.30                                          </td><td>&lt;31                                            </td><td><span style=white-space:pre-wrap>Уходит  </span>  </td></tr>\n",
       "\t<tr><th scope=row>10</th><td>&lt;2                                           </td><td>&lt;8                                           </td><td>Нет                                             </td><td>Бесплатный                                      </td><td><span style=white-space:pre-wrap>CC  </span>    </td><td>Мужской                                         </td><td><span style=white-space:pre-wrap>Женат   </span></td><td>37135.50                                        </td><td>&lt;31                                          </td><td><span style=white-space:pre-wrap>Уходит  </span></td></tr>\n",
       "\t<tr><th scope=row>11</th><td>&lt;2                                       </td><td>&lt;8                                       </td><td>Нет                                         </td><td>Бесплатный                                  </td><td><span style=white-space:pre-wrap>CH  </span></td><td>Мужской                                     </td><td>Одинокий                                    </td><td>18831.10                                    </td><td>&lt;31                                      </td><td>Остается                                    </td></tr>\n",
       "\t<tr><th scope=row>12</th><td>&lt;2                                           </td><td>&lt;8                                           </td><td>Нет                                             </td><td>Бюджетный                                       </td><td><span style=white-space:pre-wrap>CC  </span>    </td><td>Женский                                         </td><td><span style=white-space:pre-wrap>Женат   </span></td><td>19654.90                                        </td><td>&lt;31                                          </td><td><span style=white-space:pre-wrap>Уходит  </span></td></tr>\n",
       "</tbody>\n",
       "</table>\n"
      ],
      "text/latex": [
       "\\begin{tabular}{r|llllllllll}\n",
       "  & longdist & local & int\\_disc & billtype & pay & gender & marital & income & agecat & churn\\\\\n",
       "\\hline\n",
       "\t1 & <2         & <8         & Нет        & Бюджетный  & CC         & Мужской    & Женат      & 77680.00   & <31        & Уходит    \\\\\n",
       "\t2 & NA         & <8         & Нет        & Бесплатный & CC         & Мужской    & Женат      & 37111.50   & <31        & Уходит    \\\\\n",
       "\t4 & <2         & <8         & NA         & Бесплатный & CH         & Мужской    & Одинокий   & 50184.27   & <31        & Остается  \\\\\n",
       "\t5 & <2         & NA         & Нет        & Бесплатный & Auto       & NA         & Одинокий   & 16829.60   & <31        & Уходит    \\\\\n",
       "\t6 & NA         & <8         & Нет        & Бесплатный & NA         & Женский    & Одинокий   & 57272.70   & <31        & Уходит    \\\\\n",
       "\t7 & NA         & <8         & Нет        & Бюджетный  & NA         & Мужской    & Женат      & 50184.27   & <31        & Уходит    \\\\\n",
       "\t9 & <2         & <8         & Да         & NA         & CH         & Мужской    & Одинокий   & 92167.30   & <31        & Уходит    \\\\\n",
       "\t10 & <2         & <8         & Нет        & Бесплатный & CC         & Мужской    & Женат      & 37135.50   & <31        & Уходит    \\\\\n",
       "\t11 & <2         & <8         & Нет        & Бесплатный & CH         & Мужской    & Одинокий   & 18831.10   & <31        & Остается  \\\\\n",
       "\t12 & <2         & <8         & Нет        & Бюджетный  & CC         & Женский    & Женат      & 19654.90   & <31        & Уходит    \\\\\n",
       "\\end{tabular}\n"
      ],
      "text/markdown": [
       "\n",
       "| <!--/--> | longdist | local | int_disc | billtype | pay | gender | marital | income | agecat | churn | \n",
       "|---|---|---|---|---|---|---|---|---|---|\n",
       "| 1 | <2         | <8         | Нет        | Бюджетный  | CC         | Мужской    | Женат      | 77680.00   | <31        | Уходит     | \n",
       "| 2 | NA         | <8         | Нет        | Бесплатный | CC         | Мужской    | Женат      | 37111.50   | <31        | Уходит     | \n",
       "| 4 | <2         | <8         | NA         | Бесплатный | CH         | Мужской    | Одинокий   | 50184.27   | <31        | Остается   | \n",
       "| 5 | <2         | NA         | Нет        | Бесплатный | Auto       | NA         | Одинокий   | 16829.60   | <31        | Уходит     | \n",
       "| 6 | NA         | <8         | Нет        | Бесплатный | NA         | Женский    | Одинокий   | 57272.70   | <31        | Уходит     | \n",
       "| 7 | NA         | <8         | Нет        | Бюджетный  | NA         | Мужской    | Женат      | 50184.27   | <31        | Уходит     | \n",
       "| 9 | <2         | <8         | Да         | NA         | CH         | Мужской    | Одинокий   | 92167.30   | <31        | Уходит     | \n",
       "| 10 | <2         | <8         | Нет        | Бесплатный | CC         | Мужской    | Женат      | 37135.50   | <31        | Уходит     | \n",
       "| 11 | <2         | <8         | Нет        | Бесплатный | CH         | Мужской    | Одинокий   | 18831.10   | <31        | Остается   | \n",
       "| 12 | <2         | <8         | Нет        | Бюджетный  | CC         | Женский    | Женат      | 19654.90   | <31        | Уходит     | \n",
       "\n",
       "\n"
      ],
      "text/plain": [
       "   longdist local int_disc billtype   pay  gender  marital  income   agecat\n",
       "1  <2       <8    Нет      Бюджетный  CC   Мужской Женат    77680.00 <31   \n",
       "2  NA       <8    Нет      Бесплатный CC   Мужской Женат    37111.50 <31   \n",
       "4  <2       <8    NA       Бесплатный CH   Мужской Одинокий 50184.27 <31   \n",
       "5  <2       NA    Нет      Бесплатный Auto NA      Одинокий 16829.60 <31   \n",
       "6  NA       <8    Нет      Бесплатный NA   Женский Одинокий 57272.70 <31   \n",
       "7  NA       <8    Нет      Бюджетный  NA   Мужской Женат    50184.27 <31   \n",
       "9  <2       <8    Да       NA         CH   Мужской Одинокий 92167.30 <31   \n",
       "10 <2       <8    Нет      Бесплатный CC   Мужской Женат    37135.50 <31   \n",
       "11 <2       <8    Нет      Бесплатный CH   Мужской Одинокий 18831.10 <31   \n",
       "12 <2       <8    Нет      Бюджетный  CC   Женский Женат    19654.90 <31   \n",
       "   churn   \n",
       "1  Уходит  \n",
       "2  Уходит  \n",
       "4  Остается\n",
       "5  Уходит  \n",
       "6  Уходит  \n",
       "7  Уходит  \n",
       "9  Уходит  \n",
       "10 Уходит  \n",
       "11 Остается\n",
       "12 Уходит  "
      ]
     },
     "metadata": {},
     "output_type": "display_data"
    }
   ],
   "source": [
    "# выведем первые 10 наблюдений \n",
    "# датафрейма development \n",
    "head(development, 10)"
   ]
  },
  {
   "cell_type": "code",
   "execution_count": 43,
   "metadata": {},
   "outputs": [],
   "source": [
    "# создаем индикатор пропусков, у функции ifelse первый аргумент –\n",
    "# проверяемое условие (является ли наблюдение переменной billtype\n",
    "# пропущенным), второй аргумент – значение, которое возвращается,\n",
    "# если условие выполняется, третий аргумент – значение, которое\n",
    "# возвращается, если условие не выполняется\n",
    "development$billtype_ind <- ifelse(is.na(development$billtype), 1, 0)"
   ]
  },
  {
   "cell_type": "code",
   "execution_count": 44,
   "metadata": {},
   "outputs": [
    {
     "data": {
      "text/html": [
       "<ol class=list-inline>\n",
       "\t<li>0</li>\n",
       "\t<li>0</li>\n",
       "\t<li>0</li>\n",
       "\t<li>0</li>\n",
       "\t<li>0</li>\n",
       "\t<li>0</li>\n",
       "\t<li>1</li>\n",
       "\t<li>0</li>\n",
       "\t<li>0</li>\n",
       "\t<li>0</li>\n",
       "</ol>\n"
      ],
      "text/latex": [
       "\\begin{enumerate*}\n",
       "\\item 0\n",
       "\\item 0\n",
       "\\item 0\n",
       "\\item 0\n",
       "\\item 0\n",
       "\\item 0\n",
       "\\item 1\n",
       "\\item 0\n",
       "\\item 0\n",
       "\\item 0\n",
       "\\end{enumerate*}\n"
      ],
      "text/markdown": [
       "1. 0\n",
       "2. 0\n",
       "3. 0\n",
       "4. 0\n",
       "5. 0\n",
       "6. 0\n",
       "7. 1\n",
       "8. 0\n",
       "9. 0\n",
       "10. 0\n",
       "\n",
       "\n"
      ],
      "text/plain": [
       " [1] 0 0 0 0 0 0 1 0 0 0"
      ]
     },
     "metadata": {},
     "output_type": "display_data"
    }
   ],
   "source": [
    "# выводим первые 10 наблюдений новой\n",
    "# переменной billtype_ind\n",
    "head(development[,\"billtype_ind\"], 10)"
   ]
  },
  {
   "cell_type": "code",
   "execution_count": 45,
   "metadata": {},
   "outputs": [],
   "source": [
    "# удаляем переменную billtype_ind\n",
    "development$billtype_ind <- NULL"
   ]
  },
  {
   "cell_type": "code",
   "execution_count": 46,
   "metadata": {},
   "outputs": [
    {
     "data": {
      "text/html": [
       "<ol class=list-inline>\n",
       "\t<li>Бюджетный</li>\n",
       "\t<li>Бесплатный</li>\n",
       "\t<li>Бесплатный</li>\n",
       "\t<li>Бесплатный</li>\n",
       "\t<li>Бесплатный</li>\n",
       "\t<li>Бюджетный</li>\n",
       "\t<li>MISSING</li>\n",
       "\t<li>Бесплатный</li>\n",
       "\t<li>Бесплатный</li>\n",
       "\t<li>Бюджетный</li>\n",
       "</ol>\n"
      ],
      "text/latex": [
       "\\begin{enumerate*}\n",
       "\\item Бюджетный\n",
       "\\item Бесплатный\n",
       "\\item Бесплатный\n",
       "\\item Бесплатный\n",
       "\\item Бесплатный\n",
       "\\item Бюджетный\n",
       "\\item MISSING\n",
       "\\item Бесплатный\n",
       "\\item Бесплатный\n",
       "\\item Бюджетный\n",
       "\\end{enumerate*}\n"
      ],
      "text/markdown": [
       "1. Бюджетный\n",
       "2. Бесплатный\n",
       "3. Бесплатный\n",
       "4. Бесплатный\n",
       "5. Бесплатный\n",
       "6. Бюджетный\n",
       "7. MISSING\n",
       "8. Бесплатный\n",
       "9. Бесплатный\n",
       "10. Бюджетный\n",
       "\n",
       "\n"
      ],
      "text/plain": [
       " [1] Бюджетный  Бесплатный Бесплатный Бесплатный Бесплатный Бюджетный \n",
       " [7] MISSING    Бесплатный Бесплатный Бюджетный \n",
       "Levels: MISSING Бесплатный Бюджетный"
      ]
     },
     "metadata": {},
     "output_type": "display_data"
    }
   ],
   "source": [
    "# с помощью функции recode пакета car запишем пропуски\n",
    "# в отдельную категорию MISSING\n",
    "development$billtype2 <- recode(development$billtype, \"NA = 'MISSING'\")\n",
    "# смотрим первые 10 наблюдений переменной billtype2\n",
    "head(development[,\"billtype2\"], 10)"
   ]
  },
  {
   "cell_type": "code",
   "execution_count": 47,
   "metadata": {},
   "outputs": [],
   "source": [
    "# удаляем переменную billtype2\n",
    "development$billtype2 <- NULL"
   ]
  },
  {
   "cell_type": "code",
   "execution_count": 48,
   "metadata": {},
   "outputs": [],
   "source": [
    "# с помощью функции lapply преобразовываем переменные \n",
    "# longdist, local и agecat в неупорядоченные\n",
    "# факторы\n",
    "names <- c(\"longdist\", \"local\", \"agecat\")\n",
    "development[,names] <- lapply(development[, names], factor, ordered = FALSE)\n",
    "holdout[,names] <- lapply(holdout[, names], factor, ordered = FALSE)"
   ]
  },
  {
   "cell_type": "code",
   "execution_count": 49,
   "metadata": {},
   "outputs": [
    {
     "name": "stdout",
     "output_type": "stream",
     "text": [
      "$longdist\n",
      "[1] \"15-20\"\n",
      "\n",
      "$local\n",
      "[1] \"21-35\"\n",
      "\n",
      "$int_disc\n",
      "[1] \"Нет\"\n",
      "\n",
      "$billtype\n",
      "[1] \"Бюджетный\"\n",
      "\n",
      "$pay\n",
      "[1] \"CC\"\n",
      "\n",
      "$gender\n",
      "[1] \"Мужской\"\n",
      "\n",
      "$marital\n",
      "[1] \"Женат\"\n",
      "\n",
      "$income\n",
      "[1] 50290.7\n",
      "\n",
      "$agecat\n",
      "[1] \"31-45\"\n",
      "\n",
      "$churn\n",
      "[1] \"Остается\"\n",
      "\n"
     ]
    }
   ],
   "source": [
    "# загружаем пакет imputeMissings\n",
    "library(imputeMissings)\n",
    "# с помощью функции compute пакета\n",
    "# imputeMissings вычисляем моды и\n",
    "# медианы для импутации\n",
    "values <- compute(development)\n",
    "print(values)"
   ]
  },
  {
   "cell_type": "code",
   "execution_count": 50,
   "metadata": {},
   "outputs": [
    {
     "data": {
      "text/html": [
       "<dl class=dl-horizontal>\n",
       "\t<dt>longdist</dt>\n",
       "\t\t<dd>3</dd>\n",
       "\t<dt>local</dt>\n",
       "\t\t<dd>1</dd>\n",
       "\t<dt>int_disc</dt>\n",
       "\t\t<dd>1</dd>\n",
       "\t<dt>billtype</dt>\n",
       "\t\t<dd>1</dd>\n",
       "\t<dt>pay</dt>\n",
       "\t\t<dd>2</dd>\n",
       "\t<dt>gender</dt>\n",
       "\t\t<dd>1</dd>\n",
       "\t<dt>marital</dt>\n",
       "\t\t<dd>0</dd>\n",
       "\t<dt>income</dt>\n",
       "\t\t<dd>0</dd>\n",
       "\t<dt>agecat</dt>\n",
       "\t\t<dd>0</dd>\n",
       "\t<dt>churn</dt>\n",
       "\t\t<dd>0</dd>\n",
       "</dl>\n"
      ],
      "text/latex": [
       "\\begin{description*}\n",
       "\\item[longdist] 3\n",
       "\\item[local] 1\n",
       "\\item[int\\textbackslash{}\\_disc] 1\n",
       "\\item[billtype] 1\n",
       "\\item[pay] 2\n",
       "\\item[gender] 1\n",
       "\\item[marital] 0\n",
       "\\item[income] 0\n",
       "\\item[agecat] 0\n",
       "\\item[churn] 0\n",
       "\\end{description*}\n"
      ],
      "text/markdown": [
       "longdist\n",
       ":   3local\n",
       ":   1int_disc\n",
       ":   1billtype\n",
       ":   1pay\n",
       ":   2gender\n",
       ":   1marital\n",
       ":   0income\n",
       ":   0agecat\n",
       ":   0churn\n",
       ":   0\n",
       "\n"
      ],
      "text/plain": [
       "longdist    local int_disc billtype      pay   gender  marital   income \n",
       "       3        1        1        1        2        1        0        0 \n",
       "  agecat    churn \n",
       "       0        0 "
      ]
     },
     "metadata": {},
     "output_type": "display_data"
    }
   ],
   "source": [
    "# выводим сводку о количестве пропусков в\n",
    "# каждой переменной с помощью функции\n",
    "# colSums пакета imputeMissings\n",
    "colSums(is.na(development))"
   ]
  },
  {
   "cell_type": "code",
   "execution_count": 51,
   "metadata": {},
   "outputs": [],
   "source": [
    "# выполняем автоматическую импутацию с помощью\n",
    "# функции impute пакета imputeMissings\n",
    "values <- compute(development)\n",
    "development <- impute(development, object = values)\n",
    "holdout <- impute(holdout, object = values)"
   ]
  },
  {
   "cell_type": "code",
   "execution_count": 52,
   "metadata": {},
   "outputs": [],
   "source": [
    "# с помощью функции ordered преобразовываем переменные \n",
    "# longdist, local и agecat обратно в упорядоченные\n",
    "# факторы\n",
    "development$longdist <- ordered(development$longdist, \n",
    "                                levels = c(\"<2\", \"2-8\", \"9-14\", \"15-20\", \"21+\"))\n",
    "development$local <- ordered(development$local, \n",
    "                             levels = c(\"<8\", \"8-20\", \"21-35\", \"36-55\", \"56+\"))\n",
    "development$agecat <- ordered(development$agecat, \n",
    "                              levels = c(\"<31\", \"31-45\", \"46-58\", \"59-70\", \"71+\"))\n",
    "holdout$longdist <- ordered(holdout$longdist, \n",
    "                            levels = c(\"<2\", \"2-8\", \"9-14\", \"15-20\", \"21+\"))\n",
    "holdout$local <- ordered(holdout$local, \n",
    "                         levels = c(\"<8\", \"8-20\", \"21-35\", \"36-55\", \"56+\"))\n",
    "holdout$agecat <- ordered(holdout$agecat, \n",
    "                          levels = c(\"<31\", \"31-45\", \"46-58\", \"59-70\", \"71+\"))"
   ]
  },
  {
   "cell_type": "code",
   "execution_count": 53,
   "metadata": {},
   "outputs": [
    {
     "data": {
      "text/html": [
       "<dl class=dl-horizontal>\n",
       "\t<dt>longdist</dt>\n",
       "\t\t<dd>0</dd>\n",
       "\t<dt>local</dt>\n",
       "\t\t<dd>0</dd>\n",
       "\t<dt>int_disc</dt>\n",
       "\t\t<dd>0</dd>\n",
       "\t<dt>billtype</dt>\n",
       "\t\t<dd>0</dd>\n",
       "\t<dt>pay</dt>\n",
       "\t\t<dd>0</dd>\n",
       "\t<dt>gender</dt>\n",
       "\t\t<dd>0</dd>\n",
       "\t<dt>marital</dt>\n",
       "\t\t<dd>0</dd>\n",
       "\t<dt>income</dt>\n",
       "\t\t<dd>0</dd>\n",
       "\t<dt>agecat</dt>\n",
       "\t\t<dd>0</dd>\n",
       "\t<dt>churn</dt>\n",
       "\t\t<dd>0</dd>\n",
       "</dl>\n"
      ],
      "text/latex": [
       "\\begin{description*}\n",
       "\\item[longdist] 0\n",
       "\\item[local] 0\n",
       "\\item[int\\textbackslash{}\\_disc] 0\n",
       "\\item[billtype] 0\n",
       "\\item[pay] 0\n",
       "\\item[gender] 0\n",
       "\\item[marital] 0\n",
       "\\item[income] 0\n",
       "\\item[agecat] 0\n",
       "\\item[churn] 0\n",
       "\\end{description*}\n"
      ],
      "text/markdown": [
       "longdist\n",
       ":   0local\n",
       ":   0int_disc\n",
       ":   0billtype\n",
       ":   0pay\n",
       ":   0gender\n",
       ":   0marital\n",
       ":   0income\n",
       ":   0agecat\n",
       ":   0churn\n",
       ":   0\n",
       "\n"
      ],
      "text/plain": [
       "longdist    local int_disc billtype      pay   gender  marital   income \n",
       "       0        0        0        0        0        0        0        0 \n",
       "  agecat    churn \n",
       "       0        0 "
      ]
     },
     "metadata": {},
     "output_type": "display_data"
    }
   ],
   "source": [
    "# выводим информацию о пропусках в обучающей выборке\n",
    "sapply(development, function(x) sum(is.na(x)))"
   ]
  },
  {
   "cell_type": "code",
   "execution_count": 54,
   "metadata": {
    "scrolled": true
   },
   "outputs": [
    {
     "data": {
      "text/html": [
       "<dl class=dl-horizontal>\n",
       "\t<dt>longdist</dt>\n",
       "\t\t<dd>0</dd>\n",
       "\t<dt>local</dt>\n",
       "\t\t<dd>0</dd>\n",
       "\t<dt>int_disc</dt>\n",
       "\t\t<dd>0</dd>\n",
       "\t<dt>billtype</dt>\n",
       "\t\t<dd>0</dd>\n",
       "\t<dt>pay</dt>\n",
       "\t\t<dd>0</dd>\n",
       "\t<dt>gender</dt>\n",
       "\t\t<dd>0</dd>\n",
       "\t<dt>marital</dt>\n",
       "\t\t<dd>0</dd>\n",
       "\t<dt>income</dt>\n",
       "\t\t<dd>0</dd>\n",
       "\t<dt>agecat</dt>\n",
       "\t\t<dd>0</dd>\n",
       "\t<dt>churn</dt>\n",
       "\t\t<dd>0</dd>\n",
       "</dl>\n"
      ],
      "text/latex": [
       "\\begin{description*}\n",
       "\\item[longdist] 0\n",
       "\\item[local] 0\n",
       "\\item[int\\textbackslash{}\\_disc] 0\n",
       "\\item[billtype] 0\n",
       "\\item[pay] 0\n",
       "\\item[gender] 0\n",
       "\\item[marital] 0\n",
       "\\item[income] 0\n",
       "\\item[agecat] 0\n",
       "\\item[churn] 0\n",
       "\\end{description*}\n"
      ],
      "text/markdown": [
       "longdist\n",
       ":   0local\n",
       ":   0int_disc\n",
       ":   0billtype\n",
       ":   0pay\n",
       ":   0gender\n",
       ":   0marital\n",
       ":   0income\n",
       ":   0agecat\n",
       ":   0churn\n",
       ":   0\n",
       "\n"
      ],
      "text/plain": [
       "longdist    local int_disc billtype      pay   gender  marital   income \n",
       "       0        0        0        0        0        0        0        0 \n",
       "  agecat    churn \n",
       "       0        0 "
      ]
     },
     "metadata": {},
     "output_type": "display_data"
    }
   ],
   "source": [
    "# выводим информацию о пропусках в контрольной выборке\n",
    "sapply(holdout, function(x) sum(is.na(x)))"
   ]
  },
  {
   "cell_type": "markdown",
   "metadata": {},
   "source": [
    "## 2.2.10. Биннинг количественных переменных для получения порядковых предикторов"
   ]
  },
  {
   "cell_type": "code",
   "execution_count": 55,
   "metadata": {},
   "outputs": [
    {
     "data": {
      "text/html": [
       "<ol class=list-inline>\n",
       "\t<li>110.28</li>\n",
       "\t<li>99832.9</li>\n",
       "</ol>\n"
      ],
      "text/latex": [
       "\\begin{enumerate*}\n",
       "\\item 110.28\n",
       "\\item 99832.9\n",
       "\\end{enumerate*}\n"
      ],
      "text/markdown": [
       "1. 110.28\n",
       "2. 99832.9\n",
       "\n",
       "\n"
      ],
      "text/plain": [
       "[1]   110.28 99832.90"
      ]
     },
     "metadata": {},
     "output_type": "display_data"
    }
   ],
   "source": [
    "# выводим диапазон значений \n",
    "# переменной income\n",
    "range(development$income)"
   ]
  },
  {
   "cell_type": "code",
   "execution_count": 56,
   "metadata": {},
   "outputs": [],
   "source": [
    "# разбиваем переменную income на 10 интервалов\n",
    "# одинаковой ширины\n",
    "development$binned <-cut(x = development$income, \n",
    "                         breaks = seq(0, 100000, by = 10000), \n",
    "                         include.lowest = TRUE, right = TRUE, \n",
    "                         ordered_result = TRUE, dig.lab = 6)"
   ]
  },
  {
   "cell_type": "code",
   "execution_count": 57,
   "metadata": {},
   "outputs": [
    {
     "data": {
      "text/html": [
       "<dl class=dl-horizontal>\n",
       "\t<dt>[0,10000]</dt>\n",
       "\t\t<dd>278</dd>\n",
       "\t<dt>(10000,20000]</dt>\n",
       "\t\t<dd>321</dd>\n",
       "\t<dt>(20000,30000]</dt>\n",
       "\t\t<dd>307</dd>\n",
       "\t<dt>(30000,40000]</dt>\n",
       "\t\t<dd>307</dd>\n",
       "\t<dt>(40000,50000]</dt>\n",
       "\t\t<dd>283</dd>\n",
       "\t<dt>(50000,60000]</dt>\n",
       "\t\t<dd>382</dd>\n",
       "\t<dt>(60000,70000]</dt>\n",
       "\t\t<dd>319</dd>\n",
       "\t<dt>(70000,80000]</dt>\n",
       "\t\t<dd>268</dd>\n",
       "\t<dt>(80000,90000]</dt>\n",
       "\t\t<dd>308</dd>\n",
       "\t<dt>(90000,100000]</dt>\n",
       "\t\t<dd>307</dd>\n",
       "</dl>\n"
      ],
      "text/latex": [
       "\\begin{description*}\n",
       "\\item[\\{{[}\\}0,10000\\{{]}\\}] 278\n",
       "\\item[(10000,20000\\{{]}\\}] 321\n",
       "\\item[(20000,30000\\{{]}\\}] 307\n",
       "\\item[(30000,40000\\{{]}\\}] 307\n",
       "\\item[(40000,50000\\{{]}\\}] 283\n",
       "\\item[(50000,60000\\{{]}\\}] 382\n",
       "\\item[(60000,70000\\{{]}\\}] 319\n",
       "\\item[(70000,80000\\{{]}\\}] 268\n",
       "\\item[(80000,90000\\{{]}\\}] 308\n",
       "\\item[(90000,100000\\{{]}\\}] 307\n",
       "\\end{description*}\n"
      ],
      "text/markdown": [
       "[0,10000]\n",
       ":   278(10000,20000]\n",
       ":   321(20000,30000]\n",
       ":   307(30000,40000]\n",
       ":   307(40000,50000]\n",
       ":   283(50000,60000]\n",
       ":   382(60000,70000]\n",
       ":   319(70000,80000]\n",
       ":   268(80000,90000]\n",
       ":   308(90000,100000]\n",
       ":   307\n",
       "\n"
      ],
      "text/plain": [
       "     [0,10000]  (10000,20000]  (20000,30000]  (30000,40000]  (40000,50000] \n",
       "           278            321            307            307            283 \n",
       " (50000,60000]  (60000,70000]  (70000,80000]  (80000,90000] (90000,100000] \n",
       "           382            319            268            308            307 "
      ]
     },
     "metadata": {},
     "output_type": "display_data"
    }
   ],
   "source": [
    "# смотрим распределение значений\n",
    "# переменной binned\n",
    "summary(development$binned)"
   ]
  },
  {
   "cell_type": "code",
   "execution_count": 58,
   "metadata": {},
   "outputs": [],
   "source": [
    "# загружаем пакет lsr\n",
    "library(lsr)\n",
    "# с помощью функции quantileCut пакета lsr разбиваем\n",
    "# переменную income на 10 интервалов c одинаковым\n",
    "# количеством наблюдений\n",
    "development$binned2 <- quantileCut(x = development$income, n = 10, \n",
    "                                   include.lowest = TRUE, right = TRUE, \n",
    "                                   ordered_result = TRUE, dig.lab = 6)"
   ]
  },
  {
   "cell_type": "code",
   "execution_count": 59,
   "metadata": {},
   "outputs": [
    {
     "data": {
      "text/html": [
       "<dl class=dl-horizontal>\n",
       "\t<dt>[10.5574,11254.7]</dt>\n",
       "\t\t<dd>308</dd>\n",
       "\t<dt>(11254.7,20806.8]</dt>\n",
       "\t\t<dd>308</dd>\n",
       "\t<dt>(20806.8,30901.3]</dt>\n",
       "\t\t<dd>310</dd>\n",
       "\t<dt>(30901.3,40756]</dt>\n",
       "\t\t<dd>306</dd>\n",
       "\t<dt>(40756,50290.7]</dt>\n",
       "\t\t<dd>341</dd>\n",
       "\t<dt>(50290.7,58990.9]</dt>\n",
       "\t\t<dd>275</dd>\n",
       "\t<dt>(58990.9,68767]</dt>\n",
       "\t\t<dd>309</dd>\n",
       "\t<dt>(68767,79962.5]</dt>\n",
       "\t\t<dd>307</dd>\n",
       "\t<dt>(79962.5,89931.5]</dt>\n",
       "\t\t<dd>308</dd>\n",
       "\t<dt>(89931.5,99932.6]</dt>\n",
       "\t\t<dd>308</dd>\n",
       "</dl>\n"
      ],
      "text/latex": [
       "\\begin{description*}\n",
       "\\item[\\{{[}\\}10.5574,11254.7\\{{]}\\}] 308\n",
       "\\item[(11254.7,20806.8\\{{]}\\}] 308\n",
       "\\item[(20806.8,30901.3\\{{]}\\}] 310\n",
       "\\item[(30901.3,40756\\{{]}\\}] 306\n",
       "\\item[(40756,50290.7\\{{]}\\}] 341\n",
       "\\item[(50290.7,58990.9\\{{]}\\}] 275\n",
       "\\item[(58990.9,68767\\{{]}\\}] 309\n",
       "\\item[(68767,79962.5\\{{]}\\}] 307\n",
       "\\item[(79962.5,89931.5\\{{]}\\}] 308\n",
       "\\item[(89931.5,99932.6\\{{]}\\}] 308\n",
       "\\end{description*}\n"
      ],
      "text/markdown": [
       "[10.5574,11254.7]\n",
       ":   308(11254.7,20806.8]\n",
       ":   308(20806.8,30901.3]\n",
       ":   310(30901.3,40756]\n",
       ":   306(40756,50290.7]\n",
       ":   341(50290.7,58990.9]\n",
       ":   275(58990.9,68767]\n",
       ":   309(68767,79962.5]\n",
       ":   307(79962.5,89931.5]\n",
       ":   308(89931.5,99932.6]\n",
       ":   308\n",
       "\n"
      ],
      "text/plain": [
       "[10.5574,11254.7] (11254.7,20806.8] (20806.8,30901.3]   (30901.3,40756] \n",
       "              308               308               310               306 \n",
       "  (40756,50290.7] (50290.7,58990.9]   (58990.9,68767]   (68767,79962.5] \n",
       "              341               275               309               307 \n",
       "(79962.5,89931.5] (89931.5,99932.6] \n",
       "              308               308 "
      ]
     },
     "metadata": {},
     "output_type": "display_data"
    }
   ],
   "source": [
    "# смотрим распределение значений\n",
    "# переменной binned2\n",
    "summary(development$binned2)"
   ]
  },
  {
   "cell_type": "code",
   "execution_count": 60,
   "metadata": {},
   "outputs": [
    {
     "name": "stdout",
     "output_type": "stream",
     "text": [
      "'data.frame':\t3080 obs. of  12 variables:\n",
      " $ longdist: Ord.factor w/ 5 levels \"<2\"<\"2-8\"<\"9-14\"<..: 1 4 1 1 4 4 1 1 1 1 ...\n",
      " $ local   : Ord.factor w/ 5 levels \"<8\"<\"8-20\"<\"21-35\"<..: 1 1 1 3 1 1 1 1 1 1 ...\n",
      " $ int_disc: Factor w/ 2 levels \"Да\",\"Нет\": 2 2 2 2 2 2 1 2 2 2 ...\n",
      " $ billtype: Factor w/ 2 levels \"Бесплатный\",\"Бюджетный\": 2 1 1 1 1 2 2 1 1 2 ...\n",
      " $ pay     : Factor w/ 3 levels \"Auto\",\"CC\",\"CH\": 2 2 3 1 2 2 3 2 3 2 ...\n",
      " $ gender  : Factor w/ 2 levels \"Женский\",\"Мужской\": 2 2 2 2 1 2 2 2 2 1 ...\n",
      " $ marital : Factor w/ 2 levels \"Женат\",\"Одинокий\": 1 1 2 2 2 1 2 1 2 1 ...\n",
      " $ income  : num  77680 37112 50184 16830 57273 ...\n",
      " $ agecat  : Ord.factor w/ 5 levels \"<31\"<\"31-45\"<..: 1 1 1 1 1 1 1 1 1 1 ...\n",
      " $ churn   : Factor w/ 2 levels \"Остается\",\"Уходит\": 2 2 1 2 2 2 2 2 1 2 ...\n",
      " $ binned  : Ord.factor w/ 10 levels \"[0,10000]\"<\"(10000,20000]\"<..: 8 4 6 2 6 6 10 4 2 2 ...\n",
      " $ binned2 : Ord.factor w/ 10 levels \"[10.5574,11254.7]\"<..: 8 4 5 2 6 5 10 4 2 2 ...\n"
     ]
    }
   ],
   "source": [
    "# смотрим типы переменных\n",
    "str(development)"
   ]
  },
  {
   "cell_type": "code",
   "execution_count": 61,
   "metadata": {},
   "outputs": [],
   "source": [
    "# удаляем только что созданные переменные\n",
    "development$binned <- NULL\n",
    "development$binned2 <- NULL"
   ]
  },
  {
   "cell_type": "code",
   "execution_count": 62,
   "metadata": {},
   "outputs": [],
   "source": [
    "# выполняем биннинг с учетом полученных правил разбиения\n",
    "development$income <-cut(x = development$income, \n",
    "                         breaks = c(-Inf, 11000, 21000, 31000, 41000,\n",
    "                                    50000, 59000, 69000, 80000,\n",
    "                                    90000, +Inf), \n",
    "                         include.lowest = TRUE, \n",
    "                         ordered_result = TRUE)\n",
    "\n",
    "holdout$income <-cut(x = holdout$income, \n",
    "                     breaks = c(-Inf, 11000, 21000, 31000, 41000,\n",
    "                                50000, 59000, 69000 ,80000,\n",
    "                                90000, +Inf), \n",
    "                     include.lowest = TRUE, \n",
    "                     ordered_result = TRUE)"
   ]
  },
  {
   "cell_type": "markdown",
   "metadata": {},
   "source": [
    "# Лекция 2.3. Построение модели дерева CHAID и ее проверка"
   ]
  },
  {
   "cell_type": "markdown",
   "metadata": {},
   "source": [
    "## 2.3.1. Построение модели и работа с диаграммой дерева"
   ]
  },
  {
   "cell_type": "code",
   "execution_count": 63,
   "metadata": {},
   "outputs": [
    {
     "name": "stderr",
     "output_type": "stream",
     "text": [
      "Loading required package: partykit\n",
      "Loading required package: grid\n"
     ]
    }
   ],
   "source": [
    "# загружаем пакет CHAID\n",
    "library(CHAID)"
   ]
  },
  {
   "cell_type": "code",
   "execution_count": 64,
   "metadata": {},
   "outputs": [],
   "source": [
    "# задаем набор условий для построения дерева CHAID\n",
    "params <- chaid_control(minprob = 0.01, minsplit = 1000, minbucket = 500)\n",
    "# строим модель дерева CHAID\n",
    "chd  <- chaid(churn ~ ., control = params, data = development)"
   ]
  },
  {
   "cell_type": "code",
   "execution_count": 65,
   "metadata": {},
   "outputs": [
    {
     "data": {
      "image/png": "[encoded data removed]",
      "text/plain": [
       "plot without title"
      ]
     },
     "metadata": {},
     "output_type": "display_data"
    }
   ],
   "source": [
    "# выводим диаграмму дерева\n",
    "plot(chd)"
   ]
  },
  {
   "cell_type": "code",
   "execution_count": 66,
   "metadata": {
    "scrolled": true
   },
   "outputs": [
    {
     "name": "stdout",
     "output_type": "stream",
     "text": [
      "\n",
      "Model formula:\n",
      "churn ~ longdist + local + int_disc + billtype + pay + gender + \n",
      "    marital + income + agecat\n",
      "\n",
      "Fitted party:\n",
      "[1] root\n",
      "|   [2] gender in Женский\n",
      "|   |   [3] longdist <2: Уходит (n = 279, err = 7.9%)\n",
      "|   |   [4] longdist in 2-8, 9-14: Уходит (n = 608, err = 34.4%)\n",
      "|   |   [5] longdist in 15-20, 21+: Уходит (n = 644, err = 42.7%)\n",
      "|   [6] gender in Мужской\n",
      "|   |   [7] local <8: Уходит (n = 248, err = 44.4%)\n",
      "|   |   [8] local in 8-20, 21-35, 36-55, 56+\n",
      "|   |   |   [9] agecat <31: Остается (n = 205, err = 31.2%)\n",
      "|   |   |   [10] agecat in 31-45, 46-58, 59-70, 71+\n",
      "|   |   |   |   [11] longdist <2: Остается (n = 70, err = 4.3%)\n",
      "|   |   |   |   [12] longdist in 2-8: Остается (n = 248, err = 13.3%)\n",
      "|   |   |   |   [13] longdist in 9-14, 15-20: Остается (n = 582, err = 7.4%)\n",
      "|   |   |   |   [14] longdist in 21+: Остается (n = 196, err = 14.3%)\n",
      "\n",
      "Number of inner nodes:    5\n",
      "Number of terminal nodes: 9\n"
     ]
    }
   ],
   "source": [
    "# выводим диаграмму дерева\n",
    "# в схематичном виде\n",
    "print(chd)"
   ]
  },
  {
   "cell_type": "markdown",
   "metadata": {},
   "source": [
    "## 2.3.2. Получение прогнозов модели"
   ]
  },
  {
   "cell_type": "code",
   "execution_count": 67,
   "metadata": {},
   "outputs": [
    {
     "data": {
      "text/html": [
       "<ol class=list-inline>\n",
       "\t<li>0.443548387096774</li>\n",
       "\t<li>0.443548387096774</li>\n",
       "\t<li>0.443548387096774</li>\n",
       "\t<li>0.0788530465949821</li>\n",
       "\t<li>0.0788530465949821</li>\n",
       "\t<li>0.443548387096774</li>\n",
       "\t<li>0.0788530465949821</li>\n",
       "\t<li>0.443548387096774</li>\n",
       "\t<li>0.443548387096774</li>\n",
       "\t<li>0.443548387096774</li>\n",
       "</ol>\n"
      ],
      "text/latex": [
       "\\begin{enumerate*}\n",
       "\\item 0.443548387096774\n",
       "\\item 0.443548387096774\n",
       "\\item 0.443548387096774\n",
       "\\item 0.0788530465949821\n",
       "\\item 0.0788530465949821\n",
       "\\item 0.443548387096774\n",
       "\\item 0.0788530465949821\n",
       "\\item 0.443548387096774\n",
       "\\item 0.443548387096774\n",
       "\\item 0.443548387096774\n",
       "\\end{enumerate*}\n"
      ],
      "text/markdown": [
       "1. 0.443548387096774\n",
       "2. 0.443548387096774\n",
       "3. 0.443548387096774\n",
       "4. 0.0788530465949821\n",
       "5. 0.0788530465949821\n",
       "6. 0.443548387096774\n",
       "7. 0.0788530465949821\n",
       "8. 0.443548387096774\n",
       "9. 0.443548387096774\n",
       "10. 0.443548387096774\n",
       "\n",
       "\n"
      ],
      "text/plain": [
       " [1] 0.44354839 0.44354839 0.44354839 0.07885305 0.07885305 0.44354839\n",
       " [7] 0.07885305 0.44354839 0.44354839 0.44354839"
      ]
     },
     "metadata": {},
     "output_type": "display_data"
    }
   ],
   "source": [
    "# выводим спрогнозированные вероятности отрицательного\n",
    "# класса для первых 10 наблюдений\n",
    "# контрольной выборки\n",
    "prob_hold <- predict(chd, holdout, type = \"prob\")\n",
    "prob_hold[1:10]"
   ]
  },
  {
   "cell_type": "code",
   "execution_count": 68,
   "metadata": {},
   "outputs": [
    {
     "data": {
      "text/html": [
       "<ol class=list-inline>\n",
       "\t<li>0.44</li>\n",
       "\t<li>0.44</li>\n",
       "\t<li>0.44</li>\n",
       "\t<li>0.08</li>\n",
       "\t<li>0.08</li>\n",
       "\t<li>0.44</li>\n",
       "\t<li>0.08</li>\n",
       "\t<li>0.44</li>\n",
       "\t<li>0.44</li>\n",
       "\t<li>0.44</li>\n",
       "</ol>\n"
      ],
      "text/latex": [
       "\\begin{enumerate*}\n",
       "\\item 0.44\n",
       "\\item 0.44\n",
       "\\item 0.44\n",
       "\\item 0.08\n",
       "\\item 0.08\n",
       "\\item 0.44\n",
       "\\item 0.08\n",
       "\\item 0.44\n",
       "\\item 0.44\n",
       "\\item 0.44\n",
       "\\end{enumerate*}\n"
      ],
      "text/markdown": [
       "1. 0.44\n",
       "2. 0.44\n",
       "3. 0.44\n",
       "4. 0.08\n",
       "5. 0.08\n",
       "6. 0.44\n",
       "7. 0.08\n",
       "8. 0.44\n",
       "9. 0.44\n",
       "10. 0.44\n",
       "\n",
       "\n"
      ],
      "text/plain": [
       " [1] 0.44 0.44 0.44 0.08 0.08 0.44 0.08 0.44 0.44 0.44"
      ]
     },
     "metadata": {},
     "output_type": "display_data"
    }
   ],
   "source": [
    "# округляем спрогнозированные вероятности\n",
    "# до второго десятичного знака\n",
    "round(prob_hold[1:10], 2)"
   ]
  },
  {
   "cell_type": "code",
   "execution_count": 69,
   "metadata": {},
   "outputs": [],
   "source": [
    "# извлекаем правила разбиения,\n",
    "# полученные нашей моделью\n",
    "library(partykit)\n",
    "treetable <- function(party_tree) {\n",
    "  \n",
    "  df_list <- list()\n",
    "  var_names <-  attr(party_tree$terms, \"term.labels\")\n",
    "  var_levels <- lapply(party_tree$data, levels)\n",
    "  \n",
    "  walk_the_tree <- function(node, rule_branch = NULL) {\n",
    "    # проходим структуру разбиений дерева (рекурсивная функция)\n",
    "    # извлекаем правила для каждой ветви\n",
    "    if(missing(rule_branch)) {\n",
    "      rule_branch <- setNames(data.frame(t(replicate(length(var_names), NA))), var_names)\n",
    "      rule_branch <- cbind(rule_branch, nodeId = NA)\n",
    "      rule_branch <- cbind(rule_branch, predict = NA)\n",
    "    }\n",
    "    if(is.terminal(node)) {\n",
    "      rule_branch[[\"nodeId\"]] <- node$id\n",
    "      rule_branch[[\"predict\"]] <- predict_party(party_tree, node$id, type = \"prob\") \n",
    "      \n",
    "      \n",
    "      df_list[[as.character(node$id)]] <<- rule_branch\n",
    "    } else {\n",
    "      for(i in 1:length(node)) {\n",
    "        rule_branch1 <- rule_branch\n",
    "        val1 <- decision_rule(node,i)\n",
    "        rule_branch1[[names(val1)[1]]] <- val1\n",
    "        walk_the_tree(node[i], rule_branch1)\n",
    "      }\n",
    "    }\n",
    "  }\n",
    "  \n",
    "  decision_rule <- function(node, i) {\n",
    "    # возвращаем правила разбиения в датафрейм вместе \n",
    "    # с названиями переменных и значениями\n",
    "    var_name <- var_names[node$split$varid[[1]]]\n",
    "    values_vec <- var_levels[[var_name]][ node$split$index == i]\n",
    "    values_txt <- paste(values_vec, collapse = \", \")\n",
    "    return( setNames(values_txt, var_name))\n",
    "  }\n",
    "  walk_the_tree(party_tree$node)\n",
    "  res_table <- Reduce(rbind, df_list)\n",
    "  return(res_table)\n",
    "}\n",
    "\n",
    "table <- treetable(chd)"
   ]
  },
  {
   "cell_type": "code",
   "execution_count": 70,
   "metadata": {},
   "outputs": [
    {
     "name": "stdout",
     "output_type": "stream",
     "text": [
      "     longdist                   local int_disc billtype pay  gender marital\n",
      "1          <2                    <NA>       NA       NA  NA Женский      NA\n",
      "2   2-8, 9-14                    <NA>       NA       NA  NA Женский      NA\n",
      "3  15-20, 21+                    <NA>       NA       NA  NA Женский      NA\n",
      "4        <NA>                      <8       NA       NA  NA Мужской      NA\n",
      "5        <NA> 8-20, 21-35, 36-55, 56+       NA       NA  NA Мужской      NA\n",
      "6          <2 8-20, 21-35, 36-55, 56+       NA       NA  NA Мужской      NA\n",
      "7         2-8 8-20, 21-35, 36-55, 56+       NA       NA  NA Мужской      NA\n",
      "8 9-14, 15-20 8-20, 21-35, 36-55, 56+       NA       NA  NA Мужской      NA\n",
      "9         21+ 8-20, 21-35, 36-55, 56+       NA       NA  NA Мужской      NA\n",
      "  income                   agecat nodeId predict.Остается predict.Уходит\n",
      "1     NA                     <NA>      3       0.07885305     0.92114695\n",
      "2     NA                     <NA>      4       0.34375000     0.65625000\n",
      "3     NA                     <NA>      5       0.42701863     0.57298137\n",
      "4     NA                     <NA>      7       0.44354839     0.55645161\n",
      "5     NA                      <31      9       0.68780488     0.31219512\n",
      "6     NA 31-45, 46-58, 59-70, 71+     11       0.95714286     0.04285714\n",
      "7     NA 31-45, 46-58, 59-70, 71+     12       0.86693548     0.13306452\n",
      "8     NA 31-45, 46-58, 59-70, 71+     13       0.92611684     0.07388316\n",
      "9     NA 31-45, 46-58, 59-70, 71+     14       0.85714286     0.14285714\n"
     ]
    }
   ],
   "source": [
    "print(table)"
   ]
  },
  {
   "cell_type": "code",
   "execution_count": 71,
   "metadata": {
    "scrolled": true
   },
   "outputs": [
    {
     "data": {
      "text/html": [
       "<dl class=dl-horizontal>\n",
       "\t<dt>3</dt>\n",
       "\t\t<dd>Уходит</dd>\n",
       "\t<dt>8</dt>\n",
       "\t\t<dd>Уходит</dd>\n",
       "\t<dt>14</dt>\n",
       "\t\t<dd>Уходит</dd>\n",
       "\t<dt>18</dt>\n",
       "\t\t<dd>Уходит</dd>\n",
       "\t<dt>22</dt>\n",
       "\t\t<dd>Уходит</dd>\n",
       "\t<dt>25</dt>\n",
       "\t\t<dd>Уходит</dd>\n",
       "\t<dt>35</dt>\n",
       "\t\t<dd>Уходит</dd>\n",
       "\t<dt>37</dt>\n",
       "\t\t<dd>Уходит</dd>\n",
       "\t<dt>38</dt>\n",
       "\t\t<dd>Уходит</dd>\n",
       "\t<dt>43</dt>\n",
       "\t\t<dd>Уходит</dd>\n",
       "</dl>\n"
      ],
      "text/latex": [
       "\\begin{description*}\n",
       "\\item[3] Уходит\n",
       "\\item[8] Уходит\n",
       "\\item[14] Уходит\n",
       "\\item[18] Уходит\n",
       "\\item[22] Уходит\n",
       "\\item[25] Уходит\n",
       "\\item[35] Уходит\n",
       "\\item[37] Уходит\n",
       "\\item[38] Уходит\n",
       "\\item[43] Уходит\n",
       "\\end{description*}\n"
      ],
      "text/markdown": [
       "3\n",
       ":   Уходит8\n",
       ":   Уходит14\n",
       ":   Уходит18\n",
       ":   Уходит22\n",
       ":   Уходит25\n",
       ":   Уходит35\n",
       ":   Уходит37\n",
       ":   Уходит38\n",
       ":   Уходит43\n",
       ":   Уходит\n",
       "\n"
      ],
      "text/plain": [
       "     3      8     14     18     22     25     35     37     38     43 \n",
       "Уходит Уходит Уходит Уходит Уходит Уходит Уходит Уходит Уходит Уходит \n",
       "Levels: Остается Уходит"
      ]
     },
     "metadata": {},
     "output_type": "display_data"
    }
   ],
   "source": [
    "# задаем стартовое значение генератора\n",
    "# случайных чисел для воспроизводимости\n",
    "set.seed(42)\n",
    "\n",
    "# выводим спрогнозированные классы\n",
    "# для первых 10 наблюдений\n",
    "# контрольной выборки\n",
    "predvalue_hold <- predict(chd, holdout, type = \"response\")\n",
    "predvalue_hold[1:10]"
   ]
  },
  {
   "cell_type": "code",
   "execution_count": 72,
   "metadata": {},
   "outputs": [
    {
     "data": {
      "text/plain": [
       "          predvalue_hold\n",
       "           Остается Уходит\n",
       "  Остается      464    282\n",
       "  Уходит         73    525"
      ]
     },
     "metadata": {},
     "output_type": "display_data"
    }
   ],
   "source": [
    "# строим таблицу классификации\n",
    "table(holdout$churn, predvalue_hold)"
   ]
  },
  {
   "cell_type": "markdown",
   "metadata": {},
   "source": [
    "## 2.3.3. Работа с матрицей ошибок"
   ]
  },
  {
   "cell_type": "code",
   "execution_count": 73,
   "metadata": {},
   "outputs": [
    {
     "data": {
      "text/plain": [
       "       \n",
       "        FALSE TRUE\n",
       "  FALSE   413  333\n",
       "  TRUE     49  549"
      ]
     },
     "metadata": {},
     "output_type": "display_data"
    }
   ],
   "source": [
    "# снижаем пороговое значение спрогнозированной\n",
    "# вероятности положительного класса до 0.3\n",
    "table(holdout$churn == \"Уходит\", predict(chd, \n",
    "                                         holdout, type = \"prob\")[,\"Уходит\"] >= 0.30)"
   ]
  },
  {
   "cell_type": "code",
   "execution_count": 74,
   "metadata": {
    "scrolled": true
   },
   "outputs": [
    {
     "data": {
      "text/plain": [
       "       \n",
       "        FALSE TRUE\n",
       "  FALSE   729   17\n",
       "  TRUE    492  106"
      ]
     },
     "metadata": {},
     "output_type": "display_data"
    }
   ],
   "source": [
    "# повышаем пороговое значение спрогнозированной\n",
    "# вероятности положительного класса до 0.7\n",
    "table(holdout$churn == \"Уходит\", predict(chd, \n",
    "                                         holdout, type = \"prob\")[,\"Уходит\"] >= 0.70)"
   ]
  },
  {
   "cell_type": "markdown",
   "metadata": {},
   "source": [
    "## 2.3.4. Знакомство с ROC-кривой и AUC"
   ]
  },
  {
   "cell_type": "code",
   "execution_count": 75,
   "metadata": {},
   "outputs": [],
   "source": [
    "# создаем вектор фактических значений (классов)\n",
    "# зависимой переменной\n",
    "cls = c('P', 'P', 'P', 'N', 'P', 'P', 'N', 'P', 'P', 'N', 'N',\n",
    "        'N', 'N', 'N', 'P', 'N', 'N', 'N', 'N', 'N')"
   ]
  },
  {
   "cell_type": "code",
   "execution_count": 76,
   "metadata": {},
   "outputs": [],
   "source": [
    "# создаем вектор спрогнозированных вероятностей \n",
    "# положительного класса\n",
    "score = c(0.92, 0.9, 0.88, 0.85, 0.82, 0.79, 0.75, 0.73, 0.72, 0.7, 0.6, \n",
    "          0.59, 0.58, 0.53, 0.52, 0.4, 0.33, 0.32, 0.24, 0.18)"
   ]
  },
  {
   "cell_type": "code",
   "execution_count": 77,
   "metadata": {},
   "outputs": [],
   "source": [
    "# записываем положительные\n",
    "# и отрицательные примеры \n",
    "pos = score[cls == 'P']\n",
    "neg = score[cls == 'N']"
   ]
  },
  {
   "cell_type": "code",
   "execution_count": 78,
   "metadata": {},
   "outputs": [
    {
     "data": {
      "text/html": [
       "0.864645"
      ],
      "text/latex": [
       "0.864645"
      ],
      "text/markdown": [
       "0.864645"
      ],
      "text/plain": [
       "[1] 0.864645"
      ]
     },
     "metadata": {},
     "output_type": "display_data"
    }
   ],
   "source": [
    "# задаем стартовое значение генератора\n",
    "# случайных чисел для воспроизводимости\n",
    "set.seed(14)\n",
    "\n",
    "# извлекаем случайным образом положительные и  \n",
    "# отрицательные примеры и вычисляем долю случаев, \n",
    "# когда положительные примеры получили более \n",
    "# высокий ранг, чем отрицательные примеры\n",
    "p = replicate(200000, sample(pos, size=1) > sample(neg, size=1))\n",
    "mean(p)"
   ]
  },
  {
   "cell_type": "code",
   "execution_count": 79,
   "metadata": {},
   "outputs": [
    {
     "data": {
      "text/html": [
       "<ol class=list-inline>\n",
       "\t<li>0.46</li>\n",
       "\t<li>0.45</li>\n",
       "\t<li>0.44</li>\n",
       "\t<li>0.425</li>\n",
       "\t<li>0.41</li>\n",
       "\t<li>0.395</li>\n",
       "\t<li>0.375</li>\n",
       "\t<li>0.365</li>\n",
       "\t<li>0.36</li>\n",
       "\t<li>0.35</li>\n",
       "\t<li>0.3</li>\n",
       "\t<li>0.295</li>\n",
       "\t<li>0.29</li>\n",
       "\t<li>0.265</li>\n",
       "\t<li>0.26</li>\n",
       "\t<li>0.2</li>\n",
       "\t<li>0.165</li>\n",
       "\t<li>0.16</li>\n",
       "\t<li>0.12</li>\n",
       "\t<li>0.09</li>\n",
       "</ol>\n"
      ],
      "text/latex": [
       "\\begin{enumerate*}\n",
       "\\item 0.46\n",
       "\\item 0.45\n",
       "\\item 0.44\n",
       "\\item 0.425\n",
       "\\item 0.41\n",
       "\\item 0.395\n",
       "\\item 0.375\n",
       "\\item 0.365\n",
       "\\item 0.36\n",
       "\\item 0.35\n",
       "\\item 0.3\n",
       "\\item 0.295\n",
       "\\item 0.29\n",
       "\\item 0.265\n",
       "\\item 0.26\n",
       "\\item 0.2\n",
       "\\item 0.165\n",
       "\\item 0.16\n",
       "\\item 0.12\n",
       "\\item 0.09\n",
       "\\end{enumerate*}\n"
      ],
      "text/markdown": [
       "1. 0.46\n",
       "2. 0.45\n",
       "3. 0.44\n",
       "4. 0.425\n",
       "5. 0.41\n",
       "6. 0.395\n",
       "7. 0.375\n",
       "8. 0.365\n",
       "9. 0.36\n",
       "10. 0.35\n",
       "11. 0.3\n",
       "12. 0.295\n",
       "13. 0.29\n",
       "14. 0.265\n",
       "15. 0.26\n",
       "16. 0.2\n",
       "17. 0.165\n",
       "18. 0.16\n",
       "19. 0.12\n",
       "20. 0.09\n",
       "\n",
       "\n"
      ],
      "text/plain": [
       " [1] 0.460 0.450 0.440 0.425 0.410 0.395 0.375 0.365 0.360 0.350 0.300 0.295\n",
       "[13] 0.290 0.265 0.260 0.200 0.165 0.160 0.120 0.090"
      ]
     },
     "metadata": {},
     "output_type": "display_data"
    }
   ],
   "source": [
    "# разделим вероятности на 2 \n",
    "score_divided_by_2 = c(0.92, 0.9, 0.88, 0.85, 0.82, 0.79, 0.75, 0.73, 0.72, 0.7, 0.6, \n",
    "                       0.59, 0.58, 0.53, 0.52, 0.4, 0.33, 0.32, 0.24, 0.18)/2\n",
    "\n",
    "score_divided_by_2"
   ]
  },
  {
   "cell_type": "code",
   "execution_count": 80,
   "metadata": {},
   "outputs": [
    {
     "data": {
      "text/html": [
       "0.864645"
      ],
      "text/latex": [
       "0.864645"
      ],
      "text/markdown": [
       "0.864645"
      ],
      "text/plain": [
       "[1] 0.864645"
      ]
     },
     "metadata": {},
     "output_type": "display_data"
    }
   ],
   "source": [
    "# снова вычисляем AUC как долю случаев, когда\n",
    "# случайно отобранный положительный объект\n",
    "# будет проранжирован выше, чем случайно\n",
    "# отобранный отрицательный \n",
    "pos = score_divided_by_2[cls == 'P']\n",
    "neg = score_divided_by_2[cls == 'N']\n",
    "\n",
    "set.seed(14)\n",
    "p = replicate(200000, sample(pos, size=1) > sample(neg, size=1))\n",
    "mean(p)"
   ]
  },
  {
   "cell_type": "code",
   "execution_count": 81,
   "metadata": {},
   "outputs": [
    {
     "data": {
      "text/html": [
       "<ol class=list-inline>\n",
       "\t<li>0.8464</li>\n",
       "\t<li>0.81</li>\n",
       "\t<li>0.7744</li>\n",
       "\t<li>0.7225</li>\n",
       "\t<li>0.6724</li>\n",
       "\t<li>0.6241</li>\n",
       "\t<li>0.5625</li>\n",
       "\t<li>0.5329</li>\n",
       "\t<li>0.5184</li>\n",
       "\t<li>0.49</li>\n",
       "\t<li>0.36</li>\n",
       "\t<li>0.3481</li>\n",
       "\t<li>0.3364</li>\n",
       "\t<li>0.2809</li>\n",
       "\t<li>0.2704</li>\n",
       "\t<li>0.16</li>\n",
       "\t<li>0.1089</li>\n",
       "\t<li>0.1024</li>\n",
       "\t<li>0.0576</li>\n",
       "\t<li>0.0324</li>\n",
       "</ol>\n"
      ],
      "text/latex": [
       "\\begin{enumerate*}\n",
       "\\item 0.8464\n",
       "\\item 0.81\n",
       "\\item 0.7744\n",
       "\\item 0.7225\n",
       "\\item 0.6724\n",
       "\\item 0.6241\n",
       "\\item 0.5625\n",
       "\\item 0.5329\n",
       "\\item 0.5184\n",
       "\\item 0.49\n",
       "\\item 0.36\n",
       "\\item 0.3481\n",
       "\\item 0.3364\n",
       "\\item 0.2809\n",
       "\\item 0.2704\n",
       "\\item 0.16\n",
       "\\item 0.1089\n",
       "\\item 0.1024\n",
       "\\item 0.0576\n",
       "\\item 0.0324\n",
       "\\end{enumerate*}\n"
      ],
      "text/markdown": [
       "1. 0.8464\n",
       "2. 0.81\n",
       "3. 0.7744\n",
       "4. 0.7225\n",
       "5. 0.6724\n",
       "6. 0.6241\n",
       "7. 0.5625\n",
       "8. 0.5329\n",
       "9. 0.5184\n",
       "10. 0.49\n",
       "11. 0.36\n",
       "12. 0.3481\n",
       "13. 0.3364\n",
       "14. 0.2809\n",
       "15. 0.2704\n",
       "16. 0.16\n",
       "17. 0.1089\n",
       "18. 0.1024\n",
       "19. 0.0576\n",
       "20. 0.0324\n",
       "\n",
       "\n"
      ],
      "text/plain": [
       " [1] 0.8464 0.8100 0.7744 0.7225 0.6724 0.6241 0.5625 0.5329 0.5184 0.4900\n",
       "[11] 0.3600 0.3481 0.3364 0.2809 0.2704 0.1600 0.1089 0.1024 0.0576 0.0324"
      ]
     },
     "metadata": {},
     "output_type": "display_data"
    }
   ],
   "source": [
    "# возведем вероятности в квадрат \n",
    "score_squared = c(0.92, 0.9, 0.88, 0.85, 0.82, 0.79, 0.75, 0.73, 0.72, 0.7, 0.6, \n",
    "                  0.59, 0.58, 0.53, 0.52, 0.4, 0.33, 0.32, 0.24, 0.18)^2\n",
    "\n",
    "score_squared"
   ]
  },
  {
   "cell_type": "code",
   "execution_count": 82,
   "metadata": {},
   "outputs": [
    {
     "data": {
      "text/html": [
       "0.864645"
      ],
      "text/latex": [
       "0.864645"
      ],
      "text/markdown": [
       "0.864645"
      ],
      "text/plain": [
       "[1] 0.864645"
      ]
     },
     "metadata": {},
     "output_type": "display_data"
    }
   ],
   "source": [
    "# снова вычисляем AUC как долю случаев, когда\n",
    "# случайно отобранный положительный объект\n",
    "# будет проранжирован выше, чем случайно\n",
    "# отобранный отрицательный \n",
    "pos = score_squared[cls == 'P']\n",
    "neg = score_squared[cls == 'N']\n",
    "\n",
    "set.seed(14)\n",
    "p = replicate(200000, sample(pos, size=1) > sample(neg, size=1))\n",
    "mean(p)"
   ]
  },
  {
   "cell_type": "code",
   "execution_count": 83,
   "metadata": {},
   "outputs": [
    {
     "name": "stderr",
     "output_type": "stream",
     "text": [
      "Type 'citation(\"pROC\")' for a citation.\n",
      "\n",
      "Attaching package: 'pROC'\n",
      "\n",
      "The following objects are masked from 'package:stats':\n",
      "\n",
      "    cov, smooth, var\n",
      "\n"
     ]
    }
   ],
   "source": [
    "# загружаем пакет pROC \n",
    "library(pROC)\n",
    "# автоматически вычисляем AUC \n",
    "roc <- roc(cls, score)"
   ]
  },
  {
   "cell_type": "code",
   "execution_count": 84,
   "metadata": {},
   "outputs": [
    {
     "data": {
      "text/plain": [
       "\n",
       "Call:\n",
       "roc.default(response = cls, predictor = score)\n",
       "\n",
       "Data: score in 12 controls (cls N) < 8 cases (cls P).\n",
       "Area under the curve: 0.8646"
      ]
     },
     "metadata": {},
     "output_type": "display_data"
    }
   ],
   "source": [
    "# выводим информацию о значении AUC\n",
    "roc"
   ]
  },
  {
   "cell_type": "code",
   "execution_count": 85,
   "metadata": {
    "scrolled": true
   },
   "outputs": [
    {
     "data": {
      "image/png": "[encoded data removed]",
      "text/plain": [
       "plot without title"
      ]
     },
     "metadata": {},
     "output_type": "display_data"
    }
   ],
   "source": [
    "# автоматически строим ROC-кривую\n",
    "plot.roc(x = roc, legacy.axes = TRUE)"
   ]
  },
  {
   "cell_type": "markdown",
   "metadata": {},
   "source": [
    "## 2.3.5. Построение ROC-кривой и вычисление AUC для модели"
   ]
  },
  {
   "cell_type": "code",
   "execution_count": 86,
   "metadata": {},
   "outputs": [
    {
     "data": {
      "text/plain": [
       "\n",
       "Call:\n",
       "roc.default(response = holdout$churn, predictor = prob_hold[,     2])\n",
       "\n",
       "Data: prob_hold[, 2] in 746 controls (holdout$churn Остается) < 598 cases (holdout$churn Уходит).\n",
       "Area under the curve: 0.7875"
      ]
     },
     "metadata": {},
     "output_type": "display_data"
    }
   ],
   "source": [
    "# выводим AUC нашей модели дерева\n",
    "# для контрольной выборки\n",
    "roc_hold <- roc(holdout$churn, prob_hold[, 2])\n",
    "roc_hold"
   ]
  },
  {
   "cell_type": "code",
   "execution_count": 87,
   "metadata": {
    "scrolled": true
   },
   "outputs": [
    {
     "data": {
      "text/plain": [
       "\n",
       "Call:\n",
       "roc.default(response = holdout$churn, predictor = prob_hold[,     2])\n",
       "\n",
       "Data: prob_hold[, 2] in 746 controls (holdout$churn Остается) < 598 cases (holdout$churn Уходит).\n",
       "Area under the curve: 0.7875"
      ]
     },
     "metadata": {},
     "output_type": "display_data"
    },
    {
     "data": {
      "image/png": "[encoded data removed]",
      "text/plain": [
       "plot without title"
      ]
     },
     "metadata": {},
     "output_type": "display_data"
    }
   ],
   "source": [
    "# строим ROC-кривую нашей модели дерева\n",
    "# для контрольной выборки\n",
    "roc_hold <- roc(holdout$churn, prob_hold[, 2])\n",
    "roc_hold\n",
    "plot.roc(roc_hold)"
   ]
  },
  {
   "cell_type": "markdown",
   "metadata": {},
   "source": [
    "## 2.3.6. Вычисление интервальных оценок AUC для модели"
   ]
  },
  {
   "cell_type": "code",
   "execution_count": 88,
   "metadata": {},
   "outputs": [
    {
     "data": {
      "text/html": [
       "<ol class=list-inline>\n",
       "\t<li>95.3143323922995</li>\n",
       "\t<li>96.5391477313824</li>\n",
       "\t<li>60.7376744132489</li>\n",
       "\t<li>90.6746194337029</li>\n",
       "\t<li>80.2960035391152</li>\n",
       "\t<li>73.5502772021573</li>\n",
       "\t<li>85.5123573052697</li>\n",
       "\t<li>52.4066628480796</li>\n",
       "\t<li>81.1345759721007</li>\n",
       "\t<li>83.7785631220322</li>\n",
       "\t<li>70.1757976936642</li>\n",
       "\t<li>84.5511738408823</li>\n",
       "\t<li>96.4069735934027</li>\n",
       "\t<li>59.0485853387509</li>\n",
       "\t<li>70.4261052398942</li>\n",
       "\t<li>96.7007987515535</li>\n",
       "\t<li>98.8024535612203</li>\n",
       "\t<li>51.4618048910052</li>\n",
       "\t<li>71.1248394858558</li>\n",
       "\t<li>75.8183010434732</li>\n",
       "\t<li>94.721726301359</li>\n",
       "\t<li>52.6290592248552</li>\n",
       "\t<li>99.3890450906474</li>\n",
       "\t<li>97.0667527907062</li>\n",
       "\t<li>49.5340656954795</li>\n",
       "\t<li>73.2816481392365</li>\n",
       "\t<li>66.4611906907521</li>\n",
       "\t<li>94.8155972000677</li>\n",
       "\t<li>69.5833295455668</li>\n",
       "\t<li>90.9802342997864</li>\n",
       "\t<li>85.5677589774132</li>\n",
       "\t<li>89.6080327697564</li>\n",
       "\t<li>66.3459555548616</li>\n",
       "\t<li>82.6843351172283</li>\n",
       "\t<li>45.2171586337499</li>\n",
       "\t<li>90.8103844139259</li>\n",
       "\t<li>45.4033780784812</li>\n",
       "\t<li>56.4212435053196</li>\n",
       "\t<li>94.8630774288904</li>\n",
       "\t<li>78.6478253896348</li>\n",
       "\t<li>65.875758229522</li>\n",
       "\t<li>68.9674371737055</li>\n",
       "\t<li>47.0587068074383</li>\n",
       "\t<li>98.5446952574421</li>\n",
       "\t<li>68.7463186890818</li>\n",
       "\t<li>97.6667128154077</li>\n",
       "\t<li>93.8265198026784</li>\n",
       "\t<li>80.1988323207479</li>\n",
       "\t<li>98.4031635697465</li>\n",
       "\t<li>79.0361014031805</li>\n",
       "</ol>\n"
      ],
      "text/latex": [
       "\\begin{enumerate*}\n",
       "\\item 95.3143323922995\n",
       "\\item 96.5391477313824\n",
       "\\item 60.7376744132489\n",
       "\\item 90.6746194337029\n",
       "\\item 80.2960035391152\n",
       "\\item 73.5502772021573\n",
       "\\item 85.5123573052697\n",
       "\\item 52.4066628480796\n",
       "\\item 81.1345759721007\n",
       "\\item 83.7785631220322\n",
       "\\item 70.1757976936642\n",
       "\\item 84.5511738408823\n",
       "\\item 96.4069735934027\n",
       "\\item 59.0485853387509\n",
       "\\item 70.4261052398942\n",
       "\\item 96.7007987515535\n",
       "\\item 98.8024535612203\n",
       "\\item 51.4618048910052\n",
       "\\item 71.1248394858558\n",
       "\\item 75.8183010434732\n",
       "\\item 94.721726301359\n",
       "\\item 52.6290592248552\n",
       "\\item 99.3890450906474\n",
       "\\item 97.0667527907062\n",
       "\\item 49.5340656954795\n",
       "\\item 73.2816481392365\n",
       "\\item 66.4611906907521\n",
       "\\item 94.8155972000677\n",
       "\\item 69.5833295455668\n",
       "\\item 90.9802342997864\n",
       "\\item 85.5677589774132\n",
       "\\item 89.6080327697564\n",
       "\\item 66.3459555548616\n",
       "\\item 82.6843351172283\n",
       "\\item 45.2171586337499\n",
       "\\item 90.8103844139259\n",
       "\\item 45.4033780784812\n",
       "\\item 56.4212435053196\n",
       "\\item 94.8630774288904\n",
       "\\item 78.6478253896348\n",
       "\\item 65.875758229522\n",
       "\\item 68.9674371737055\n",
       "\\item 47.0587068074383\n",
       "\\item 98.5446952574421\n",
       "\\item 68.7463186890818\n",
       "\\item 97.6667128154077\n",
       "\\item 93.8265198026784\n",
       "\\item 80.1988323207479\n",
       "\\item 98.4031635697465\n",
       "\\item 79.0361014031805\n",
       "\\end{enumerate*}\n"
      ],
      "text/markdown": [
       "1. 95.3143323922995\n",
       "2. 96.5391477313824\n",
       "3. 60.7376744132489\n",
       "4. 90.6746194337029\n",
       "5. 80.2960035391152\n",
       "6. 73.5502772021573\n",
       "7. 85.5123573052697\n",
       "8. 52.4066628480796\n",
       "9. 81.1345759721007\n",
       "10. 83.7785631220322\n",
       "11. 70.1757976936642\n",
       "12. 84.5511738408823\n",
       "13. 96.4069735934027\n",
       "14. 59.0485853387509\n",
       "15. 70.4261052398942\n",
       "16. 96.7007987515535\n",
       "17. 98.8024535612203\n",
       "18. 51.4618048910052\n",
       "19. 71.1248394858558\n",
       "20. 75.8183010434732\n",
       "21. 94.721726301359\n",
       "22. 52.6290592248552\n",
       "23. 99.3890450906474\n",
       "24. 97.0667527907062\n",
       "25. 49.5340656954795\n",
       "26. 73.2816481392365\n",
       "27. 66.4611906907521\n",
       "28. 94.8155972000677\n",
       "29. 69.5833295455668\n",
       "30. 90.9802342997864\n",
       "31. 85.5677589774132\n",
       "32. 89.6080327697564\n",
       "33. 66.3459555548616\n",
       "34. 82.6843351172283\n",
       "35. 45.2171586337499\n",
       "36. 90.8103844139259\n",
       "37. 45.4033780784812\n",
       "38. 56.4212435053196\n",
       "39. 94.8630774288904\n",
       "40. 78.6478253896348\n",
       "41. 65.875758229522\n",
       "42. 68.9674371737055\n",
       "43. 47.0587068074383\n",
       "44. 98.5446952574421\n",
       "45. 68.7463186890818\n",
       "46. 97.6667128154077\n",
       "47. 93.8265198026784\n",
       "48. 80.1988323207479\n",
       "49. 98.4031635697465\n",
       "50. 79.0361014031805\n",
       "\n",
       "\n"
      ],
      "text/plain": [
       " [1] 95.31433 96.53915 60.73767 90.67462 80.29600 73.55028 85.51236 52.40666\n",
       " [9] 81.13458 83.77856 70.17580 84.55117 96.40697 59.04859 70.42611 96.70080\n",
       "[17] 98.80245 51.46180 71.12484 75.81830 94.72173 52.62906 99.38905 97.06675\n",
       "[25] 49.53407 73.28165 66.46119 94.81560 69.58333 90.98023 85.56776 89.60803\n",
       "[33] 66.34596 82.68434 45.21716 90.81038 45.40338 56.42124 94.86308 78.64783\n",
       "[41] 65.87576 68.96744 47.05871 98.54470 68.74632 97.66671 93.82652 80.19883\n",
       "[49] 98.40316 79.03610"
      ]
     },
     "metadata": {},
     "output_type": "display_data"
    }
   ],
   "source": [
    "# генеририруем 50 случайных чисел\n",
    "# в диапазоне от 45 до 100\n",
    "set.seed(42)\n",
    "income <- runif(50, min = 45, max = 100)\n",
    "income"
   ]
  },
  {
   "cell_type": "code",
   "execution_count": 89,
   "metadata": {},
   "outputs": [
    {
     "data": {
      "text/html": [
       "77.9363418463152"
      ],
      "text/latex": [
       "77.9363418463152"
      ],
      "text/markdown": [
       "77.9363418463152"
      ],
      "text/plain": [
       "[1] 77.93634"
      ]
     },
     "metadata": {},
     "output_type": "display_data"
    }
   ],
   "source": [
    "# вычисляем среднее значение дохода\n",
    "mean <- mean(income)\n",
    "mean"
   ]
  },
  {
   "cell_type": "code",
   "execution_count": 90,
   "metadata": {},
   "outputs": [],
   "source": [
    "# записываем информацию \n",
    "# о размере выборки\n",
    "N <- 50"
   ]
  },
  {
   "cell_type": "code",
   "execution_count": 91,
   "metadata": {},
   "outputs": [],
   "source": [
    "# вычисляем предел погрешности \n",
    "err <- 1.645 * (sd(income) / sqrt(N))"
   ]
  },
  {
   "cell_type": "code",
   "execution_count": 92,
   "metadata": {},
   "outputs": [
    {
     "data": {
      "text/html": [
       "74.0511270285556"
      ],
      "text/latex": [
       "74.0511270285556"
      ],
      "text/markdown": [
       "74.0511270285556"
      ],
      "text/plain": [
       "[1] 74.05113"
      ]
     },
     "metadata": {},
     "output_type": "display_data"
    }
   ],
   "source": [
    "# вычисляем нижнюю границу 90%-ного\n",
    "# доверительного интервала \n",
    "mean - err"
   ]
  },
  {
   "cell_type": "code",
   "execution_count": 93,
   "metadata": {},
   "outputs": [
    {
     "data": {
      "text/html": [
       "81.8215566640748"
      ],
      "text/latex": [
       "81.8215566640748"
      ],
      "text/markdown": [
       "81.8215566640748"
      ],
      "text/plain": [
       "[1] 81.82156"
      ]
     },
     "metadata": {},
     "output_type": "display_data"
    }
   ],
   "source": [
    "# вычисляем верхнюю границу 90%-ного\n",
    "# доверительного интервала \n",
    "mean + err"
   ]
  },
  {
   "cell_type": "code",
   "execution_count": 94,
   "metadata": {},
   "outputs": [],
   "source": [
    "# генерируем данные\n",
    "set.seed(42)\n",
    "income <- runif(50, min = 45, max = 100)\n",
    "# создаем 5000 бутстреп-выборок и вычисляем\n",
    "# 5000 средних значений дохода\n",
    "boot <- replicate(5000, mean(sample(income, replace = TRUE)))"
   ]
  },
  {
   "cell_type": "code",
   "execution_count": 95,
   "metadata": {},
   "outputs": [
    {
     "data": {
      "text/html": [
       "<strong>2.5%:</strong> 73.2881386375835"
      ],
      "text/latex": [
       "\\textbf{2.5\\textbackslash{}\\%:} 73.2881386375835"
      ],
      "text/markdown": [
       "**2.5%:** 73.2881386375835"
      ],
      "text/plain": [
       "    2.5% \n",
       "73.28814 "
      ]
     },
     "metadata": {},
     "output_type": "display_data"
    }
   ],
   "source": [
    "# вычисляем нижнюю границу 95%-ного\n",
    "# доверительного интервала\n",
    "quantile(boot, 0.025)"
   ]
  },
  {
   "cell_type": "code",
   "execution_count": 96,
   "metadata": {},
   "outputs": [
    {
     "data": {
      "text/html": [
       "<strong>97.5%:</strong> 82.3512427501578"
      ],
      "text/latex": [
       "\\textbf{97.5\\textbackslash{}\\%:} 82.3512427501578"
      ],
      "text/markdown": [
       "**97.5%:** 82.3512427501578"
      ],
      "text/plain": [
       "   97.5% \n",
       "82.35124 "
      ]
     },
     "metadata": {},
     "output_type": "display_data"
    }
   ],
   "source": [
    "# вычисляем верхнюю границу 95%-ного\n",
    "# доверительного интервала\n",
    "quantile(boot, 0.975)"
   ]
  },
  {
   "cell_type": "code",
   "execution_count": 97,
   "metadata": {},
   "outputs": [
    {
     "data": {
      "text/plain": [
       "\n",
       "Call:\n",
       "roc.default(response = holdout$churn, predictor = prob_hold[,     2], ci = TRUE)\n",
       "\n",
       "Data: prob_hold[, 2] in 746 controls (holdout$churn Остается) < 598 cases (holdout$churn Уходит).\n",
       "Area under the curve: 0.7875\n",
       "95% CI: 0.7637-0.8112 (DeLong)"
      ]
     },
     "metadata": {},
     "output_type": "display_data"
    }
   ],
   "source": [
    "# вычисляем 95%-ный доверительный интервал AUC \n",
    "# по асимптотическому методу Делонга (по умолчанию)\n",
    "# для модели дерева на контрольной выборке\n",
    "roc_hold <- roc(holdout$churn, prob_hold[, 2], ci = TRUE)\n",
    "roc_hold"
   ]
  },
  {
   "cell_type": "code",
   "execution_count": 98,
   "metadata": {},
   "outputs": [
    {
     "data": {
      "text/html": [
       "<dl class=dl-horizontal>\n",
       "\t<dt>2.5%</dt>\n",
       "\t\t<dd>0.762991080635183</dd>\n",
       "\t<dt>50%</dt>\n",
       "\t\t<dd>0.787364270535386</dd>\n",
       "\t<dt>97.5%</dt>\n",
       "\t\t<dd>0.811130796802568</dd>\n",
       "</dl>\n"
      ],
      "text/latex": [
       "\\begin{description*}\n",
       "\\item[2.5\\textbackslash{}\\%] 0.762991080635183\n",
       "\\item[50\\textbackslash{}\\%] 0.787364270535386\n",
       "\\item[97.5\\textbackslash{}\\%] 0.811130796802568\n",
       "\\end{description*}\n"
      ],
      "text/markdown": [
       "2.5%\n",
       ":   0.76299108063518350%\n",
       ":   0.78736427053538697.5%\n",
       ":   0.811130796802568\n",
       "\n"
      ],
      "text/plain": [
       "95% CI: 0.763-0.8111 (2000 stratified bootstrap replicates)"
      ]
     },
     "metadata": {},
     "output_type": "display_data"
    }
   ],
   "source": [
    "# бутстреп использует рандомизацию, поэтому \n",
    "# задаем стартовое значение генератора\n",
    "# случайных чисел для воспроизводимости\n",
    "set.seed(14)\n",
    "# вычисляем 95%-ный доверительный интервал AUC \n",
    "# по бутстреп-методу (по умолчанию 2000 бутстреп-\n",
    "# выборок) для модели дерева на контрольной выборке\n",
    "ci.auc(roc_hold, method = \"bootstrap\")"
   ]
  },
  {
   "cell_type": "code",
   "execution_count": 99,
   "metadata": {},
   "outputs": [
    {
     "data": {
      "text/html": [
       "<dl class=dl-horizontal>\n",
       "\t<dt>2.5%</dt>\n",
       "\t\t<dd>0.763198989930689</dd>\n",
       "\t<dt>50%</dt>\n",
       "\t\t<dd>0.787540236893308</dd>\n",
       "\t<dt>97.5%</dt>\n",
       "\t\t<dd>0.811002548710178</dd>\n",
       "</dl>\n"
      ],
      "text/latex": [
       "\\begin{description*}\n",
       "\\item[2.5\\textbackslash{}\\%] 0.763198989930689\n",
       "\\item[50\\textbackslash{}\\%] 0.787540236893308\n",
       "\\item[97.5\\textbackslash{}\\%] 0.811002548710178\n",
       "\\end{description*}\n"
      ],
      "text/markdown": [
       "2.5%\n",
       ":   0.76319898993068950%\n",
       ":   0.78754023689330897.5%\n",
       ":   0.811002548710178\n",
       "\n"
      ],
      "text/plain": [
       "95% CI: 0.7632-0.811 (5000 stratified bootstrap replicates)"
      ]
     },
     "metadata": {},
     "output_type": "display_data"
    }
   ],
   "source": [
    "# задаем стартовое значение генератора\n",
    "# случайных чисел для воспроизводимости\n",
    "set.seed(14)\n",
    "# вычисляем 95%-ный доверительный интервал AUC \n",
    "# по бутстреп-методу, увеличиваем количество\n",
    "# бутстреп-выборок до 5000\n",
    "ci.auc(roc_hold, method = \"bootstrap\", boot.n = 5000)"
   ]
  },
  {
   "cell_type": "code",
   "execution_count": 100,
   "metadata": {},
   "outputs": [],
   "source": [
    "# вычисляем вероятности классов для обучающей\n",
    "# выборки и записываем в объект prob_dev\n",
    "prob_dev <- predict(chd, development, type = \"prob\")"
   ]
  },
  {
   "cell_type": "code",
   "execution_count": 101,
   "metadata": {
    "scrolled": false
   },
   "outputs": [
    {
     "data": {
      "image/png": "[encoded data removed]",
      "text/plain": [
       "Plot with title \"Графики ROC-кривых для модели CHAID\""
      ]
     },
     "metadata": {},
     "output_type": "display_data"
    }
   ],
   "source": [
    "# строим график ROC-кривой для обучающей выборки\n",
    "roc_dev <-plot.roc(development$churn, prob_dev[, 2], \n",
    "                   main = \"Графики ROC-кривых для модели CHAID\",\n",
    "                   ci = TRUE, percent = TRUE,\n",
    "                   print.auc = TRUE, col = \"red\")\n",
    "\n",
    "# добавляем в уже существующий график ROC-кривую\n",
    "# для контрольной выборки\n",
    "roc_hold <-plot.roc(holdout$churn, prob_hold[, 2], \n",
    "                    ci = TRUE, percent = TRUE,\n",
    "                    print.auc = TRUE, print.auc.x = 50, \n",
    "                    print.auc.y = 45, col = \"purple\", \n",
    "                    add = TRUE)\n",
    "\n",
    "# добавляем легенды\n",
    "legend(\"bottomright\", \n",
    "       legend=c(\"Обучающая выборка\", \"Контрольная выборка\"), \n",
    "       col=c(\"red\", \"purple\"), lwd = 2)"
   ]
  },
  {
   "cell_type": "markdown",
   "metadata": {},
   "source": [
    "## 2.3.7. Выбор наилучшей модели из нескольких на основе доверительных интервалов AUC"
   ]
  },
  {
   "cell_type": "code",
   "execution_count": 102,
   "metadata": {},
   "outputs": [],
   "source": [
    "# задаем новые значения параметров\n",
    "# и строим новую модель\n",
    "params2 <- chaid_control(minprob = 0.01, minsplit = 500, minbucket = 250)\n",
    "chd2  <- chaid(churn ~ ., control = params2, data = development)"
   ]
  },
  {
   "cell_type": "code",
   "execution_count": 103,
   "metadata": {},
   "outputs": [
    {
     "data": {
      "image/png": "[encoded data removed]",
      "text/plain": [
       "Plot with title \"Сравнение ROC-кривых двух моделей CHAID на контрольной выборке\""
      ]
     },
     "metadata": {},
     "output_type": "display_data"
    }
   ],
   "source": [
    "# сравниваем доверительный интервал AUC модели\n",
    "# со значениями minsplit=1000 и minbucket=500\n",
    "# и доверительный интервал AUC модели со\n",
    "# значениями minsplit = 500 и minbucket = 250\n",
    "prob_hold2 <- predict(chd2, holdout, type = \"prob\")\n",
    "\n",
    "m_text <- \"Сравнение ROC-кривых двух моделей CHAID на контрольной выборке\"\n",
    "roc_hold <- plot.roc(holdout$churn, prob_hold[, 2], \n",
    "                     main = m_text,\n",
    "                     ci = TRUE, percent = TRUE,\n",
    "                     print.auc = TRUE, col = \"#1c61b6\")\n",
    "\n",
    "roc_hold2 <- plot.roc(holdout$churn, prob_hold2[,2], \n",
    "                      ci = TRUE, percent = TRUE,\n",
    "                      print.auc = TRUE, \n",
    "                      print.auc.x = 50, print.auc.y = 45, \n",
    "                      col = \"#008600\", add = TRUE)\n",
    "\n",
    "legend(\"bottomright\", \n",
    "       legend = c(\"Модель CHAID: minsplit = 1000, minbucket = 500\", \n",
    "                  \"Модель CHAID: minsplit = 500, minbucket = 250\"), \n",
    "       col = c(\"#1c61b6\", \"#008600\"), lwd = 2)"
   ]
  },
  {
   "cell_type": "code",
   "execution_count": 104,
   "metadata": {
    "scrolled": true
   },
   "outputs": [
    {
     "data": {
      "image/png": "[encoded data removed]",
      "text/plain": [
       "Plot with title \"Сравнение ROC-кривых двух моделей CHAID на контрольной выборке\""
      ]
     },
     "metadata": {},
     "output_type": "display_data"
    }
   ],
   "source": [
    "# задаем новые значения гиперпараметров\n",
    "# и строим новую модель\n",
    "params3 <- chaid_control(minprob = 0.01, minsplit = 200, minbucket = 100)\n",
    "chd3  <- chaid(churn ~ ., control = params3, data = development)\n",
    "\n",
    "# сравниваем доверительный интервал AUC модели\n",
    "# со значениями minsplit = 1000 и minbucket = 500\n",
    "# и доверительный интервал AUC модели со\n",
    "# значениями minsplit = 200 и minbucket = 100\n",
    "prob_hold3 <- predict(chd3, holdout, type = \"prob\")\n",
    "\n",
    "m_text <- \"Сравнение ROC-кривых двух моделей CHAID на контрольной выборке\"\n",
    "roc_hold <-plot.roc(holdout$churn, prob_hold[,2], \n",
    "                    main = m_text,\n",
    "                    ci = TRUE, percent = TRUE,\n",
    "                    print.auc = TRUE, col = \"#1c61b6\")\n",
    "\n",
    "roc_hold3 <-plot.roc(holdout$churn, prob_hold3[, 2], \n",
    "                     ci = TRUE, percent = TRUE,\n",
    "                     print.auc = TRUE, \n",
    "                     print.auc.x = 50, print.auc.y = 45, \n",
    "                     col = \"#008600\", add = TRUE)\n",
    "\n",
    "legend(\"bottomright\", \n",
    "       legend=c(\"Модель CHAID: minsplit = 1000, minbucket = 500\", \n",
    "                \"Модель CHAID: minsplit = 200, minbucket = 100\"), \n",
    "       col = c(\"#1c61b6\", \"#008600\"), lwd = 2)"
   ]
  },
  {
   "cell_type": "code",
   "execution_count": 105,
   "metadata": {},
   "outputs": [],
   "source": [
    "# получаем прогнозы\n",
    "predictions <- predict(chd3, holdout, type = \"response\")"
   ]
  },
  {
   "cell_type": "code",
   "execution_count": 106,
   "metadata": {},
   "outputs": [
    {
     "data": {
      "text/plain": [
       "          predictions\n",
       "           Остается Уходит\n",
       "  Остается      607    139\n",
       "  Уходит        171    427"
      ]
     },
     "metadata": {},
     "output_type": "display_data"
    }
   ],
   "source": [
    "# строим матрицу ошибок\n",
    "table(holdout$churn, predictions)"
   ]
  },
  {
   "cell_type": "code",
   "execution_count": 107,
   "metadata": {},
   "outputs": [],
   "source": [
    "# вычисляем точность\n",
    "Precision <- 427 / (427 + 139)"
   ]
  },
  {
   "cell_type": "code",
   "execution_count": 108,
   "metadata": {},
   "outputs": [],
   "source": [
    "# вычисляем полноту\n",
    "Recall <- 427 / (427 + 171)"
   ]
  },
  {
   "cell_type": "code",
   "execution_count": 109,
   "metadata": {},
   "outputs": [
    {
     "data": {
      "text/html": [
       "0.733676975945017"
      ],
      "text/latex": [
       "0.733676975945017"
      ],
      "text/markdown": [
       "0.733676975945017"
      ],
      "text/plain": [
       "[1] 0.733677"
      ]
     },
     "metadata": {},
     "output_type": "display_data"
    }
   ],
   "source": [
    "# вычисляем F1-меру\n",
    "F1_score <- (2 * Precision * Recall) / (Precision + Recall)\n",
    "F1_score"
   ]
  },
  {
   "cell_type": "code",
   "execution_count": 110,
   "metadata": {},
   "outputs": [
    {
     "name": "stderr",
     "output_type": "stream",
     "text": [
      "\n",
      "Attaching package: 'precrec'\n",
      "\n",
      "The following object is masked from 'package:pROC':\n",
      "\n",
      "    auc\n",
      "\n"
     ]
    }
   ],
   "source": [
    "# загружаем пакет precrec\n",
    "library(precrec)"
   ]
  },
  {
   "cell_type": "code",
   "execution_count": 111,
   "metadata": {},
   "outputs": [
    {
     "data": {
      "text/plain": [
       "\n",
       "    === AUCs ===\n",
       "\n",
       "     Model name Dataset ID Curve type       AUC\n",
       "   1         m1          1        ROC 0.8342083\n",
       "   2         m1          1        PRC 0.7767042\n",
       "\n",
       "\n",
       "    === Input data ===\n",
       "\n",
       "     Model name Dataset ID # of negatives # of positives\n",
       "   1         m1          1            746            598\n"
      ]
     },
     "metadata": {},
     "output_type": "display_data"
    }
   ],
   "source": [
    "# вычисляем AUC-ROC и AUC-PR для нашей модели\n",
    "curves <- evalmod(scores = prob_hold3[, 2], labels = holdout$churn)\n",
    "curves"
   ]
  },
  {
   "cell_type": "code",
   "execution_count": 112,
   "metadata": {},
   "outputs": [
    {
     "data": {
      "image/png": "[encoded data removed]",
      "text/plain": [
       "Plot with title \"Precision-Recall - P: 598, N: 746\""
      ]
     },
     "metadata": {},
     "output_type": "display_data"
    }
   ],
   "source": [
    "# строим ROC-кривую и PR-кривую\n",
    "# для нашей модели\n",
    "plot(curves)"
   ]
  },
  {
   "cell_type": "code",
   "execution_count": 113,
   "metadata": {},
   "outputs": [
    {
     "data": {
      "image/png": "[encoded data removed]",
      "text/plain": [
       "plot without title"
      ]
     },
     "metadata": {},
     "output_type": "display_data"
    }
   ],
   "source": [
    "# улучшаем внешний вид графиков\n",
    "library(ggplot2)\n",
    "autoplot(curves)"
   ]
  },
  {
   "cell_type": "markdown",
   "metadata": {},
   "source": [
    "## 2.3.8. Многократное случайное разбиение на обучающую и контрольную выборки как способ проверки модели"
   ]
  },
  {
   "cell_type": "code",
   "execution_count": 114,
   "metadata": {},
   "outputs": [],
   "source": [
    "# подготавливаем данные перед выполнением 100-кратного разбиения\n",
    "# на обучающую и контрольную выборки, при этом импутацию пропусков\n",
    "# и биннинг делаем отдельно на каждой итерации внутри цикла\n",
    "data <- read.csv2(\"C:/Trees/Churn.csv\", sep = \";\", na.strings = \"\")\n",
    "\n",
    "data$churn <- as.factor(data$churn)\n",
    "\n",
    "data <- unique(data)\n",
    "\n",
    "data$gender <- as.character(data$gender)\n",
    "data$gender <- gsub(\"\\\\&\\\\*\", \"\", data$gender)\n",
    "data$gender <- as.factor(data$gender)\n",
    "\n",
    "data$marital <- as.character(data$marital)\n",
    "data$marital <- str_replace_all(data$marital, \"[^[:alnum:]]\", \"\")\n",
    "data$marital <- as.factor(data$marital)\n",
    "\n",
    "data$pay <- recode(data$pay, \"'CD'='CC'\")\n",
    "\n",
    "chaid1.auc <- numeric(100)\n",
    "chaid2.auc <- numeric(100)\n",
    "\n",
    "# выполняем 100-кратное разбиение на \n",
    "# обучающую и контрольную выборки, на\n",
    "# каждой из 100 итераций на обучающей\n",
    "# выборке строим модель, на контрольной\n",
    "# проверяем ее\n",
    "set.seed(42)\n",
    "for (i in 1:100) {\n",
    "  data$random_number <- runif(nrow(data), 0, 1)\n",
    "  development <- data[data$random_number > 0.3, ]\n",
    "  holdout     <- data[data$random_number <= 0.3, ]\n",
    "  data$random_number <- NULL\n",
    "  development$random_number <- NULL\n",
    "  holdout$random_number <- NULL\n",
    "  \n",
    "  # импутируем пропуски в переменной income в обучающей и контрольной\n",
    "  # выборках средним, вычисленным на обучающей выборке\n",
    "  nas <- is.na(development$income)\n",
    "  development$income[nas] <- mean(development$income, na.rm = TRUE)\n",
    "  nas <- is.na(holdout $income)\n",
    "  holdout$income[nas] <- mean(development$income, na.rm = TRUE)\n",
    "  \n",
    "  # импутируем пропуски в остальных переменных в обучающей и контрольной\n",
    "  # выборках медианами и модами, вычисленными на обучающей выборке\n",
    "  values <- compute(development)\n",
    "  development <- impute(development, object = values)\n",
    "  holdout <- impute(holdout, object = values)\n",
    "  \n",
    "  development$longdist <- ordered(development$longdist, \n",
    "                                  levels = c(\"<2\", \"2-8\", \"9-14\", \n",
    "                                             \"15-20\", \"21+\"))\n",
    "  development$local <- ordered(development$local, \n",
    "                               levels = c(\"<8\", \"8-20\", \"21-35\", \n",
    "                                          \"36-55\", \"56+\"))\n",
    "  development$agecat <- ordered(development$agecat, \n",
    "                                levels = c(\"<31\", \"31-45\", \"46-58\", \n",
    "                                           \"59-70\", \"71+\"))\n",
    "  holdout$longdist <- ordered(holdout$longdist, \n",
    "                              levels = c(\"<2\", \"2-8\", \"9-14\", \n",
    "                                         \"15-20\", \"21+\"))\n",
    "  holdout$local <- ordered(holdout$local, \n",
    "                           levels = c(\"<8\", \"8-20\", \"21-35\", \n",
    "                                      \"36-55\", \"56+\"))\n",
    "  holdout$agecat <- ordered(holdout$agecat, \n",
    "                            levels = c(\"<31\", \"31-45\", \"46-58\", \n",
    "                                       \"59-70\", \"71+\"))\n",
    "  \n",
    "  development$income <-cut(x = development$income, \n",
    "                           breaks = c(-Inf, 11000, 21000, 31000, \n",
    "                                      41000, 50000, 59000, 69000,\n",
    "                                      80000, 90000, +Inf), \n",
    "                           include.lowest = TRUE, \n",
    "                           ordered_result = TRUE)\n",
    "  \n",
    "  holdout$income <-cut(x = holdout$income, \n",
    "                       breaks = c(-Inf, 11000, 21000, 31000,\n",
    "                                  41000, 50000, 59000, 69000,\n",
    "                                  80000, 90000, +Inf), \n",
    "                       include.lowest = TRUE, \n",
    "                       ordered_result = TRUE)\n",
    "  \n",
    "  chaid1.model  <- chaid(churn ~ . , \n",
    "                         control = chaid_control(minprob = 0.01,\n",
    "                                                 minsplit = 1000, \n",
    "                                                 minbucket = 500),\n",
    "                         data = development)\n",
    "  chaid1.score <- predict(chaid1.model, holdout, type = \"prob\")\n",
    "  chaid1.roc <- roc(holdout$churn, chaid1.score[, 2])\n",
    "  chaid1.auc[i] <- chaid1.roc$auc\n",
    "  \n",
    "  chaid2.model  <- chaid(churn ~ . , \n",
    "                         control = chaid_control(minprob = 0.01,\n",
    "                                                 minsplit = 200, \n",
    "                                                 minbucket = 100),\n",
    "                         data = development)\n",
    "  chaid2.score <- predict(chaid2.model, holdout, type = \"prob\")\n",
    "  chaid2.roc <- roc(holdout$churn, chaid2.score[, 2])\n",
    "  chaid2.auc[i] <- chaid2.roc$auc\n",
    "}"
   ]
  },
  {
   "cell_type": "code",
   "execution_count": 115,
   "metadata": {},
   "outputs": [
    {
     "name": "stdout",
     "output_type": "stream",
     "text": [
      "minsplit = 1000 и minbucket = 500  minsplit = 200 и minbucket = 100 \n",
      "                        0.8055311                         0.8420523 \n"
     ]
    }
   ],
   "source": [
    "# выводим среднее значение AUC для двух моделей\n",
    "# на контрольной выборке по результатам 100\n",
    "# случайных разбиений «обучение-контроль»\n",
    "mean_results <- c(mean(chaid1.auc), mean(chaid2.auc))\n",
    "names(mean_results) <- c(\"minsplit = 1000 и minbucket = 500\", \n",
    "                         \"minsplit = 200 и minbucket = 100\")\n",
    "print(mean_results)"
   ]
  },
  {
   "cell_type": "code",
   "execution_count": 116,
   "metadata": {
    "scrolled": true
   },
   "outputs": [
    {
     "name": "stdout",
     "output_type": "stream",
     "text": [
      "$`95% CI AUC minsplit = 1000 и minbucket = 500`\n",
      "     2.5%     97.5% \n",
      "0.7827601 0.8291988 \n",
      "\n",
      "$`95% CI AUC minsplit = 200 и minbucket = 100`\n",
      "     2.5%     97.5% \n",
      "0.8249308 0.8576216 \n",
      "\n"
     ]
    }
   ],
   "source": [
    "# вычисляем 95%-ный доверительный интервал \n",
    "# AUC для каждой модели\n",
    "chaid1.ci <- quantile(chaid1.auc, c(0.025, 0.975))\n",
    "chaid2.ci <- quantile(chaid2.auc, c(0.025, 0.975))\n",
    "\n",
    "results_ci <- list(chaid1.ci, chaid2.ci)\n",
    "names(results_ci) <- c(\"95% CI AUC minsplit = 1000 и minbucket = 500\", \n",
    "                       \"95% CI AUC minsplit = 200 и minbucket = 100\")\n",
    "print(results_ci)"
   ]
  },
  {
   "cell_type": "code",
   "execution_count": 117,
   "metadata": {},
   "outputs": [
    {
     "name": "stdout",
     "output_type": "stream",
     "text": [
      "$lower_limit\n",
      "[1] -0.0385804\n",
      "\n",
      "$upper_limit\n",
      "[1] -0.03446199\n",
      "\n"
     ]
    }
   ],
   "source": [
    "# вычисляем 95%-ный доверительный интервал \n",
    "# разницы средних значений AUC\n",
    "n <- 100\n",
    "diff <- chaid1.auc-chaid2.auc\n",
    "\n",
    "lower_limit <- mean(diff) - 1.96 * (sd(diff) / sqrt(n))\n",
    "upper_limit <- mean(diff) + 1.96 * (sd(diff) / sqrt(n))\n",
    "\n",
    "results <- list(\"lower_limit\" = lower_limit, \"upper_limit\" = upper_limit)\n",
    "print(results)"
   ]
  },
  {
   "cell_type": "markdown",
   "metadata": {
    "collapsed": true
   },
   "source": [
    "## 2.3.9. Проверка модели с помощью бутстрепа"
   ]
  },
  {
   "cell_type": "code",
   "execution_count": 118,
   "metadata": {},
   "outputs": [],
   "source": [
    "# подготавливаем данные перед выполнением бутстрепа\n",
    "# при этом импутацию пропусков и биннинг делаем \n",
    "# отдельно на каждой итерации внутри цикла\n",
    "data <- read.csv2(\"C:/Trees/Churn.csv\", sep = \";\", na.strings = \"\")\n",
    "\n",
    "data$churn <- as.factor(data$churn)\n",
    "\n",
    "data <- unique(data)\n",
    "\n",
    "data$gender <- as.character(data$gender)\n",
    "data$gender <- gsub(\"\\\\&\\\\*\", \"\", data$gender)\n",
    "data$gender <- as.factor(data$gender)\n",
    "\n",
    "data$marital <- as.character(data$marital)\n",
    "data$marital <- str_replace_all(data$marital, \"[^[:alnum:]]\", \"\")\n",
    "data$marital <- as.factor(data$marital)\n",
    "\n",
    "data$pay <- recode(data$pay, \"'CD'='CC'\")\n",
    "\n",
    "set.seed(42)\n",
    "data$random_number <- runif(nrow(data), 0, 1)\n",
    "development <- data[data$random_number > 0.3, ]\n",
    "holdout     <- data[data$random_number <= 0.3, ]\n",
    "data$random_number <- NULL\n",
    "development$random_number <- NULL\n",
    "holdout$random_number <- NULL\n",
    "\n",
    "# задаем количество бутстреп-выборок\n",
    "R <- 100\n",
    "# задаем количество элементов для\n",
    "# обучающих бутстреп-выборок\n",
    "k <- nrow(development)\n",
    "# задаем количество элементов для\n",
    "# контрольных бутстреп-выборок\n",
    "n <- nrow(holdout)\n",
    "\n",
    "chaid1.auc_boot <- numeric(100)\n",
    "chaid2.auc_boot <- numeric(100)\n",
    "\n",
    "# выполняем бутстреп, на каждой итерации \n",
    "# формируем на основе исходной обучающей выборки \n",
    "# бутстреп-выборку, формируем на основе исходной\n",
    "# контрольной выборки бутстреп-выборку, строим модель \n",
    "# по бутстреп-выборке, сгенерированной на основе \n",
    "# исходной обучающей выборки, проверяем ее на \n",
    "# бутстреп-выборке, сгенерированной на основе \n",
    "# исходной контрольной выборки\n",
    "set.seed(701)\n",
    "for(i in 1:R){\n",
    "  \n",
    "  obs_dev.boot <- sample(x = 1:k, size = k, replace = TRUE)\n",
    "  development.boot <- development[obs_dev.boot, ]\n",
    "  \n",
    "  # на обучающей бутстреп-выборке вычисляем статистики для импутации, \n",
    "  # с помощью этих статистик заменяем пропуски в обучающей \n",
    "  # бутстреп-выборке\n",
    "  nas <- is.na(development.boot$income)\n",
    "  development.boot$income[nas] <- mean(development.boot$income, na.rm = TRUE)\n",
    "  mean_val <- mean(development.boot$income, na.rm = TRUE)\n",
    "  \n",
    "  values <- compute(development.boot)\n",
    "  development.boot <- impute(development.boot, object = values)\n",
    "  \n",
    "  development.boot$longdist <- ordered(development.boot$longdist, \n",
    "                                       levels = c(\"<2\", \"2-8\", \"9-14\", \n",
    "                                                  \"15-20\", \"21+\"))\n",
    "  development.boot$local <- ordered(development.boot$local, \n",
    "                                    levels = c(\"<8\", \"8-20\", \"21-35\", \n",
    "                                               \"36-55\", \"56+\"))\n",
    "  development.boot$agecat <- ordered(development.boot$agecat, \n",
    "                                     levels = c(\"<31\", \"31-45\", \"46-58\", \n",
    "                                                \"59-70\", \"71+\"))\n",
    "  \n",
    "  development.boot$income <-cut(x = development.boot$income, \n",
    "                                breaks = c(-Inf, 11000, 21000, 31000,\n",
    "                                           41000, 50000, 59000, 69000,\n",
    "                                           80000, 90000, +Inf), \n",
    "                                include.lowest = TRUE, \n",
    "                                ordered_result = TRUE)\n",
    "  \n",
    "  obs_hold.boot <- sample(x = 1:n, size = n, replace = TRUE)\n",
    "  holdout.boot <- holdout[obs_hold.boot, ]\n",
    "  \n",
    "  # пропуски в контрольной бутстреп-выборке заменяем статистиками,\n",
    "  # вычисленными на обучающей бутстреп-выборке\n",
    "  holdout.boot$income[is.na(holdout.boot$income)] <- mean_val\n",
    "  holdout.boot <- impute(holdout.boot, object = values)\n",
    "  \n",
    "  holdout.boot$longdist <- ordered(holdout.boot$longdist, \n",
    "                                   levels = c(\"<2\", \"2-8\", \"9-14\", \n",
    "                                              \"15-20\", \"21+\"))\n",
    "  holdout.boot$local <- ordered(holdout.boot$local, \n",
    "                                levels = c(\"<8\", \"8-20\", \"21-35\", \n",
    "                                           \"36-55\", \"56+\"))\n",
    "  holdout.boot$agecat <- ordered(holdout.boot$agecat, \n",
    "                                 levels = c(\"<31\", \"31-45\", \"46-58\", \n",
    "                                            \"59-70\", \"71+\"))\n",
    "  \n",
    "  holdout.boot$income <-cut(x = holdout.boot$income, \n",
    "                            breaks = c(-Inf, 11000, 21000, 31000, \n",
    "                                       41000, 50000, 59000, 69000,\n",
    "                                       80000, 90000, +Inf), \n",
    "                            include.lowest = TRUE, \n",
    "                            ordered_result = TRUE)\n",
    "  \n",
    "  chaid1 <- chaid(churn ~ . , \n",
    "                  control = chaid_control(minprob = 0.01,\n",
    "                                          minsplit = 1000, \n",
    "                                          minbucket = 500),\n",
    "                  data = development.boot)\n",
    "  \n",
    "  chaid2 <- chaid(churn ~ . , \n",
    "                  control = chaid_control(minprob = 0.01,\n",
    "                                          minsplit = 200, \n",
    "                                          minbucket = 100),\n",
    "                  data = development.boot)\n",
    "  \n",
    "  chaid1.score_boot <- predict(chaid1, holdout.boot, type = \"prob\")\n",
    "  chaid1.roc_boot <- roc(holdout.boot$churn, chaid1.score_boot[, 2])\n",
    "  chaid1.auc_boot[i] <- chaid1.roc_boot$auc\n",
    "  \n",
    "  chaid2.score_boot <- predict(chaid2, holdout.boot, type = \"prob\")\n",
    "  chaid2.roc_boot <- roc(holdout.boot$churn, chaid2.score_boot[, 2])\n",
    "  chaid2.auc_boot[i] <- chaid2.roc_boot$auc  \n",
    "  \n",
    "}"
   ]
  },
  {
   "cell_type": "code",
   "execution_count": 119,
   "metadata": {},
   "outputs": [
    {
     "name": "stdout",
     "output_type": "stream",
     "text": [
      "minsplit = 1000 и minbucket = 500  minsplit = 200 и minbucket = 100 \n",
      "                        0.7928368                         0.8297462 \n"
     ]
    }
   ],
   "source": [
    "# вычисляем усредненные оценки AUC моделей\n",
    "mean_results <- c(mean(chaid1.auc_boot), \n",
    "                  mean(chaid2.auc_boot))\n",
    "names(mean_results) <- c(\"minsplit = 1000 и minbucket = 500\", \n",
    "                         \"minsplit = 200 и minbucket = 100\")\n",
    "print(mean_results)"
   ]
  },
  {
   "cell_type": "code",
   "execution_count": 120,
   "metadata": {},
   "outputs": [
    {
     "name": "stdout",
     "output_type": "stream",
     "text": [
      "$`bootstrapped 95% CI AUC minsplit = 1000 и minbucket = 500`\n",
      "     2.5%     97.5% \n",
      "0.7632211 0.8219718 \n",
      "\n",
      "$`bootstrapped 95% CI AUC minsplit = 200 и minbucket = 100`\n",
      "     2.5%     97.5% \n",
      "0.8075516 0.8529439 \n",
      "\n"
     ]
    }
   ],
   "source": [
    "# вычисляем бутстрепированный 95%-ный доверительный интервал \n",
    "# AUC для каждой модели\n",
    "chaid1.ci <- quantile(chaid1.auc_boot, c(0.025, 0.975))\n",
    "chaid2.ci <- quantile(chaid2.auc_boot, c(0.025, 0.975))\n",
    "\n",
    "ci_results <- list(chaid1.ci, chaid2.ci)\n",
    "names(ci_results) <- c(\"bootstrapped 95% CI AUC minsplit = 1000 и minbucket = 500\", \n",
    "                       \"bootstrapped 95% CI AUC minsplit = 200 и minbucket = 100\")\n",
    "print(ci_results)"
   ]
  },
  {
   "cell_type": "code",
   "execution_count": 121,
   "metadata": {
    "scrolled": true
   },
   "outputs": [
    {
     "name": "stdout",
     "output_type": "stream",
     "text": [
      "$lower_limit\n",
      "[1] -0.0395576\n",
      "\n",
      "$upper_limit\n",
      "[1] -0.03426119\n",
      "\n"
     ]
    }
   ],
   "source": [
    "# вычисляем 95%-ный доверительный интервал \n",
    "# разницы средних значений AUC\n",
    "n <- 100\n",
    "d <- chaid1.auc_boot - chaid2.auc_boot\n",
    "\n",
    "low_limit <- mean(d) - 1.96 * (sd(d) / sqrt(n))\n",
    "up_limit <- mean(d) + 1.96 * (sd(d) / sqrt(n))\n",
    "\n",
    "results <- list(\"lower_limit\" = low_limit, \"upper_limit\" = up_limit)\n",
    "print(results)"
   ]
  },
  {
   "cell_type": "code",
   "execution_count": 122,
   "metadata": {},
   "outputs": [
    {
     "data": {
      "text/plain": [
       "\n",
       "\tWilcoxon signed rank test with continuity correction\n",
       "\n",
       "data:  chaid1.auc_boot and chaid2.auc_boot\n",
       "V = 0, p-value < 0.00000000000000022\n",
       "alternative hypothesis: true location shift is not equal to 0\n"
      ]
     },
     "metadata": {},
     "output_type": "display_data"
    }
   ],
   "source": [
    "# выполняем тест Уилкоксона для связанных выборок\n",
    "options(scipen=999)\n",
    "wilcox.test(chaid1.auc_boot, chaid2.auc_boot, paired = TRUE)"
   ]
  },
  {
   "cell_type": "markdown",
   "metadata": {
    "collapsed": true
   },
   "source": [
    "## 2.3.10. Перекрестная проверка как способ проверки модели"
   ]
  },
  {
   "cell_type": "code",
   "execution_count": 123,
   "metadata": {},
   "outputs": [],
   "source": [
    "# подготавливаем данные перед выполнением перекрестной проверки,\n",
    "# при этом импутацию пропусков и биннинг делаем отдельно на\n",
    "# каждой итерации внутри цикла\n",
    "data <- read.csv2(\"C:/Trees/Churn.csv\", sep = \";\", na.strings = \"\")\n",
    "data$churn <- as.factor(data$churn)\n",
    "\n",
    "data <- unique(data)\n",
    "\n",
    "data$gender <- as.character(data$gender)\n",
    "data$gender <- gsub(\"\\\\&\\\\*\", \"\", data$gender)\n",
    "data$gender <- as.factor(data$gender)\n",
    "\n",
    "data$marital <- as.character(data$marital)\n",
    "data$marital <- str_replace_all(data$marital, \"[^[:alnum:]]\", \"\")\n",
    "data$marital <- as.factor(data$marital)\n",
    "\n",
    "data$pay <- recode(data$pay, \"'CD'='CC'\")\n",
    "\n",
    "set.seed(42)\n",
    "index <- sample(1:10, nrow(data), replace = TRUE)\n",
    "folds <- 1:10\n",
    "\n",
    "chaid1_cv.auc <- numeric(10)\n",
    "chaid2_cv.auc <- numeric(10)\n",
    "\n",
    "# выполняем перекрестную проверку\n",
    "for (i in 1:10){  \n",
    "  development <-  subset(data, index %in% folds[-i])\n",
    "  holdout <-  subset(data, index %in% c(i))\n",
    "  \n",
    "  \n",
    "  # в каждом проходе перекрестной проверки вычисляем \n",
    "  # статистики на обучающих блоках и заменяем ими пропуски в \n",
    "  # обучающих блоках и в контрольном блоке\n",
    "  nas <- is.na(development$income)\n",
    "  development$income[nas] <- mean(development$income, na.rm = TRUE)\n",
    "  nas <- is.na(holdout$income)\n",
    "  holdout$income[nas] <- mean(development$income, na.rm = TRUE)\n",
    "  values <- compute(development)\n",
    "  \n",
    "  \n",
    "  development <- impute(development, object = values)\n",
    "  holdout <- impute(holdout, object = values)\n",
    "  \n",
    "  development$longdist <- ordered(development$longdist, \n",
    "                                  levels = c(\"<2\", \"2-8\", \"9-14\", \n",
    "                                             \"15-20\", \"21+\"))\n",
    "  development$local <- ordered(development$local, \n",
    "                               levels = c(\"<8\", \"8-20\", \"21-35\", \n",
    "                                          \"36-55\", \"56+\"))\n",
    "  development$agecat <- ordered(development$agecat, \n",
    "                                levels = c(\"<31\", \"31-45\", \"46-58\", \n",
    "                                           \"59-70\", \"71+\"))\n",
    "  holdout$longdist <- ordered(holdout$longdist, \n",
    "                              levels = c(\"<2\", \"2-8\", \"9-14\", \n",
    "                                         \"15-20\", \"21+\"))\n",
    "  holdout$local <- ordered(holdout$local, \n",
    "                           levels = c(\"<8\", \"8-20\", \"21-35\", \n",
    "                                      \"36-55\", \"56+\"))\n",
    "  holdout$agecat <- ordered(holdout$agecat, \n",
    "                            levels = c(\"<31\", \"31-45\", \"46-58\", \n",
    "                                       \"59-70\", \"71+\"))\n",
    "  \n",
    "  development$income <-cut(x = development$income, \n",
    "                           breaks = c(-Inf, 11000, 21000, 31000,\n",
    "                                      41000, 50000, 59000, 69000,\n",
    "                                      80000, 90000, +Inf), \n",
    "                           include.lowest = TRUE, \n",
    "                           ordered_result = TRUE)\n",
    "  \n",
    "  holdout$income <-cut(x = holdout$income, \n",
    "                       breaks = c(-Inf, 11000, 21000, 31000,\n",
    "                                  41000, 50000, 59000, 69000,\n",
    "                                  80000, 90000, +Inf), \n",
    "                       include.lowest = TRUE, \n",
    "                       ordered_result = TRUE)\n",
    "  \n",
    "  chaid1_cv.model  <- chaid(churn ~ . , \n",
    "                             control = chaid_control(minprob = 0.01,\n",
    "                                                     minsplit = 1000, \n",
    "                                                     minbucket = 500),\n",
    "                             data = development)\n",
    "  chaid1_cv.score <- predict(chaid1_cv.model, holdout, type = \"prob\")\n",
    "  chaid1_cv.roc <- roc(holdout$churn, chaid1_cv.score[, 2])\n",
    "  chaid1_cv.auc[i] <- chaid1_cv.roc$auc\n",
    "  \n",
    "  chaid2_cv.model  <- chaid(churn ~ . , \n",
    "                             control = chaid_control(minprob = 0.01,\n",
    "                                                     minsplit = 200, \n",
    "                                                     minbucket = 100),\n",
    "                             data = development)\n",
    "  chaid2_cv.score <- predict(chaid2_cv.model, holdout, type = \"prob\")\n",
    "  chaid2_cv.roc <- roc(holdout$churn, chaid2_cv.score[, 2])\n",
    "  chaid2_cv.auc[i] <- chaid2_cv.roc$auc  \n",
    "}\n"
   ]
  },
  {
   "cell_type": "code",
   "execution_count": 124,
   "metadata": {},
   "outputs": [
    {
     "name": "stdout",
     "output_type": "stream",
     "text": [
      "minsplit = 1000 и minbucket = 500  minsplit = 200 и minbucket = 100 \n",
      "                        0.8104736                         0.8422692 \n"
     ]
    }
   ],
   "source": [
    "# смотрим оценки AUC обеих моделей, усредненные по 10\n",
    "# контрольным блокам перекрестной проверки\n",
    "results <- c(mean(chaid1_cv.auc), mean(chaid2_cv.auc))\n",
    "names(results) <- c(\"minsplit = 1000 и minbucket = 500\", \n",
    "                    \"minsplit = 200 и minbucket = 100\")\n",
    "print(results)"
   ]
  },
  {
   "cell_type": "markdown",
   "metadata": {},
   "source": [
    "## 2.3.11. Однократное случайное разбиение на обучающую, контрольную и тестовую выборки как наилучший способ проверки модели"
   ]
  },
  {
   "cell_type": "code",
   "execution_count": 125,
   "metadata": {},
   "outputs": [],
   "source": [
    "# выполняем преобразования, которые можно осуществить \n",
    "# до разбиения на обучающую, контрольную и\n",
    "# тестовую выборки\n",
    "data <- read.csv2(\"C:/Trees/Churn.csv\", sep = \";\", na.strings = \"\")\n",
    "data$churn <- as.factor(data$churn)\n",
    "\n",
    "data <- unique(data)\n",
    "\n",
    "data$gender <- as.character(data$gender)\n",
    "data$gender <- gsub(\"\\\\&\\\\*\", \"\", data$gender)\n",
    "data$gender <- as.factor(data$gender)\n",
    "\n",
    "data$marital <- as.character(data$marital)\n",
    "data$marital <- str_replace_all(data$marital, \"[^[:alnum:]]\", \"\")\n",
    "data$marital <- as.factor(data$marital)\n",
    "\n",
    "data$pay <- recode(data$pay, \"'CD'='CC'\")"
   ]
  },
  {
   "cell_type": "code",
   "execution_count": 126,
   "metadata": {},
   "outputs": [],
   "source": [
    "# задаем процентные доли обучающей, \n",
    "# контрольной и тестовой выборок\n",
    "fractionTraining   <- 0.60\n",
    "fractionValidation <- 0.20\n",
    "fractionTest       <- 0.20"
   ]
  },
  {
   "cell_type": "code",
   "execution_count": 127,
   "metadata": {},
   "outputs": [],
   "source": [
    "# вычисляем размеры выборок\n",
    "sampleSizeTraining   <- floor(fractionTraining   * nrow(data))\n",
    "sampleSizeValidation <- floor(fractionValidation * nrow(data))\n",
    "sampleSizeTest       <- floor(fractionTest       * nrow(data))"
   ]
  },
  {
   "cell_type": "code",
   "execution_count": 128,
   "metadata": {},
   "outputs": [],
   "source": [
    "# присваиваем индексы\n",
    "set.seed(42)\n",
    "indicesTraining    <- sort(sample(seq_len(nrow(data)), size = sampleSizeTraining))\n",
    "indicesNotTraining <- setdiff(seq_len(nrow(data)), indicesTraining)\n",
    "indicesValidation  <- sort(sample(indicesNotTraining, size = sampleSizeValidation))\n",
    "indicesTest        <- setdiff(indicesNotTraining, indicesValidation)"
   ]
  },
  {
   "cell_type": "code",
   "execution_count": 129,
   "metadata": {},
   "outputs": [],
   "source": [
    "# формируеи обучающую, контрольную\n",
    "# и тестовую выборки\n",
    "Training   <- data[indicesTraining, ]\n",
    "Validation <- data[indicesValidation, ]\n",
    "Test       <- data[indicesTest, ]"
   ]
  },
  {
   "cell_type": "code",
   "execution_count": 130,
   "metadata": {},
   "outputs": [
    {
     "name": "stdout",
     "output_type": "stream",
     "text": [
      "  Training Validation       Test \n",
      "      2654        884        886 \n"
     ]
    }
   ],
   "source": [
    "# смотрим количество наблюдений в каждой выборке\n",
    "results <- c(nrow(Training), nrow(Validation), nrow(Test))\n",
    "names(results) <- c(\"Training\", \"Validation\", \"Test\")\n",
    "print(results)"
   ]
  },
  {
   "cell_type": "code",
   "execution_count": 131,
   "metadata": {},
   "outputs": [
    {
     "name": "stdout",
     "output_type": "stream",
     "text": [
      "[[1]]\n",
      "   0    1 \n",
      "1490 1164 \n",
      "\n",
      "[[2]]\n",
      "  0   1 \n",
      "488 396 \n",
      "\n",
      "[[3]]\n",
      "  0   1 \n",
      "514 372 \n",
      "\n"
     ]
    }
   ],
   "source": [
    "# взглянем на распределение классов зависимой переменной\n",
    "# churn в обучающей, контрольной и тестовой выборках\n",
    "myList <- list(Training, Validation, Test)\n",
    "print(lapply(myList, function(x) summary(x[,10])))"
   ]
  },
  {
   "cell_type": "code",
   "execution_count": 132,
   "metadata": {},
   "outputs": [],
   "source": [
    "# осуществляем преобразования, которые нужно выполнять\n",
    "# после разбиения на обучающую, контрольную и тестовую\n",
    "# выборки \n",
    "Training$income[is.na(Training$income)] <- mean(Training$income, na.rm = TRUE)\n",
    "Validation$income[is.na(Validation$income)] <- mean(Validation$income, na.rm = TRUE)\n",
    "Test$income[is.na(Test$income)] <- mean(Test$income, na.rm = TRUE)\n",
    "\n",
    "values <- compute(Training)\n",
    "Training <- impute(Training, object = values)\n",
    "Validation <- impute(Validation, object = values)\n",
    "Test <- impute(Test, object = values)\n",
    "\n",
    "Training$longdist <- ordered(Training$longdist, \n",
    "                             levels = c(\"<2\", \"2-8\", \"9-14\", \"15-20\", \"21+\"))\n",
    "Training$local <- ordered(Training$local, \n",
    "                          levels = c(\"<8\", \"8-20\", \"21-35\", \"36-55\", \"56+\"))\n",
    "Training$agecat <- ordered(Training$agecat, \n",
    "                           levels = c(\"<31\", \"31-45\", \"46-58\", \"59-70\", \"71+\"))\n",
    "Validation$longdist <- ordered(Validation$longdist, \n",
    "                               levels = c(\"<2\", \"2-8\", \"9-14\", \"15-20\", \"21+\"))\n",
    "Validation$local <- ordered(Validation$local, \n",
    "                            levels = c(\"<8\", \"8-20\", \"21-35\", \"36-55\", \"56+\"))\n",
    "Validation$agecat <- ordered(Validation$agecat, \n",
    "                             levels = c(\"<31\", \"31-45\", \"46-58\", \"59-70\", \"71+\"))\n",
    "Test$longdist <- ordered(Test$longdist, \n",
    "                         levels = c(\"<2\", \"2-8\", \"9-14\", \"15-20\", \"21+\"))\n",
    "Test$local <- ordered(Test$local, \n",
    "                      levels = c(\"<8\", \"8-20\", \"21-35\", \"36-55\", \"56+\"))\n",
    "Test$agecat <- ordered(Test$agecat, \n",
    "                       levels = c(\"<31\", \"31-45\", \"46-58\", \"59-70\", \"71+\"))\n",
    "\n",
    "Training$income <-cut(x = Training$income, \n",
    "                      breaks = c(-Inf,11000,21000,31000,41000,\n",
    "                                50000,59000,69000,80000,\n",
    "                                90000,+Inf), \n",
    "                      include.lowest = TRUE, \n",
    "                      ordered_result = TRUE)\n",
    "Validation$income <-cut(x = Validation$income, \n",
    "                        breaks = c(-Inf,11000,21000,31000,41000,\n",
    "                                   50000,59000,69000,80000,\n",
    "                                   90000,+Inf), \n",
    "                        include.lowest = TRUE, \n",
    "                        ordered_result = TRUE)\n",
    "Test$income <-cut(x = Test$income, \n",
    "                  breaks = c(-Inf,11000,21000,31000,41000,\n",
    "                             50000,59000,69000,80000,\n",
    "                             90000,+Inf), \n",
    "                  include.lowest = TRUE, \n",
    "                  ordered_result = TRUE)\n"
   ]
  },
  {
   "cell_type": "code",
   "execution_count": 133,
   "metadata": {},
   "outputs": [],
   "source": [
    "# строим модели с разными комбинациями значений \n",
    "# гиперпараметров на обучающей выборке\n",
    "chd1  <- chaid(churn ~ . , \n",
    "               control = chaid_control(minprob = 0.01,\n",
    "                                       minsplit = 1000, \n",
    "                                       minbucket = 500),\n",
    "               data = Training)\n",
    "\n",
    "chd1_score <- predict(chd1, Validation, type = \"prob\")\n",
    "chd1_ci.auc <- ci.auc(Validation$churn, chd1_score[, 2])\n",
    "\n",
    "chd2  <- chaid(churn ~ . , \n",
    "               control = chaid_control(minprob = 0.01,\n",
    "                                       minsplit = 200, \n",
    "                                       minbucket = 100),\n",
    "               data = Training)\n",
    "\n",
    "chd2_score <- predict(chd2, Validation, type = \"prob\")\n",
    "chd2_ci.auc <- ci.auc(Validation$churn, chd2_score[, 2])"
   ]
  },
  {
   "cell_type": "code",
   "execution_count": 134,
   "metadata": {},
   "outputs": [
    {
     "name": "stdout",
     "output_type": "stream",
     "text": [
      "$`minsplit = 1000 и minbucket = 500`\n",
      "95% CI: 0.771-0.8266 (DeLong)\n",
      "\n",
      "$`minsplit = 200 и minbucket = 100`\n",
      "95% CI: 0.8226-0.874 (DeLong)\n",
      "\n"
     ]
    }
   ],
   "source": [
    "# смотрим доверительные интервалы AUC\n",
    "# моделей на контрольной выборке\n",
    "results <- list(chd1_ci.auc, chd2_ci.auc)\n",
    "\n",
    "names(results) <- c(\"minsplit = 1000 и minbucket = 500\", \n",
    "                    \"minsplit = 200 и minbucket = 100\")\n",
    "print(results)"
   ]
  },
  {
   "cell_type": "code",
   "execution_count": 135,
   "metadata": {},
   "outputs": [
    {
     "data": {
      "text/html": [
       "<ol class=list-inline>\n",
       "\t<li>0.838974382436886</li>\n",
       "\t<li>0.86406688004686</li>\n",
       "\t<li>0.889159377656834</li>\n",
       "</ol>\n"
      ],
      "text/latex": [
       "\\begin{enumerate*}\n",
       "\\item 0.838974382436886\n",
       "\\item 0.86406688004686\n",
       "\\item 0.889159377656834\n",
       "\\end{enumerate*}\n"
      ],
      "text/markdown": [
       "1. 0.838974382436886\n",
       "2. 0.86406688004686\n",
       "3. 0.889159377656834\n",
       "\n",
       "\n"
      ],
      "text/plain": [
       "95% CI: 0.839-0.8892 (DeLong)"
      ]
     },
     "metadata": {},
     "output_type": "display_data"
    }
   ],
   "source": [
    "# проверяем качество наилучшей модели\n",
    "# на тестовой выборке\n",
    "chd2_test_score <- predict(chd2, Test, type = \"prob\")\n",
    "chd2_test_ci.auc <- ci.auc(Test$churn, chd2_test_score[, 2])\n",
    "chd2_test_ci.auc"
   ]
  },
  {
   "cell_type": "code",
   "execution_count": 136,
   "metadata": {},
   "outputs": [],
   "source": [
    "# объединяем обучающую, контрольную\n",
    "# и тестовые выборки\n",
    "TrainValTest <- rbind(Training, Validation, Test)"
   ]
  },
  {
   "cell_type": "code",
   "execution_count": 137,
   "metadata": {},
   "outputs": [],
   "source": [
    "# строим модель с наилучшей комбинацией \n",
    "# параметров на объединенных данных\n",
    "chd_best  <- chaid(churn ~ . , \n",
    "                   control = chaid_control(minprob = 0.01,\n",
    "                                           minsplit = 200, \n",
    "                                           minbucket = 100),\n",
    "                   data = TrainValTest)"
   ]
  },
  {
   "cell_type": "markdown",
   "metadata": {},
   "source": [
    "## 2.3.12. Применение модели к новым данным"
   ]
  },
  {
   "cell_type": "code",
   "execution_count": 138,
   "metadata": {},
   "outputs": [],
   "source": [
    "# загружаем новые данные\n",
    "newdata <- read.csv2(\"C:/Trees/Churn_new.csv\", sep = \";\", na.strings = \"\")"
   ]
  },
  {
   "cell_type": "code",
   "execution_count": 139,
   "metadata": {},
   "outputs": [
    {
     "name": "stdout",
     "output_type": "stream",
     "text": [
      "'data.frame':\t64 obs. of  9 variables:\n",
      " $ longdist: Factor w/ 5 levels \"<2\",\"15-20\",\"2-8\",..: 1 1 1 1 1 1 1 1 1 2 ...\n",
      " $ local   : Factor w/ 5 levels \"<8\",\"21-35\",\"36-55\",..: 1 1 1 1 1 1 1 1 1 3 ...\n",
      " $ int_disc: Factor w/ 2 levels \"Да\",\"Нет\": 2 2 2 2 2 2 2 2 1 2 ...\n",
      " $ billtype: Factor w/ 2 levels \"Бесплатный\",\"Бюджетный\": 2 1 1 1 1 1 2 1 1 1 ...\n",
      " $ pay     : Factor w/ 3 levels \"Auto\",\"CC\",\"CH\": 2 2 2 3 1 1 2 1 3 2 ...\n",
      " $ gender  : Factor w/ 2 levels \"Женский\",\"Мужской\": 2 2 2 2 2 1 2 2 2 1 ...\n",
      " $ marital : Factor w/ 2 levels \"Женат\",\"Одинокий\": 1 1 1 2 2 2 1 2 2 1 ...\n",
      " $ income  : num  55978 48714 16786 94160 47750 ...\n",
      " $ agecat  : Factor w/ 5 levels \"<31\",\"31-45\",..: 1 1 1 1 1 1 1 1 1 1 ...\n"
     ]
    }
   ],
   "source": [
    "# смотрим типы переменных\n",
    "str(newdata)"
   ]
  },
  {
   "cell_type": "code",
   "execution_count": 140,
   "metadata": {},
   "outputs": [
    {
     "data": {
      "text/html": [
       "<dl>\n",
       "\t<dt>$longdist</dt>\n",
       "\t\t<dd><dl class=dl-horizontal>\n",
       "\t<dt>&lt;2</dt>\n",
       "\t\t<dd>12</dd>\n",
       "\t<dt>15-20</dt>\n",
       "\t\t<dd>25</dd>\n",
       "\t<dt>2-8</dt>\n",
       "\t\t<dd>11</dd>\n",
       "\t<dt>21+</dt>\n",
       "\t\t<dd>5</dd>\n",
       "\t<dt>9-14</dt>\n",
       "\t\t<dd>11</dd>\n",
       "</dl>\n",
       "</dd>\n",
       "\t<dt>$local</dt>\n",
       "\t\t<dd><dl class=dl-horizontal>\n",
       "\t<dt>&lt;8</dt>\n",
       "\t\t<dd>10</dd>\n",
       "\t<dt>21-35</dt>\n",
       "\t\t<dd>6</dd>\n",
       "\t<dt>36-55</dt>\n",
       "\t\t<dd>16</dd>\n",
       "\t<dt>56+</dt>\n",
       "\t\t<dd>4</dd>\n",
       "\t<dt>8-20</dt>\n",
       "\t\t<dd>26</dd>\n",
       "\t<dt>NA's</dt>\n",
       "\t\t<dd>2</dd>\n",
       "</dl>\n",
       "</dd>\n",
       "\t<dt>$int_disc</dt>\n",
       "\t\t<dd><dl class=dl-horizontal>\n",
       "\t<dt>Да</dt>\n",
       "\t\t<dd>15</dd>\n",
       "\t<dt>Нет</dt>\n",
       "\t\t<dd>49</dd>\n",
       "</dl>\n",
       "</dd>\n",
       "\t<dt>$billtype</dt>\n",
       "\t\t<dd><dl class=dl-horizontal>\n",
       "\t<dt>Бесплатный</dt>\n",
       "\t\t<dd>28</dd>\n",
       "\t<dt>Бюджетный</dt>\n",
       "\t\t<dd>36</dd>\n",
       "</dl>\n",
       "</dd>\n",
       "\t<dt>$pay</dt>\n",
       "\t\t<dd><dl class=dl-horizontal>\n",
       "\t<dt>Auto</dt>\n",
       "\t\t<dd>17</dd>\n",
       "\t<dt>CC</dt>\n",
       "\t\t<dd>38</dd>\n",
       "\t<dt>CH</dt>\n",
       "\t\t<dd>9</dd>\n",
       "</dl>\n",
       "</dd>\n",
       "\t<dt>$gender</dt>\n",
       "\t\t<dd><dl class=dl-horizontal>\n",
       "\t<dt>Женский</dt>\n",
       "\t\t<dd>27</dd>\n",
       "\t<dt>Мужской</dt>\n",
       "\t\t<dd>37</dd>\n",
       "</dl>\n",
       "</dd>\n",
       "\t<dt>$marital</dt>\n",
       "\t\t<dd><dl class=dl-horizontal>\n",
       "\t<dt>Женат</dt>\n",
       "\t\t<dd>26</dd>\n",
       "\t<dt>Одинокий</dt>\n",
       "\t\t<dd>38</dd>\n",
       "</dl>\n",
       "</dd>\n",
       "\t<dt>$agecat</dt>\n",
       "\t\t<dd><dl class=dl-horizontal>\n",
       "\t<dt>&lt;31</dt>\n",
       "\t\t<dd>32</dd>\n",
       "\t<dt>31-45</dt>\n",
       "\t\t<dd>12</dd>\n",
       "\t<dt>46-58</dt>\n",
       "\t\t<dd>8</dd>\n",
       "\t<dt>59-70</dt>\n",
       "\t\t<dd>1</dd>\n",
       "\t<dt>71+</dt>\n",
       "\t\t<dd>11</dd>\n",
       "</dl>\n",
       "</dd>\n",
       "</dl>\n"
      ],
      "text/latex": [
       "\\begin{description}\n",
       "\\item[\\$longdist] \\begin{description*}\n",
       "\\item[<2] 12\n",
       "\\item[15-20] 25\n",
       "\\item[2-8] 11\n",
       "\\item[21+] 5\n",
       "\\item[9-14] 11\n",
       "\\end{description*}\n",
       "\n",
       "\\item[\\$local] \\begin{description*}\n",
       "\\item[<8] 10\n",
       "\\item[21-35] 6\n",
       "\\item[36-55] 16\n",
       "\\item[56+] 4\n",
       "\\item[8-20] 26\n",
       "\\item[NA's] 2\n",
       "\\end{description*}\n",
       "\n",
       "\\item[\\$int\\_disc] \\begin{description*}\n",
       "\\item[Да] 15\n",
       "\\item[Нет] 49\n",
       "\\end{description*}\n",
       "\n",
       "\\item[\\$billtype] \\begin{description*}\n",
       "\\item[Бесплатный] 28\n",
       "\\item[Бюджетный] 36\n",
       "\\end{description*}\n",
       "\n",
       "\\item[\\$pay] \\begin{description*}\n",
       "\\item[Auto] 17\n",
       "\\item[CC] 38\n",
       "\\item[CH] 9\n",
       "\\end{description*}\n",
       "\n",
       "\\item[\\$gender] \\begin{description*}\n",
       "\\item[Женский] 27\n",
       "\\item[Мужской] 37\n",
       "\\end{description*}\n",
       "\n",
       "\\item[\\$marital] \\begin{description*}\n",
       "\\item[Женат] 26\n",
       "\\item[Одинокий] 38\n",
       "\\end{description*}\n",
       "\n",
       "\\item[\\$agecat] \\begin{description*}\n",
       "\\item[<31] 32\n",
       "\\item[31-45] 12\n",
       "\\item[46-58] 8\n",
       "\\item[59-70] 1\n",
       "\\item[71+] 11\n",
       "\\end{description*}\n",
       "\n",
       "\\end{description}\n"
      ],
      "text/markdown": [
       "$longdist\n",
       ":   &amp;lt;2\n",
       ":   1215-20\n",
       ":   252-8\n",
       ":   1121+\n",
       ":   59-14\n",
       ":   11\n",
       "\n",
       "\n",
       "$local\n",
       ":   &amp;lt;8\n",
       ":   1021-35\n",
       ":   636-55\n",
       ":   1656+\n",
       ":   48-20\n",
       ":   26NA's\n",
       ":   2\n",
       "\n",
       "\n",
       "$int_disc\n",
       ":   Да\n",
       ":   15Нет\n",
       ":   49\n",
       "\n",
       "\n",
       "$billtype\n",
       ":   Бесплатный\n",
       ":   28Бюджетный\n",
       ":   36\n",
       "\n",
       "\n",
       "$pay\n",
       ":   Auto\n",
       ":   17CC\n",
       ":   38CH\n",
       ":   9\n",
       "\n",
       "\n",
       "$gender\n",
       ":   Женский\n",
       ":   27Мужской\n",
       ":   37\n",
       "\n",
       "\n",
       "$marital\n",
       ":   Женат\n",
       ":   26Одинокий\n",
       ":   38\n",
       "\n",
       "\n",
       "$agecat\n",
       ":   &amp;lt;31\n",
       ":   3231-45\n",
       ":   1246-58\n",
       ":   859-70\n",
       ":   171+\n",
       ":   11\n",
       "\n",
       "\n",
       "\n",
       "\n"
      ],
      "text/plain": [
       "$longdist\n",
       "   <2 15-20   2-8   21+  9-14 \n",
       "   12    25    11     5    11 \n",
       "\n",
       "$local\n",
       "   <8 21-35 36-55   56+  8-20  NA's \n",
       "   10     6    16     4    26     2 \n",
       "\n",
       "$int_disc\n",
       " Да Нет \n",
       " 15  49 \n",
       "\n",
       "$billtype\n",
       "Бесплатный  Бюджетный \n",
       "        28         36 \n",
       "\n",
       "$pay\n",
       "Auto   CC   CH \n",
       "  17   38    9 \n",
       "\n",
       "$gender\n",
       "Женский Мужской \n",
       "     27      37 \n",
       "\n",
       "$marital\n",
       "   Женат Одинокий \n",
       "      26       38 \n",
       "\n",
       "$agecat\n",
       "  <31 31-45 46-58 59-70   71+ \n",
       "   32    12     8     1    11 \n"
      ]
     },
     "metadata": {},
     "output_type": "display_data"
    }
   ],
   "source": [
    "# проверяем наличие новых категорий, которые\n",
    "# отсутствуют в обучающей выборке\n",
    "lapply(newdata[sapply(newdata, is.factor)], \n",
    "       function(x) summary(x))"
   ]
  },
  {
   "cell_type": "code",
   "execution_count": 141,
   "metadata": {},
   "outputs": [
    {
     "data": {
      "text/html": [
       "<dl class=dl-horizontal>\n",
       "\t<dt>longdist</dt>\n",
       "\t\t<dd>0</dd>\n",
       "\t<dt>local</dt>\n",
       "\t\t<dd>2</dd>\n",
       "\t<dt>int_disc</dt>\n",
       "\t\t<dd>0</dd>\n",
       "\t<dt>billtype</dt>\n",
       "\t\t<dd>0</dd>\n",
       "\t<dt>pay</dt>\n",
       "\t\t<dd>0</dd>\n",
       "\t<dt>gender</dt>\n",
       "\t\t<dd>0</dd>\n",
       "\t<dt>marital</dt>\n",
       "\t\t<dd>0</dd>\n",
       "\t<dt>income</dt>\n",
       "\t\t<dd>2</dd>\n",
       "\t<dt>agecat</dt>\n",
       "\t\t<dd>0</dd>\n",
       "</dl>\n"
      ],
      "text/latex": [
       "\\begin{description*}\n",
       "\\item[longdist] 0\n",
       "\\item[local] 2\n",
       "\\item[int\\textbackslash{}\\_disc] 0\n",
       "\\item[billtype] 0\n",
       "\\item[pay] 0\n",
       "\\item[gender] 0\n",
       "\\item[marital] 0\n",
       "\\item[income] 2\n",
       "\\item[agecat] 0\n",
       "\\end{description*}\n"
      ],
      "text/markdown": [
       "longdist\n",
       ":   0local\n",
       ":   2int_disc\n",
       ":   0billtype\n",
       ":   0pay\n",
       ":   0gender\n",
       ":   0marital\n",
       ":   0income\n",
       ":   2agecat\n",
       ":   0\n",
       "\n"
      ],
      "text/plain": [
       "longdist    local int_disc billtype      pay   gender  marital   income \n",
       "       0        2        0        0        0        0        0        2 \n",
       "  agecat \n",
       "       0 "
      ]
     },
     "metadata": {},
     "output_type": "display_data"
    }
   ],
   "source": [
    "# проверяем наличие пропусков\n",
    "sapply(newdata, function(x) sum(is.na(x)))"
   ]
  },
  {
   "cell_type": "code",
   "execution_count": 142,
   "metadata": {},
   "outputs": [],
   "source": [
    "# импутируем пропуски\n",
    "newdata$income[is.na(newdata$income)] <- mean(newdata$income, na.rm = TRUE)\n",
    "newdata <- impute(newdata, method = \"median/mode\")"
   ]
  },
  {
   "cell_type": "code",
   "execution_count": 143,
   "metadata": {},
   "outputs": [],
   "source": [
    "# преобразовываем переменные longdist, local, \n",
    "# agecat в упорядоченные факторы\n",
    "newdata$longdist <- ordered(newdata$longdist, \n",
    "                                levels = c(\"<2\", \"2-8\", \"9-14\", \"15-20\", \"21+\"))\n",
    "newdata$local <- ordered(newdata$local, \n",
    "                             levels = c(\"<8\", \"8-20\", \"21-35\", \"36-55\", \"56+\"))\n",
    "newdata$agecat <- ordered(newdata$agecat, \n",
    "                              levels = c(\"<31\", \"31-45\", \"46-58\", \"59-70\", \"71+\"))"
   ]
  },
  {
   "cell_type": "code",
   "execution_count": 144,
   "metadata": {},
   "outputs": [],
   "source": [
    "# выполняем биннинг переменной income\n",
    "newdata$income <-cut(x = newdata$income, \n",
    "                     breaks = c(-Inf,11500,21000,32000,42000,\n",
    "                                50000,59000,69000,81000,\n",
    "                                91000,+Inf), \n",
    "                     include.lowest = TRUE, \n",
    "                     ordered_result = TRUE)"
   ]
  },
  {
   "cell_type": "code",
   "execution_count": 145,
   "metadata": {},
   "outputs": [],
   "source": [
    "# вычисляем вероятности для новых данных\n",
    "newdata_score <- predict(chd_best, newdata, type = \"prob\")"
   ]
  },
  {
   "cell_type": "code",
   "execution_count": 146,
   "metadata": {},
   "outputs": [],
   "source": [
    "# записываем датафрейм results, содержащий \n",
    "# новые данные и вычисленные вероятности\n",
    "results <-data.frame(newdata, result = newdata_score)"
   ]
  },
  {
   "cell_type": "code",
   "execution_count": 147,
   "metadata": {},
   "outputs": [],
   "source": [
    "# записываем на основе датафрейма results\n",
    "# одноименный CSV-файл\n",
    "write.csv(results, \"C:/Trees/Temp/results.csv\")"
   ]
  },
  {
   "cell_type": "code",
   "execution_count": 148,
   "metadata": {},
   "outputs": [
    {
     "name": "stderr",
     "output_type": "stream",
     "text": [
      "Loading required package: rJava\n",
      "Loading required package: xlsxjars\n"
     ]
    }
   ],
   "source": [
    "# записываем на основе датафрейма results\n",
    "# одноименный XLS-файл\n",
    "library(xlsx)\n",
    "library(rJava)\n",
    "write.xlsx2(results, \"C:/Trees/Temp/results.xlsx\")"
   ]
  },
  {
   "cell_type": "code",
   "execution_count": null,
   "metadata": {},
   "outputs": [],
   "source": []
  }
 ],
 "metadata": {
  "kernelspec": {
   "display_name": "R",
   "language": "R",
   "name": "ir"
  },
  "language_info": {
   "codemirror_mode": "r",
   "file_extension": ".r",
   "mimetype": "text/x-r-source",
   "name": "R",
   "pygments_lexer": "r",
   "version": "3.4.3"
  }
 },
 "nbformat": 4,
 "nbformat_minor": 2
}
